{
  "nbformat": 4,
  "nbformat_minor": 0,
  "metadata": {
    "colab": {
      "name": "Titanic_4.ipynb",
      "provenance": []
    },
    "kernelspec": {
      "name": "python3",
      "display_name": "Python 3"
    },
    "language_info": {
      "name": "python"
    }
  },
  "cells": [
    {
      "cell_type": "markdown",
      "metadata": {
        "id": "wu2q0zkNggV6"
      },
      "source": [
        "#TITANIC PROJECT"
      ]
    },
    {
      "cell_type": "code",
      "metadata": {
        "colab": {
          "resources": {
            "http://localhost:8080/nbextensions/google.colab/files.js": {
              "data": "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",
              "ok": true,
              "headers": [
                [
                  "content-type",
                  "application/javascript"
                ]
              ],
              "status": 200,
              "status_text": ""
            }
          },
          "base_uri": "https://localhost:8080/",
          "height": 160
        },
        "id": "bArR72f5gdLb",
        "outputId": "b4f3c010-ba8d-49d1-913b-61f1471b827e"
      },
      "source": [
        "# import file ke google colab\n",
        "from google.colab import files\n",
        "\n",
        "# upload file\n",
        "files.upload()"
      ],
      "execution_count": 1,
      "outputs": [
        {
          "output_type": "display_data",
          "data": {
            "text/html": [
              "\n",
              "     <input type=\"file\" id=\"files-1ae42a86-2a29-4911-80a7-ec2caa3a1637\" name=\"files[]\" multiple disabled\n",
              "        style=\"border:none\" />\n",
              "     <output id=\"result-1ae42a86-2a29-4911-80a7-ec2caa3a1637\">\n",
              "      Upload widget is only available when the cell has been executed in the\n",
              "      current browser session. Please rerun this cell to enable.\n",
              "      </output>\n",
              "      <script src=\"/nbextensions/google.colab/files.js\"></script> "
            ],
            "text/plain": [
              "<IPython.core.display.HTML object>"
            ]
          },
          "metadata": {
            "tags": []
          }
        },
        {
          "output_type": "stream",
          "text": [
            "Saving test.csv to test.csv\n",
            "Saving train.csv to train.csv\n"
          ],
          "name": "stdout"
        },
        {
          "output_type": "execute_result",
          "data": {
            "text/plain": [
              "{'test.csv': b'PassengerId,Pclass,Name,Sex,Age,SibSp,Parch,Ticket,Fare,Cabin,Embarked\\r\\n892,3,\"Kelly, Mr. James\",male,34.5,0,0,330911,7.8292,,Q\\r\\n893,3,\"Wilkes, Mrs. James (Ellen Needs)\",female,47,1,0,363272,7,,S\\r\\n894,2,\"Myles, Mr. Thomas Francis\",male,62,0,0,240276,9.6875,,Q\\r\\n895,3,\"Wirz, Mr. Albert\",male,27,0,0,315154,8.6625,,S\\r\\n896,3,\"Hirvonen, Mrs. Alexander (Helga E Lindqvist)\",female,22,1,1,3101298,12.2875,,S\\r\\n897,3,\"Svensson, Mr. Johan Cervin\",male,14,0,0,7538,9.225,,S\\r\\n898,3,\"Connolly, Miss. Kate\",female,30,0,0,330972,7.6292,,Q\\r\\n899,2,\"Caldwell, Mr. Albert Francis\",male,26,1,1,248738,29,,S\\r\\n900,3,\"Abrahim, Mrs. Joseph (Sophie Halaut Easu)\",female,18,0,0,2657,7.2292,,C\\r\\n901,3,\"Davies, Mr. John Samuel\",male,21,2,0,A/4 48871,24.15,,S\\r\\n902,3,\"Ilieff, Mr. Ylio\",male,,0,0,349220,7.8958,,S\\r\\n903,1,\"Jones, Mr. Charles Cresson\",male,46,0,0,694,26,,S\\r\\n904,1,\"Snyder, Mrs. John Pillsbury (Nelle Stevenson)\",female,23,1,0,21228,82.2667,B45,S\\r\\n905,2,\"Howard, Mr. Benjamin\",male,63,1,0,24065,26,,S\\r\\n906,1,\"Chaffee, Mrs. Herbert Fuller (Carrie Constance Toogood)\",female,47,1,0,W.E.P. 5734,61.175,E31,S\\r\\n907,2,\"del Carlo, Mrs. Sebastiano (Argenia Genovesi)\",female,24,1,0,SC/PARIS 2167,27.7208,,C\\r\\n908,2,\"Keane, Mr. Daniel\",male,35,0,0,233734,12.35,,Q\\r\\n909,3,\"Assaf, Mr. Gerios\",male,21,0,0,2692,7.225,,C\\r\\n910,3,\"Ilmakangas, Miss. Ida Livija\",female,27,1,0,STON/O2. 3101270,7.925,,S\\r\\n911,3,\"Assaf Khalil, Mrs. Mariana (Miriam\"\")\"\"\",female,45,0,0,2696,7.225,,C\\r\\n912,1,\"Rothschild, Mr. Martin\",male,55,1,0,PC 17603,59.4,,C\\r\\n913,3,\"Olsen, Master. Artur Karl\",male,9,0,1,C 17368,3.1708,,S\\r\\n914,1,\"Flegenheim, Mrs. Alfred (Antoinette)\",female,,0,0,PC 17598,31.6833,,S\\r\\n915,1,\"Williams, Mr. Richard Norris II\",male,21,0,1,PC 17597,61.3792,,C\\r\\n916,1,\"Ryerson, Mrs. Arthur Larned (Emily Maria Borie)\",female,48,1,3,PC 17608,262.375,B57 B59 B63 B66,C\\r\\n917,3,\"Robins, Mr. Alexander A\",male,50,1,0,A/5. 3337,14.5,,S\\r\\n918,1,\"Ostby, Miss. Helene Ragnhild\",female,22,0,1,113509,61.9792,B36,C\\r\\n919,3,\"Daher, Mr. Shedid\",male,22.5,0,0,2698,7.225,,C\\r\\n920,1,\"Brady, Mr. John Bertram\",male,41,0,0,113054,30.5,A21,S\\r\\n921,3,\"Samaan, Mr. Elias\",male,,2,0,2662,21.6792,,C\\r\\n922,2,\"Louch, Mr. Charles Alexander\",male,50,1,0,SC/AH 3085,26,,S\\r\\n923,2,\"Jefferys, Mr. Clifford Thomas\",male,24,2,0,C.A. 31029,31.5,,S\\r\\n924,3,\"Dean, Mrs. Bertram (Eva Georgetta Light)\",female,33,1,2,C.A. 2315,20.575,,S\\r\\n925,3,\"Johnston, Mrs. Andrew G (Elizabeth Lily\"\" Watson)\"\"\",female,,1,2,W./C. 6607,23.45,,S\\r\\n926,1,\"Mock, Mr. Philipp Edmund\",male,30,1,0,13236,57.75,C78,C\\r\\n927,3,\"Katavelas, Mr. Vassilios (Catavelas Vassilios\"\")\"\"\",male,18.5,0,0,2682,7.2292,,C\\r\\n928,3,\"Roth, Miss. Sarah A\",female,,0,0,342712,8.05,,S\\r\\n929,3,\"Cacic, Miss. Manda\",female,21,0,0,315087,8.6625,,S\\r\\n930,3,\"Sap, Mr. Julius\",male,25,0,0,345768,9.5,,S\\r\\n931,3,\"Hee, Mr. Ling\",male,,0,0,1601,56.4958,,S\\r\\n932,3,\"Karun, Mr. Franz\",male,39,0,1,349256,13.4167,,C\\r\\n933,1,\"Franklin, Mr. Thomas Parham\",male,,0,0,113778,26.55,D34,S\\r\\n934,3,\"Goldsmith, Mr. Nathan\",male,41,0,0,SOTON/O.Q. 3101263,7.85,,S\\r\\n935,2,\"Corbett, Mrs. Walter H (Irene Colvin)\",female,30,0,0,237249,13,,S\\r\\n936,1,\"Kimball, Mrs. Edwin Nelson Jr (Gertrude Parsons)\",female,45,1,0,11753,52.5542,D19,S\\r\\n937,3,\"Peltomaki, Mr. Nikolai Johannes\",male,25,0,0,STON/O 2. 3101291,7.925,,S\\r\\n938,1,\"Chevre, Mr. Paul Romaine\",male,45,0,0,PC 17594,29.7,A9,C\\r\\n939,3,\"Shaughnessy, Mr. Patrick\",male,,0,0,370374,7.75,,Q\\r\\n940,1,\"Bucknell, Mrs. William Robert (Emma Eliza Ward)\",female,60,0,0,11813,76.2917,D15,C\\r\\n941,3,\"Coutts, Mrs. William (Winnie Minnie\"\" Treanor)\"\"\",female,36,0,2,C.A. 37671,15.9,,S\\r\\n942,1,\"Smith, Mr. Lucien Philip\",male,24,1,0,13695,60,C31,S\\r\\n943,2,\"Pulbaum, Mr. Franz\",male,27,0,0,SC/PARIS 2168,15.0333,,C\\r\\n944,2,\"Hocking, Miss. Ellen Nellie\"\"\"\"\",female,20,2,1,29105,23,,S\\r\\n945,1,\"Fortune, Miss. Ethel Flora\",female,28,3,2,19950,263,C23 C25 C27,S\\r\\n946,2,\"Mangiavacchi, Mr. Serafino Emilio\",male,,0,0,SC/A.3 2861,15.5792,,C\\r\\n947,3,\"Rice, Master. Albert\",male,10,4,1,382652,29.125,,Q\\r\\n948,3,\"Cor, Mr. Bartol\",male,35,0,0,349230,7.8958,,S\\r\\n949,3,\"Abelseth, Mr. Olaus Jorgensen\",male,25,0,0,348122,7.65,F G63,S\\r\\n950,3,\"Davison, Mr. Thomas Henry\",male,,1,0,386525,16.1,,S\\r\\n951,1,\"Chaudanson, Miss. Victorine\",female,36,0,0,PC 17608,262.375,B61,C\\r\\n952,3,\"Dika, Mr. Mirko\",male,17,0,0,349232,7.8958,,S\\r\\n953,2,\"McCrae, Mr. Arthur Gordon\",male,32,0,0,237216,13.5,,S\\r\\n954,3,\"Bjorklund, Mr. Ernst Herbert\",male,18,0,0,347090,7.75,,S\\r\\n955,3,\"Bradley, Miss. Bridget Delia\",female,22,0,0,334914,7.725,,Q\\r\\n956,1,\"Ryerson, Master. John Borie\",male,13,2,2,PC 17608,262.375,B57 B59 B63 B66,C\\r\\n957,2,\"Corey, Mrs. Percy C (Mary Phyllis Elizabeth Miller)\",female,,0,0,F.C.C. 13534,21,,S\\r\\n958,3,\"Burns, Miss. Mary Delia\",female,18,0,0,330963,7.8792,,Q\\r\\n959,1,\"Moore, Mr. Clarence Bloomfield\",male,47,0,0,113796,42.4,,S\\r\\n960,1,\"Tucker, Mr. Gilbert Milligan Jr\",male,31,0,0,2543,28.5375,C53,C\\r\\n961,1,\"Fortune, Mrs. Mark (Mary McDougald)\",female,60,1,4,19950,263,C23 C25 C27,S\\r\\n962,3,\"Mulvihill, Miss. Bertha E\",female,24,0,0,382653,7.75,,Q\\r\\n963,3,\"Minkoff, Mr. Lazar\",male,21,0,0,349211,7.8958,,S\\r\\n964,3,\"Nieminen, Miss. Manta Josefina\",female,29,0,0,3101297,7.925,,S\\r\\n965,1,\"Ovies y Rodriguez, Mr. Servando\",male,28.5,0,0,PC 17562,27.7208,D43,C\\r\\n966,1,\"Geiger, Miss. Amalie\",female,35,0,0,113503,211.5,C130,C\\r\\n967,1,\"Keeping, Mr. Edwin\",male,32.5,0,0,113503,211.5,C132,C\\r\\n968,3,\"Miles, Mr. Frank\",male,,0,0,359306,8.05,,S\\r\\n969,1,\"Cornell, Mrs. Robert Clifford (Malvina Helen Lamson)\",female,55,2,0,11770,25.7,C101,S\\r\\n970,2,\"Aldworth, Mr. Charles Augustus\",male,30,0,0,248744,13,,S\\r\\n971,3,\"Doyle, Miss. Elizabeth\",female,24,0,0,368702,7.75,,Q\\r\\n972,3,\"Boulos, Master. Akar\",male,6,1,1,2678,15.2458,,C\\r\\n973,1,\"Straus, Mr. Isidor\",male,67,1,0,PC 17483,221.7792,C55 C57,S\\r\\n974,1,\"Case, Mr. Howard Brown\",male,49,0,0,19924,26,,S\\r\\n975,3,\"Demetri, Mr. Marinko\",male,,0,0,349238,7.8958,,S\\r\\n976,2,\"Lamb, Mr. John Joseph\",male,,0,0,240261,10.7083,,Q\\r\\n977,3,\"Khalil, Mr. Betros\",male,,1,0,2660,14.4542,,C\\r\\n978,3,\"Barry, Miss. Julia\",female,27,0,0,330844,7.8792,,Q\\r\\n979,3,\"Badman, Miss. Emily Louisa\",female,18,0,0,A/4 31416,8.05,,S\\r\\n980,3,\"O\\'Donoghue, Ms. Bridget\",female,,0,0,364856,7.75,,Q\\r\\n981,2,\"Wells, Master. Ralph Lester\",male,2,1,1,29103,23,,S\\r\\n982,3,\"Dyker, Mrs. Adolf Fredrik (Anna Elisabeth Judith Andersson)\",female,22,1,0,347072,13.9,,S\\r\\n983,3,\"Pedersen, Mr. Olaf\",male,,0,0,345498,7.775,,S\\r\\n984,1,\"Davidson, Mrs. Thornton (Orian Hays)\",female,27,1,2,F.C. 12750,52,B71,S\\r\\n985,3,\"Guest, Mr. Robert\",male,,0,0,376563,8.05,,S\\r\\n986,1,\"Birnbaum, Mr. Jakob\",male,25,0,0,13905,26,,C\\r\\n987,3,\"Tenglin, Mr. Gunnar Isidor\",male,25,0,0,350033,7.7958,,S\\r\\n988,1,\"Cavendish, Mrs. Tyrell William (Julia Florence Siegel)\",female,76,1,0,19877,78.85,C46,S\\r\\n989,3,\"Makinen, Mr. Kalle Edvard\",male,29,0,0,STON/O 2. 3101268,7.925,,S\\r\\n990,3,\"Braf, Miss. Elin Ester Maria\",female,20,0,0,347471,7.8542,,S\\r\\n991,3,\"Nancarrow, Mr. William Henry\",male,33,0,0,A./5. 3338,8.05,,S\\r\\n992,1,\"Stengel, Mrs. Charles Emil Henry (Annie May Morris)\",female,43,1,0,11778,55.4417,C116,C\\r\\n993,2,\"Weisz, Mr. Leopold\",male,27,1,0,228414,26,,S\\r\\n994,3,\"Foley, Mr. William\",male,,0,0,365235,7.75,,Q\\r\\n995,3,\"Johansson Palmquist, Mr. Oskar Leander\",male,26,0,0,347070,7.775,,S\\r\\n996,3,\"Thomas, Mrs. Alexander (Thamine Thelma\"\")\"\"\",female,16,1,1,2625,8.5167,,C\\r\\n997,3,\"Holthen, Mr. Johan Martin\",male,28,0,0,C 4001,22.525,,S\\r\\n998,3,\"Buckley, Mr. Daniel\",male,21,0,0,330920,7.8208,,Q\\r\\n999,3,\"Ryan, Mr. Edward\",male,,0,0,383162,7.75,,Q\\r\\n1000,3,\"Willer, Mr. Aaron (Abi Weller\"\")\"\"\",male,,0,0,3410,8.7125,,S\\r\\n1001,2,\"Swane, Mr. George\",male,18.5,0,0,248734,13,F,S\\r\\n1002,2,\"Stanton, Mr. Samuel Ward\",male,41,0,0,237734,15.0458,,C\\r\\n1003,3,\"Shine, Miss. Ellen Natalia\",female,,0,0,330968,7.7792,,Q\\r\\n1004,1,\"Evans, Miss. Edith Corse\",female,36,0,0,PC 17531,31.6792,A29,C\\r\\n1005,3,\"Buckley, Miss. Katherine\",female,18.5,0,0,329944,7.2833,,Q\\r\\n1006,1,\"Straus, Mrs. Isidor (Rosalie Ida Blun)\",female,63,1,0,PC 17483,221.7792,C55 C57,S\\r\\n1007,3,\"Chronopoulos, Mr. Demetrios\",male,18,1,0,2680,14.4542,,C\\r\\n1008,3,\"Thomas, Mr. John\",male,,0,0,2681,6.4375,,C\\r\\n1009,3,\"Sandstrom, Miss. Beatrice Irene\",female,1,1,1,PP 9549,16.7,G6,S\\r\\n1010,1,\"Beattie, Mr. Thomson\",male,36,0,0,13050,75.2417,C6,C\\r\\n1011,2,\"Chapman, Mrs. John Henry (Sara Elizabeth Lawry)\",female,29,1,0,SC/AH 29037,26,,S\\r\\n1012,2,\"Watt, Miss. Bertha J\",female,12,0,0,C.A. 33595,15.75,,S\\r\\n1013,3,\"Kiernan, Mr. John\",male,,1,0,367227,7.75,,Q\\r\\n1014,1,\"Schabert, Mrs. Paul (Emma Mock)\",female,35,1,0,13236,57.75,C28,C\\r\\n1015,3,\"Carver, Mr. Alfred John\",male,28,0,0,392095,7.25,,S\\r\\n1016,3,\"Kennedy, Mr. John\",male,,0,0,368783,7.75,,Q\\r\\n1017,3,\"Cribb, Miss. Laura Alice\",female,17,0,1,371362,16.1,,S\\r\\n1018,3,\"Brobeck, Mr. Karl Rudolf\",male,22,0,0,350045,7.7958,,S\\r\\n1019,3,\"McCoy, Miss. Alicia\",female,,2,0,367226,23.25,,Q\\r\\n1020,2,\"Bowenur, Mr. Solomon\",male,42,0,0,211535,13,,S\\r\\n1021,3,\"Petersen, Mr. Marius\",male,24,0,0,342441,8.05,,S\\r\\n1022,3,\"Spinner, Mr. Henry John\",male,32,0,0,STON/OQ. 369943,8.05,,S\\r\\n1023,1,\"Gracie, Col. Archibald IV\",male,53,0,0,113780,28.5,C51,C\\r\\n1024,3,\"Lefebre, Mrs. Frank (Frances)\",female,,0,4,4133,25.4667,,S\\r\\n1025,3,\"Thomas, Mr. Charles P\",male,,1,0,2621,6.4375,,C\\r\\n1026,3,\"Dintcheff, Mr. Valtcho\",male,43,0,0,349226,7.8958,,S\\r\\n1027,3,\"Carlsson, Mr. Carl Robert\",male,24,0,0,350409,7.8542,,S\\r\\n1028,3,\"Zakarian, Mr. Mapriededer\",male,26.5,0,0,2656,7.225,,C\\r\\n1029,2,\"Schmidt, Mr. August\",male,26,0,0,248659,13,,S\\r\\n1030,3,\"Drapkin, Miss. Jennie\",female,23,0,0,SOTON/OQ 392083,8.05,,S\\r\\n1031,3,\"Goodwin, Mr. Charles Frederick\",male,40,1,6,CA 2144,46.9,,S\\r\\n1032,3,\"Goodwin, Miss. Jessie Allis\",female,10,5,2,CA 2144,46.9,,S\\r\\n1033,1,\"Daniels, Miss. Sarah\",female,33,0,0,113781,151.55,,S\\r\\n1034,1,\"Ryerson, Mr. Arthur Larned\",male,61,1,3,PC 17608,262.375,B57 B59 B63 B66,C\\r\\n1035,2,\"Beauchamp, Mr. Henry James\",male,28,0,0,244358,26,,S\\r\\n1036,1,\"Lindeberg-Lind, Mr. Erik Gustaf (Mr Edward Lingrey\"\")\"\"\",male,42,0,0,17475,26.55,,S\\r\\n1037,3,\"Vander Planke, Mr. Julius\",male,31,3,0,345763,18,,S\\r\\n1038,1,\"Hilliard, Mr. Herbert Henry\",male,,0,0,17463,51.8625,E46,S\\r\\n1039,3,\"Davies, Mr. Evan\",male,22,0,0,SC/A4 23568,8.05,,S\\r\\n1040,1,\"Crafton, Mr. John Bertram\",male,,0,0,113791,26.55,,S\\r\\n1041,2,\"Lahtinen, Rev. William\",male,30,1,1,250651,26,,S\\r\\n1042,1,\"Earnshaw, Mrs. Boulton (Olive Potter)\",female,23,0,1,11767,83.1583,C54,C\\r\\n1043,3,\"Matinoff, Mr. Nicola\",male,,0,0,349255,7.8958,,C\\r\\n1044,3,\"Storey, Mr. Thomas\",male,60.5,0,0,3701,,,S\\r\\n1045,3,\"Klasen, Mrs. (Hulda Kristina Eugenia Lofqvist)\",female,36,0,2,350405,12.1833,,S\\r\\n1046,3,\"Asplund, Master. Filip Oscar\",male,13,4,2,347077,31.3875,,S\\r\\n1047,3,\"Duquemin, Mr. Joseph\",male,24,0,0,S.O./P.P. 752,7.55,,S\\r\\n1048,1,\"Bird, Miss. Ellen\",female,29,0,0,PC 17483,221.7792,C97,S\\r\\n1049,3,\"Lundin, Miss. Olga Elida\",female,23,0,0,347469,7.8542,,S\\r\\n1050,1,\"Borebank, Mr. John James\",male,42,0,0,110489,26.55,D22,S\\r\\n1051,3,\"Peacock, Mrs. Benjamin (Edith Nile)\",female,26,0,2,SOTON/O.Q. 3101315,13.775,,S\\r\\n1052,3,\"Smyth, Miss. Julia\",female,,0,0,335432,7.7333,,Q\\r\\n1053,3,\"Touma, Master. Georges Youssef\",male,7,1,1,2650,15.2458,,C\\r\\n1054,2,\"Wright, Miss. Marion\",female,26,0,0,220844,13.5,,S\\r\\n1055,3,\"Pearce, Mr. Ernest\",male,,0,0,343271,7,,S\\r\\n1056,2,\"Peruschitz, Rev. Joseph Maria\",male,41,0,0,237393,13,,S\\r\\n1057,3,\"Kink-Heilmann, Mrs. Anton (Luise Heilmann)\",female,26,1,1,315153,22.025,,S\\r\\n1058,1,\"Brandeis, Mr. Emil\",male,48,0,0,PC 17591,50.4958,B10,C\\r\\n1059,3,\"Ford, Mr. Edward Watson\",male,18,2,2,W./C. 6608,34.375,,S\\r\\n1060,1,\"Cassebeer, Mrs. Henry Arthur Jr (Eleanor Genevieve Fosdick)\",female,,0,0,17770,27.7208,,C\\r\\n1061,3,\"Hellstrom, Miss. Hilda Maria\",female,22,0,0,7548,8.9625,,S\\r\\n1062,3,\"Lithman, Mr. Simon\",male,,0,0,S.O./P.P. 251,7.55,,S\\r\\n1063,3,\"Zakarian, Mr. Ortin\",male,27,0,0,2670,7.225,,C\\r\\n1064,3,\"Dyker, Mr. Adolf Fredrik\",male,23,1,0,347072,13.9,,S\\r\\n1065,3,\"Torfa, Mr. Assad\",male,,0,0,2673,7.2292,,C\\r\\n1066,3,\"Asplund, Mr. Carl Oscar Vilhelm Gustafsson\",male,40,1,5,347077,31.3875,,S\\r\\n1067,2,\"Brown, Miss. Edith Eileen\",female,15,0,2,29750,39,,S\\r\\n1068,2,\"Sincock, Miss. Maude\",female,20,0,0,C.A. 33112,36.75,,S\\r\\n1069,1,\"Stengel, Mr. Charles Emil Henry\",male,54,1,0,11778,55.4417,C116,C\\r\\n1070,2,\"Becker, Mrs. Allen Oliver (Nellie E Baumgardner)\",female,36,0,3,230136,39,F4,S\\r\\n1071,1,\"Compton, Mrs. Alexander Taylor (Mary Eliza Ingersoll)\",female,64,0,2,PC 17756,83.1583,E45,C\\r\\n1072,2,\"McCrie, Mr. James Matthew\",male,30,0,0,233478,13,,S\\r\\n1073,1,\"Compton, Mr. Alexander Taylor Jr\",male,37,1,1,PC 17756,83.1583,E52,C\\r\\n1074,1,\"Marvin, Mrs. Daniel Warner (Mary Graham Carmichael Farquarson)\",female,18,1,0,113773,53.1,D30,S\\r\\n1075,3,\"Lane, Mr. Patrick\",male,,0,0,7935,7.75,,Q\\r\\n1076,1,\"Douglas, Mrs. Frederick Charles (Mary Helene Baxter)\",female,27,1,1,PC 17558,247.5208,B58 B60,C\\r\\n1077,2,\"Maybery, Mr. Frank Hubert\",male,40,0,0,239059,16,,S\\r\\n1078,2,\"Phillips, Miss. Alice Frances Louisa\",female,21,0,1,S.O./P.P. 2,21,,S\\r\\n1079,3,\"Davies, Mr. Joseph\",male,17,2,0,A/4 48873,8.05,,S\\r\\n1080,3,\"Sage, Miss. Ada\",female,,8,2,CA. 2343,69.55,,S\\r\\n1081,2,\"Veal, Mr. James\",male,40,0,0,28221,13,,S\\r\\n1082,2,\"Angle, Mr. William A\",male,34,1,0,226875,26,,S\\r\\n1083,1,\"Salomon, Mr. Abraham L\",male,,0,0,111163,26,,S\\r\\n1084,3,\"van Billiard, Master. Walter John\",male,11.5,1,1,A/5. 851,14.5,,S\\r\\n1085,2,\"Lingane, Mr. John\",male,61,0,0,235509,12.35,,Q\\r\\n1086,2,\"Drew, Master. Marshall Brines\",male,8,0,2,28220,32.5,,S\\r\\n1087,3,\"Karlsson, Mr. Julius Konrad Eugen\",male,33,0,0,347465,7.8542,,S\\r\\n1088,1,\"Spedden, Master. Robert Douglas\",male,6,0,2,16966,134.5,E34,C\\r\\n1089,3,\"Nilsson, Miss. Berta Olivia\",female,18,0,0,347066,7.775,,S\\r\\n1090,2,\"Baimbrigge, Mr. Charles Robert\",male,23,0,0,C.A. 31030,10.5,,S\\r\\n1091,3,\"Rasmussen, Mrs. (Lena Jacobsen Solvang)\",female,,0,0,65305,8.1125,,S\\r\\n1092,3,\"Murphy, Miss. Nora\",female,,0,0,36568,15.5,,Q\\r\\n1093,3,\"Danbom, Master. Gilbert Sigvard Emanuel\",male,0.33,0,2,347080,14.4,,S\\r\\n1094,1,\"Astor, Col. John Jacob\",male,47,1,0,PC 17757,227.525,C62 C64,C\\r\\n1095,2,\"Quick, Miss. Winifred Vera\",female,8,1,1,26360,26,,S\\r\\n1096,2,\"Andrew, Mr. Frank Thomas\",male,25,0,0,C.A. 34050,10.5,,S\\r\\n1097,1,\"Omont, Mr. Alfred Fernand\",male,,0,0,F.C. 12998,25.7417,,C\\r\\n1098,3,\"McGowan, Miss. Katherine\",female,35,0,0,9232,7.75,,Q\\r\\n1099,2,\"Collett, Mr. Sidney C Stuart\",male,24,0,0,28034,10.5,,S\\r\\n1100,1,\"Rosenbaum, Miss. Edith Louise\",female,33,0,0,PC 17613,27.7208,A11,C\\r\\n1101,3,\"Delalic, Mr. Redjo\",male,25,0,0,349250,7.8958,,S\\r\\n1102,3,\"Andersen, Mr. Albert Karvin\",male,32,0,0,C 4001,22.525,,S\\r\\n1103,3,\"Finoli, Mr. Luigi\",male,,0,0,SOTON/O.Q. 3101308,7.05,,S\\r\\n1104,2,\"Deacon, Mr. Percy William\",male,17,0,0,S.O.C. 14879,73.5,,S\\r\\n1105,2,\"Howard, Mrs. Benjamin (Ellen Truelove Arman)\",female,60,1,0,24065,26,,S\\r\\n1106,3,\"Andersson, Miss. Ida Augusta Margareta\",female,38,4,2,347091,7.775,,S\\r\\n1107,1,\"Head, Mr. Christopher\",male,42,0,0,113038,42.5,B11,S\\r\\n1108,3,\"Mahon, Miss. Bridget Delia\",female,,0,0,330924,7.8792,,Q\\r\\n1109,1,\"Wick, Mr. George Dennick\",male,57,1,1,36928,164.8667,,S\\r\\n1110,1,\"Widener, Mrs. George Dunton (Eleanor Elkins)\",female,50,1,1,113503,211.5,C80,C\\r\\n1111,3,\"Thomson, Mr. Alexander Morrison\",male,,0,0,32302,8.05,,S\\r\\n1112,2,\"Duran y More, Miss. Florentina\",female,30,1,0,SC/PARIS 2148,13.8583,,C\\r\\n1113,3,\"Reynolds, Mr. Harold J\",male,21,0,0,342684,8.05,,S\\r\\n1114,2,\"Cook, Mrs. (Selena Rogers)\",female,22,0,0,W./C. 14266,10.5,F33,S\\r\\n1115,3,\"Karlsson, Mr. Einar Gervasius\",male,21,0,0,350053,7.7958,,S\\r\\n1116,1,\"Candee, Mrs. Edward (Helen Churchill Hungerford)\",female,53,0,0,PC 17606,27.4458,,C\\r\\n1117,3,\"Moubarek, Mrs. George (Omine Amenia\"\" Alexander)\"\"\",female,,0,2,2661,15.2458,,C\\r\\n1118,3,\"Asplund, Mr. Johan Charles\",male,23,0,0,350054,7.7958,,S\\r\\n1119,3,\"McNeill, Miss. Bridget\",female,,0,0,370368,7.75,,Q\\r\\n1120,3,\"Everett, Mr. Thomas James\",male,40.5,0,0,C.A. 6212,15.1,,S\\r\\n1121,2,\"Hocking, Mr. Samuel James Metcalfe\",male,36,0,0,242963,13,,S\\r\\n1122,2,\"Sweet, Mr. George Frederick\",male,14,0,0,220845,65,,S\\r\\n1123,1,\"Willard, Miss. Constance\",female,21,0,0,113795,26.55,,S\\r\\n1124,3,\"Wiklund, Mr. Karl Johan\",male,21,1,0,3101266,6.4958,,S\\r\\n1125,3,\"Linehan, Mr. Michael\",male,,0,0,330971,7.8792,,Q\\r\\n1126,1,\"Cumings, Mr. John Bradley\",male,39,1,0,PC 17599,71.2833,C85,C\\r\\n1127,3,\"Vendel, Mr. Olof Edvin\",male,20,0,0,350416,7.8542,,S\\r\\n1128,1,\"Warren, Mr. Frank Manley\",male,64,1,0,110813,75.25,D37,C\\r\\n1129,3,\"Baccos, Mr. Raffull\",male,20,0,0,2679,7.225,,C\\r\\n1130,2,\"Hiltunen, Miss. Marta\",female,18,1,1,250650,13,,S\\r\\n1131,1,\"Douglas, Mrs. Walter Donald (Mahala Dutton)\",female,48,1,0,PC 17761,106.425,C86,C\\r\\n1132,1,\"Lindstrom, Mrs. Carl Johan (Sigrid Posse)\",female,55,0,0,112377,27.7208,,C\\r\\n1133,2,\"Christy, Mrs. (Alice Frances)\",female,45,0,2,237789,30,,S\\r\\n1134,1,\"Spedden, Mr. Frederic Oakley\",male,45,1,1,16966,134.5,E34,C\\r\\n1135,3,\"Hyman, Mr. Abraham\",male,,0,0,3470,7.8875,,S\\r\\n1136,3,\"Johnston, Master. William Arthur Willie\"\"\"\"\",male,,1,2,W./C. 6607,23.45,,S\\r\\n1137,1,\"Kenyon, Mr. Frederick R\",male,41,1,0,17464,51.8625,D21,S\\r\\n1138,2,\"Karnes, Mrs. J Frank (Claire Bennett)\",female,22,0,0,F.C.C. 13534,21,,S\\r\\n1139,2,\"Drew, Mr. James Vivian\",male,42,1,1,28220,32.5,,S\\r\\n1140,2,\"Hold, Mrs. Stephen (Annie Margaret Hill)\",female,29,1,0,26707,26,,S\\r\\n1141,3,\"Khalil, Mrs. Betros (Zahie Maria\"\" Elias)\"\"\",female,,1,0,2660,14.4542,,C\\r\\n1142,2,\"West, Miss. Barbara J\",female,0.92,1,2,C.A. 34651,27.75,,S\\r\\n1143,3,\"Abrahamsson, Mr. Abraham August Johannes\",male,20,0,0,SOTON/O2 3101284,7.925,,S\\r\\n1144,1,\"Clark, Mr. Walter Miller\",male,27,1,0,13508,136.7792,C89,C\\r\\n1145,3,\"Salander, Mr. Karl Johan\",male,24,0,0,7266,9.325,,S\\r\\n1146,3,\"Wenzel, Mr. Linhart\",male,32.5,0,0,345775,9.5,,S\\r\\n1147,3,\"MacKay, Mr. George William\",male,,0,0,C.A. 42795,7.55,,S\\r\\n1148,3,\"Mahon, Mr. John\",male,,0,0,AQ/4 3130,7.75,,Q\\r\\n1149,3,\"Niklasson, Mr. Samuel\",male,28,0,0,363611,8.05,,S\\r\\n1150,2,\"Bentham, Miss. Lilian W\",female,19,0,0,28404,13,,S\\r\\n1151,3,\"Midtsjo, Mr. Karl Albert\",male,21,0,0,345501,7.775,,S\\r\\n1152,3,\"de Messemaeker, Mr. Guillaume Joseph\",male,36.5,1,0,345572,17.4,,S\\r\\n1153,3,\"Nilsson, Mr. August Ferdinand\",male,21,0,0,350410,7.8542,,S\\r\\n1154,2,\"Wells, Mrs. Arthur Henry (Addie\"\" Dart Trevaskis)\"\"\",female,29,0,2,29103,23,,S\\r\\n1155,3,\"Klasen, Miss. Gertrud Emilia\",female,1,1,1,350405,12.1833,,S\\r\\n1156,2,\"Portaluppi, Mr. Emilio Ilario Giuseppe\",male,30,0,0,C.A. 34644,12.7375,,C\\r\\n1157,3,\"Lyntakoff, Mr. Stanko\",male,,0,0,349235,7.8958,,S\\r\\n1158,1,\"Chisholm, Mr. Roderick Robert Crispin\",male,,0,0,112051,0,,S\\r\\n1159,3,\"Warren, Mr. Charles William\",male,,0,0,C.A. 49867,7.55,,S\\r\\n1160,3,\"Howard, Miss. May Elizabeth\",female,,0,0,A. 2. 39186,8.05,,S\\r\\n1161,3,\"Pokrnic, Mr. Mate\",male,17,0,0,315095,8.6625,,S\\r\\n1162,1,\"McCaffry, Mr. Thomas Francis\",male,46,0,0,13050,75.2417,C6,C\\r\\n1163,3,\"Fox, Mr. Patrick\",male,,0,0,368573,7.75,,Q\\r\\n1164,1,\"Clark, Mrs. Walter Miller (Virginia McDowell)\",female,26,1,0,13508,136.7792,C89,C\\r\\n1165,3,\"Lennon, Miss. Mary\",female,,1,0,370371,15.5,,Q\\r\\n1166,3,\"Saade, Mr. Jean Nassr\",male,,0,0,2676,7.225,,C\\r\\n1167,2,\"Bryhl, Miss. Dagmar Jenny Ingeborg \",female,20,1,0,236853,26,,S\\r\\n1168,2,\"Parker, Mr. Clifford Richard\",male,28,0,0,SC 14888,10.5,,S\\r\\n1169,2,\"Faunthorpe, Mr. Harry\",male,40,1,0,2926,26,,S\\r\\n1170,2,\"Ware, Mr. John James\",male,30,1,0,CA 31352,21,,S\\r\\n1171,2,\"Oxenham, Mr. Percy Thomas\",male,22,0,0,W./C. 14260,10.5,,S\\r\\n1172,3,\"Oreskovic, Miss. Jelka\",female,23,0,0,315085,8.6625,,S\\r\\n1173,3,\"Peacock, Master. Alfred Edward\",male,0.75,1,1,SOTON/O.Q. 3101315,13.775,,S\\r\\n1174,3,\"Fleming, Miss. Honora\",female,,0,0,364859,7.75,,Q\\r\\n1175,3,\"Touma, Miss. Maria Youssef\",female,9,1,1,2650,15.2458,,C\\r\\n1176,3,\"Rosblom, Miss. Salli Helena\",female,2,1,1,370129,20.2125,,S\\r\\n1177,3,\"Dennis, Mr. William\",male,36,0,0,A/5 21175,7.25,,S\\r\\n1178,3,\"Franklin, Mr. Charles (Charles Fardon)\",male,,0,0,SOTON/O.Q. 3101314,7.25,,S\\r\\n1179,1,\"Snyder, Mr. John Pillsbury\",male,24,1,0,21228,82.2667,B45,S\\r\\n1180,3,\"Mardirosian, Mr. Sarkis\",male,,0,0,2655,7.2292,F E46,C\\r\\n1181,3,\"Ford, Mr. Arthur\",male,,0,0,A/5 1478,8.05,,S\\r\\n1182,1,\"Rheims, Mr. George Alexander Lucien\",male,,0,0,PC 17607,39.6,,S\\r\\n1183,3,\"Daly, Miss. Margaret Marcella Maggie\"\"\"\"\",female,30,0,0,382650,6.95,,Q\\r\\n1184,3,\"Nasr, Mr. Mustafa\",male,,0,0,2652,7.2292,,C\\r\\n1185,1,\"Dodge, Dr. Washington\",male,53,1,1,33638,81.8583,A34,S\\r\\n1186,3,\"Wittevrongel, Mr. Camille\",male,36,0,0,345771,9.5,,S\\r\\n1187,3,\"Angheloff, Mr. Minko\",male,26,0,0,349202,7.8958,,S\\r\\n1188,2,\"Laroche, Miss. Louise\",female,1,1,2,SC/Paris 2123,41.5792,,C\\r\\n1189,3,\"Samaan, Mr. Hanna\",male,,2,0,2662,21.6792,,C\\r\\n1190,1,\"Loring, Mr. Joseph Holland\",male,30,0,0,113801,45.5,,S\\r\\n1191,3,\"Johansson, Mr. Nils\",male,29,0,0,347467,7.8542,,S\\r\\n1192,3,\"Olsson, Mr. Oscar Wilhelm\",male,32,0,0,347079,7.775,,S\\r\\n1193,2,\"Malachard, Mr. Noel\",male,,0,0,237735,15.0458,D,C\\r\\n1194,2,\"Phillips, Mr. Escott Robert\",male,43,0,1,S.O./P.P. 2,21,,S\\r\\n1195,3,\"Pokrnic, Mr. Tome\",male,24,0,0,315092,8.6625,,S\\r\\n1196,3,\"McCarthy, Miss. Catherine Katie\"\"\"\"\",female,,0,0,383123,7.75,,Q\\r\\n1197,1,\"Crosby, Mrs. Edward Gifford (Catherine Elizabeth Halstead)\",female,64,1,1,112901,26.55,B26,S\\r\\n1198,1,\"Allison, Mr. Hudson Joshua Creighton\",male,30,1,2,113781,151.55,C22 C26,S\\r\\n1199,3,\"Aks, Master. Philip Frank\",male,0.83,0,1,392091,9.35,,S\\r\\n1200,1,\"Hays, Mr. Charles Melville\",male,55,1,1,12749,93.5,B69,S\\r\\n1201,3,\"Hansen, Mrs. Claus Peter (Jennie L Howard)\",female,45,1,0,350026,14.1083,,S\\r\\n1202,3,\"Cacic, Mr. Jego Grga\",male,18,0,0,315091,8.6625,,S\\r\\n1203,3,\"Vartanian, Mr. David\",male,22,0,0,2658,7.225,,C\\r\\n1204,3,\"Sadowitz, Mr. Harry\",male,,0,0,LP 1588,7.575,,S\\r\\n1205,3,\"Carr, Miss. Jeannie\",female,37,0,0,368364,7.75,,Q\\r\\n1206,1,\"White, Mrs. John Stuart (Ella Holmes)\",female,55,0,0,PC 17760,135.6333,C32,C\\r\\n1207,3,\"Hagardon, Miss. Kate\",female,17,0,0,AQ/3. 30631,7.7333,,Q\\r\\n1208,1,\"Spencer, Mr. William Augustus\",male,57,1,0,PC 17569,146.5208,B78,C\\r\\n1209,2,\"Rogers, Mr. Reginald Harry\",male,19,0,0,28004,10.5,,S\\r\\n1210,3,\"Jonsson, Mr. Nils Hilding\",male,27,0,0,350408,7.8542,,S\\r\\n1211,2,\"Jefferys, Mr. Ernest Wilfred\",male,22,2,0,C.A. 31029,31.5,,S\\r\\n1212,3,\"Andersson, Mr. Johan Samuel\",male,26,0,0,347075,7.775,,S\\r\\n1213,3,\"Krekorian, Mr. Neshan\",male,25,0,0,2654,7.2292,F E57,C\\r\\n1214,2,\"Nesson, Mr. Israel\",male,26,0,0,244368,13,F2,S\\r\\n1215,1,\"Rowe, Mr. Alfred G\",male,33,0,0,113790,26.55,,S\\r\\n1216,1,\"Kreuchen, Miss. Emilie\",female,39,0,0,24160,211.3375,,S\\r\\n1217,3,\"Assam, Mr. Ali\",male,23,0,0,SOTON/O.Q. 3101309,7.05,,S\\r\\n1218,2,\"Becker, Miss. Ruth Elizabeth\",female,12,2,1,230136,39,F4,S\\r\\n1219,1,\"Rosenshine, Mr. George (Mr George Thorne\"\")\"\"\",male,46,0,0,PC 17585,79.2,,C\\r\\n1220,2,\"Clarke, Mr. Charles Valentine\",male,29,1,0,2003,26,,S\\r\\n1221,2,\"Enander, Mr. Ingvar\",male,21,0,0,236854,13,,S\\r\\n1222,2,\"Davies, Mrs. John Morgan (Elizabeth Agnes Mary White) \",female,48,0,2,C.A. 33112,36.75,,S\\r\\n1223,1,\"Dulles, Mr. William Crothers\",male,39,0,0,PC 17580,29.7,A18,C\\r\\n1224,3,\"Thomas, Mr. Tannous\",male,,0,0,2684,7.225,,C\\r\\n1225,3,\"Nakid, Mrs. Said (Waika Mary\"\" Mowad)\"\"\",female,19,1,1,2653,15.7417,,C\\r\\n1226,3,\"Cor, Mr. Ivan\",male,27,0,0,349229,7.8958,,S\\r\\n1227,1,\"Maguire, Mr. John Edward\",male,30,0,0,110469,26,C106,S\\r\\n1228,2,\"de Brito, Mr. Jose Joaquim\",male,32,0,0,244360,13,,S\\r\\n1229,3,\"Elias, Mr. Joseph\",male,39,0,2,2675,7.2292,,C\\r\\n1230,2,\"Denbury, Mr. Herbert\",male,25,0,0,C.A. 31029,31.5,,S\\r\\n1231,3,\"Betros, Master. Seman\",male,,0,0,2622,7.2292,,C\\r\\n1232,2,\"Fillbrook, Mr. Joseph Charles\",male,18,0,0,C.A. 15185,10.5,,S\\r\\n1233,3,\"Lundstrom, Mr. Thure Edvin\",male,32,0,0,350403,7.5792,,S\\r\\n1234,3,\"Sage, Mr. John George\",male,,1,9,CA. 2343,69.55,,S\\r\\n1235,1,\"Cardeza, Mrs. James Warburton Martinez (Charlotte Wardle Drake)\",female,58,0,1,PC 17755,512.3292,B51 B53 B55,C\\r\\n1236,3,\"van Billiard, Master. James William\",male,,1,1,A/5. 851,14.5,,S\\r\\n1237,3,\"Abelseth, Miss. Karen Marie\",female,16,0,0,348125,7.65,,S\\r\\n1238,2,\"Botsford, Mr. William Hull\",male,26,0,0,237670,13,,S\\r\\n1239,3,\"Whabee, Mrs. George Joseph (Shawneene Abi-Saab)\",female,38,0,0,2688,7.2292,,C\\r\\n1240,2,\"Giles, Mr. Ralph\",male,24,0,0,248726,13.5,,S\\r\\n1241,2,\"Walcroft, Miss. Nellie\",female,31,0,0,F.C.C. 13528,21,,S\\r\\n1242,1,\"Greenfield, Mrs. Leo David (Blanche Strouse)\",female,45,0,1,PC 17759,63.3583,D10 D12,C\\r\\n1243,2,\"Stokes, Mr. Philip Joseph\",male,25,0,0,F.C.C. 13540,10.5,,S\\r\\n1244,2,\"Dibden, Mr. William\",male,18,0,0,S.O.C. 14879,73.5,,S\\r\\n1245,2,\"Herman, Mr. Samuel\",male,49,1,2,220845,65,,S\\r\\n1246,3,\"Dean, Miss. Elizabeth Gladys Millvina\"\"\"\"\",female,0.17,1,2,C.A. 2315,20.575,,S\\r\\n1247,1,\"Julian, Mr. Henry Forbes\",male,50,0,0,113044,26,E60,S\\r\\n1248,1,\"Brown, Mrs. John Murray (Caroline Lane Lamson)\",female,59,2,0,11769,51.4792,C101,S\\r\\n1249,3,\"Lockyer, Mr. Edward\",male,,0,0,1222,7.8792,,S\\r\\n1250,3,\"O\\'Keefe, Mr. Patrick\",male,,0,0,368402,7.75,,Q\\r\\n1251,3,\"Lindell, Mrs. Edvard Bengtsson (Elin Gerda Persson)\",female,30,1,0,349910,15.55,,S\\r\\n1252,3,\"Sage, Master. William Henry\",male,14.5,8,2,CA. 2343,69.55,,S\\r\\n1253,2,\"Mallet, Mrs. Albert (Antoinette Magnin)\",female,24,1,1,S.C./PARIS 2079,37.0042,,C\\r\\n1254,2,\"Ware, Mrs. John James (Florence Louise Long)\",female,31,0,0,CA 31352,21,,S\\r\\n1255,3,\"Strilic, Mr. Ivan\",male,27,0,0,315083,8.6625,,S\\r\\n1256,1,\"Harder, Mrs. George Achilles (Dorothy Annan)\",female,25,1,0,11765,55.4417,E50,C\\r\\n1257,3,\"Sage, Mrs. John (Annie Bullen)\",female,,1,9,CA. 2343,69.55,,S\\r\\n1258,3,\"Caram, Mr. Joseph\",male,,1,0,2689,14.4583,,C\\r\\n1259,3,\"Riihivouri, Miss. Susanna Juhantytar Sanni\"\"\"\"\",female,22,0,0,3101295,39.6875,,S\\r\\n1260,1,\"Gibson, Mrs. Leonard (Pauline C Boeson)\",female,45,0,1,112378,59.4,,C\\r\\n1261,2,\"Pallas y Castello, Mr. Emilio\",male,29,0,0,SC/PARIS 2147,13.8583,,C\\r\\n1262,2,\"Giles, Mr. Edgar\",male,21,1,0,28133,11.5,,S\\r\\n1263,1,\"Wilson, Miss. Helen Alice\",female,31,0,0,16966,134.5,E39 E41,C\\r\\n1264,1,\"Ismay, Mr. Joseph Bruce\",male,49,0,0,112058,0,B52 B54 B56,S\\r\\n1265,2,\"Harbeck, Mr. William H\",male,44,0,0,248746,13,,S\\r\\n1266,1,\"Dodge, Mrs. Washington (Ruth Vidaver)\",female,54,1,1,33638,81.8583,A34,S\\r\\n1267,1,\"Bowen, Miss. Grace Scott\",female,45,0,0,PC 17608,262.375,,C\\r\\n1268,3,\"Kink, Miss. Maria\",female,22,2,0,315152,8.6625,,S\\r\\n1269,2,\"Cotterill, Mr. Henry Harry\"\"\"\"\",male,21,0,0,29107,11.5,,S\\r\\n1270,1,\"Hipkins, Mr. William Edward\",male,55,0,0,680,50,C39,S\\r\\n1271,3,\"Asplund, Master. Carl Edgar\",male,5,4,2,347077,31.3875,,S\\r\\n1272,3,\"O\\'Connor, Mr. Patrick\",male,,0,0,366713,7.75,,Q\\r\\n1273,3,\"Foley, Mr. Joseph\",male,26,0,0,330910,7.8792,,Q\\r\\n1274,3,\"Risien, Mrs. Samuel (Emma)\",female,,0,0,364498,14.5,,S\\r\\n1275,3,\"McNamee, Mrs. Neal (Eileen O\\'Leary)\",female,19,1,0,376566,16.1,,S\\r\\n1276,2,\"Wheeler, Mr. Edwin Frederick\"\"\"\"\",male,,0,0,SC/PARIS 2159,12.875,,S\\r\\n1277,2,\"Herman, Miss. Kate\",female,24,1,2,220845,65,,S\\r\\n1278,3,\"Aronsson, Mr. Ernst Axel Algot\",male,24,0,0,349911,7.775,,S\\r\\n1279,2,\"Ashby, Mr. John\",male,57,0,0,244346,13,,S\\r\\n1280,3,\"Canavan, Mr. Patrick\",male,21,0,0,364858,7.75,,Q\\r\\n1281,3,\"Palsson, Master. Paul Folke\",male,6,3,1,349909,21.075,,S\\r\\n1282,1,\"Payne, Mr. Vivian Ponsonby\",male,23,0,0,12749,93.5,B24,S\\r\\n1283,1,\"Lines, Mrs. Ernest H (Elizabeth Lindsey James)\",female,51,0,1,PC 17592,39.4,D28,S\\r\\n1284,3,\"Abbott, Master. Eugene Joseph\",male,13,0,2,C.A. 2673,20.25,,S\\r\\n1285,2,\"Gilbert, Mr. William\",male,47,0,0,C.A. 30769,10.5,,S\\r\\n1286,3,\"Kink-Heilmann, Mr. Anton\",male,29,3,1,315153,22.025,,S\\r\\n1287,1,\"Smith, Mrs. Lucien Philip (Mary Eloise Hughes)\",female,18,1,0,13695,60,C31,S\\r\\n1288,3,\"Colbert, Mr. Patrick\",male,24,0,0,371109,7.25,,Q\\r\\n1289,1,\"Frolicher-Stehli, Mrs. Maxmillian (Margaretha Emerentia Stehli)\",female,48,1,1,13567,79.2,B41,C\\r\\n1290,3,\"Larsson-Rondberg, Mr. Edvard A\",male,22,0,0,347065,7.775,,S\\r\\n1291,3,\"Conlon, Mr. Thomas Henry\",male,31,0,0,21332,7.7333,,Q\\r\\n1292,1,\"Bonnell, Miss. Caroline\",female,30,0,0,36928,164.8667,C7,S\\r\\n1293,2,\"Gale, Mr. Harry\",male,38,1,0,28664,21,,S\\r\\n1294,1,\"Gibson, Miss. Dorothy Winifred\",female,22,0,1,112378,59.4,,C\\r\\n1295,1,\"Carrau, Mr. Jose Pedro\",male,17,0,0,113059,47.1,,S\\r\\n1296,1,\"Frauenthal, Mr. Isaac Gerald\",male,43,1,0,17765,27.7208,D40,C\\r\\n1297,2,\"Nourney, Mr. Alfred (Baron von Drachstedt\"\")\"\"\",male,20,0,0,SC/PARIS 2166,13.8625,D38,C\\r\\n1298,2,\"Ware, Mr. William Jeffery\",male,23,1,0,28666,10.5,,S\\r\\n1299,1,\"Widener, Mr. George Dunton\",male,50,1,1,113503,211.5,C80,C\\r\\n1300,3,\"Riordan, Miss. Johanna Hannah\"\"\"\"\",female,,0,0,334915,7.7208,,Q\\r\\n1301,3,\"Peacock, Miss. Treasteall\",female,3,1,1,SOTON/O.Q. 3101315,13.775,,S\\r\\n1302,3,\"Naughton, Miss. Hannah\",female,,0,0,365237,7.75,,Q\\r\\n1303,1,\"Minahan, Mrs. William Edward (Lillian E Thorpe)\",female,37,1,0,19928,90,C78,Q\\r\\n1304,3,\"Henriksson, Miss. Jenny Lovisa\",female,28,0,0,347086,7.775,,S\\r\\n1305,3,\"Spector, Mr. Woolf\",male,,0,0,A.5. 3236,8.05,,S\\r\\n1306,1,\"Oliva y Ocana, Dona. Fermina\",female,39,0,0,PC 17758,108.9,C105,C\\r\\n1307,3,\"Saether, Mr. Simon Sivertsen\",male,38.5,0,0,SOTON/O.Q. 3101262,7.25,,S\\r\\n1308,3,\"Ware, Mr. Frederick\",male,,0,0,359309,8.05,,S\\r\\n1309,3,\"Peter, Master. Michael J\",male,,1,1,2668,22.3583,,C\\r\\n',\n",
              " 'train.csv': b'PassengerId,Survived,Pclass,Name,Sex,Age,SibSp,Parch,Ticket,Fare,Cabin,Embarked\\r\\n1,0,3,\"Braund, Mr. Owen Harris\",male,22,1,0,A/5 21171,7.25,,S\\r\\n2,1,1,\"Cumings, Mrs. John Bradley (Florence Briggs Thayer)\",female,38,1,0,PC 17599,71.2833,C85,C\\r\\n3,1,3,\"Heikkinen, Miss. Laina\",female,26,0,0,STON/O2. 3101282,7.925,,S\\r\\n4,1,1,\"Futrelle, Mrs. Jacques Heath (Lily May Peel)\",female,35,1,0,113803,53.1,C123,S\\r\\n5,0,3,\"Allen, Mr. William Henry\",male,35,0,0,373450,8.05,,S\\r\\n6,0,3,\"Moran, Mr. James\",male,,0,0,330877,8.4583,,Q\\r\\n7,0,1,\"McCarthy, Mr. Timothy J\",male,54,0,0,17463,51.8625,E46,S\\r\\n8,0,3,\"Palsson, Master. Gosta Leonard\",male,2,3,1,349909,21.075,,S\\r\\n9,1,3,\"Johnson, Mrs. Oscar W (Elisabeth Vilhelmina Berg)\",female,27,0,2,347742,11.1333,,S\\r\\n10,1,2,\"Nasser, Mrs. Nicholas (Adele Achem)\",female,14,1,0,237736,30.0708,,C\\r\\n11,1,3,\"Sandstrom, Miss. Marguerite Rut\",female,4,1,1,PP 9549,16.7,G6,S\\r\\n12,1,1,\"Bonnell, Miss. Elizabeth\",female,58,0,0,113783,26.55,C103,S\\r\\n13,0,3,\"Saundercock, Mr. William Henry\",male,20,0,0,A/5. 2151,8.05,,S\\r\\n14,0,3,\"Andersson, Mr. Anders Johan\",male,39,1,5,347082,31.275,,S\\r\\n15,0,3,\"Vestrom, Miss. Hulda Amanda Adolfina\",female,14,0,0,350406,7.8542,,S\\r\\n16,1,2,\"Hewlett, Mrs. (Mary D Kingcome) \",female,55,0,0,248706,16,,S\\r\\n17,0,3,\"Rice, Master. Eugene\",male,2,4,1,382652,29.125,,Q\\r\\n18,1,2,\"Williams, Mr. Charles Eugene\",male,,0,0,244373,13,,S\\r\\n19,0,3,\"Vander Planke, Mrs. Julius (Emelia Maria Vandemoortele)\",female,31,1,0,345763,18,,S\\r\\n20,1,3,\"Masselmani, Mrs. Fatima\",female,,0,0,2649,7.225,,C\\r\\n21,0,2,\"Fynney, Mr. Joseph J\",male,35,0,0,239865,26,,S\\r\\n22,1,2,\"Beesley, Mr. Lawrence\",male,34,0,0,248698,13,D56,S\\r\\n23,1,3,\"McGowan, Miss. Anna \"\"Annie\"\"\",female,15,0,0,330923,8.0292,,Q\\r\\n24,1,1,\"Sloper, Mr. William Thompson\",male,28,0,0,113788,35.5,A6,S\\r\\n25,0,3,\"Palsson, Miss. Torborg Danira\",female,8,3,1,349909,21.075,,S\\r\\n26,1,3,\"Asplund, Mrs. Carl Oscar (Selma Augusta Emilia Johansson)\",female,38,1,5,347077,31.3875,,S\\r\\n27,0,3,\"Emir, Mr. Farred Chehab\",male,,0,0,2631,7.225,,C\\r\\n28,0,1,\"Fortune, Mr. Charles Alexander\",male,19,3,2,19950,263,C23 C25 C27,S\\r\\n29,1,3,\"O\\'Dwyer, Miss. Ellen \"\"Nellie\"\"\",female,,0,0,330959,7.8792,,Q\\r\\n30,0,3,\"Todoroff, Mr. Lalio\",male,,0,0,349216,7.8958,,S\\r\\n31,0,1,\"Uruchurtu, Don. Manuel E\",male,40,0,0,PC 17601,27.7208,,C\\r\\n32,1,1,\"Spencer, Mrs. William Augustus (Marie Eugenie)\",female,,1,0,PC 17569,146.5208,B78,C\\r\\n33,1,3,\"Glynn, Miss. Mary Agatha\",female,,0,0,335677,7.75,,Q\\r\\n34,0,2,\"Wheadon, Mr. Edward H\",male,66,0,0,C.A. 24579,10.5,,S\\r\\n35,0,1,\"Meyer, Mr. Edgar Joseph\",male,28,1,0,PC 17604,82.1708,,C\\r\\n36,0,1,\"Holverson, Mr. Alexander Oskar\",male,42,1,0,113789,52,,S\\r\\n37,1,3,\"Mamee, Mr. Hanna\",male,,0,0,2677,7.2292,,C\\r\\n38,0,3,\"Cann, Mr. Ernest Charles\",male,21,0,0,A./5. 2152,8.05,,S\\r\\n39,0,3,\"Vander Planke, Miss. Augusta Maria\",female,18,2,0,345764,18,,S\\r\\n40,1,3,\"Nicola-Yarred, Miss. Jamila\",female,14,1,0,2651,11.2417,,C\\r\\n41,0,3,\"Ahlin, Mrs. Johan (Johanna Persdotter Larsson)\",female,40,1,0,7546,9.475,,S\\r\\n42,0,2,\"Turpin, Mrs. William John Robert (Dorothy Ann Wonnacott)\",female,27,1,0,11668,21,,S\\r\\n43,0,3,\"Kraeff, Mr. Theodor\",male,,0,0,349253,7.8958,,C\\r\\n44,1,2,\"Laroche, Miss. Simonne Marie Anne Andree\",female,3,1,2,SC/Paris 2123,41.5792,,C\\r\\n45,1,3,\"Devaney, Miss. Margaret Delia\",female,19,0,0,330958,7.8792,,Q\\r\\n46,0,3,\"Rogers, Mr. William John\",male,,0,0,S.C./A.4. 23567,8.05,,S\\r\\n47,0,3,\"Lennon, Mr. Denis\",male,,1,0,370371,15.5,,Q\\r\\n48,1,3,\"O\\'Driscoll, Miss. Bridget\",female,,0,0,14311,7.75,,Q\\r\\n49,0,3,\"Samaan, Mr. Youssef\",male,,2,0,2662,21.6792,,C\\r\\n50,0,3,\"Arnold-Franchi, Mrs. Josef (Josefine Franchi)\",female,18,1,0,349237,17.8,,S\\r\\n51,0,3,\"Panula, Master. Juha Niilo\",male,7,4,1,3101295,39.6875,,S\\r\\n52,0,3,\"Nosworthy, Mr. Richard Cater\",male,21,0,0,A/4. 39886,7.8,,S\\r\\n53,1,1,\"Harper, Mrs. Henry Sleeper (Myna Haxtun)\",female,49,1,0,PC 17572,76.7292,D33,C\\r\\n54,1,2,\"Faunthorpe, Mrs. Lizzie (Elizabeth Anne Wilkinson)\",female,29,1,0,2926,26,,S\\r\\n55,0,1,\"Ostby, Mr. Engelhart Cornelius\",male,65,0,1,113509,61.9792,B30,C\\r\\n56,1,1,\"Woolner, Mr. Hugh\",male,,0,0,19947,35.5,C52,S\\r\\n57,1,2,\"Rugg, Miss. Emily\",female,21,0,0,C.A. 31026,10.5,,S\\r\\n58,0,3,\"Novel, Mr. Mansouer\",male,28.5,0,0,2697,7.2292,,C\\r\\n59,1,2,\"West, Miss. Constance Mirium\",female,5,1,2,C.A. 34651,27.75,,S\\r\\n60,0,3,\"Goodwin, Master. William Frederick\",male,11,5,2,CA 2144,46.9,,S\\r\\n61,0,3,\"Sirayanian, Mr. Orsen\",male,22,0,0,2669,7.2292,,C\\r\\n62,1,1,\"Icard, Miss. Amelie\",female,38,0,0,113572,80,B28,\\r\\n63,0,1,\"Harris, Mr. Henry Birkhardt\",male,45,1,0,36973,83.475,C83,S\\r\\n64,0,3,\"Skoog, Master. Harald\",male,4,3,2,347088,27.9,,S\\r\\n65,0,1,\"Stewart, Mr. Albert A\",male,,0,0,PC 17605,27.7208,,C\\r\\n66,1,3,\"Moubarek, Master. Gerios\",male,,1,1,2661,15.2458,,C\\r\\n67,1,2,\"Nye, Mrs. (Elizabeth Ramell)\",female,29,0,0,C.A. 29395,10.5,F33,S\\r\\n68,0,3,\"Crease, Mr. Ernest James\",male,19,0,0,S.P. 3464,8.1583,,S\\r\\n69,1,3,\"Andersson, Miss. Erna Alexandra\",female,17,4,2,3101281,7.925,,S\\r\\n70,0,3,\"Kink, Mr. Vincenz\",male,26,2,0,315151,8.6625,,S\\r\\n71,0,2,\"Jenkin, Mr. Stephen Curnow\",male,32,0,0,C.A. 33111,10.5,,S\\r\\n72,0,3,\"Goodwin, Miss. Lillian Amy\",female,16,5,2,CA 2144,46.9,,S\\r\\n73,0,2,\"Hood, Mr. Ambrose Jr\",male,21,0,0,S.O.C. 14879,73.5,,S\\r\\n74,0,3,\"Chronopoulos, Mr. Apostolos\",male,26,1,0,2680,14.4542,,C\\r\\n75,1,3,\"Bing, Mr. Lee\",male,32,0,0,1601,56.4958,,S\\r\\n76,0,3,\"Moen, Mr. Sigurd Hansen\",male,25,0,0,348123,7.65,F G73,S\\r\\n77,0,3,\"Staneff, Mr. Ivan\",male,,0,0,349208,7.8958,,S\\r\\n78,0,3,\"Moutal, Mr. Rahamin Haim\",male,,0,0,374746,8.05,,S\\r\\n79,1,2,\"Caldwell, Master. Alden Gates\",male,0.83,0,2,248738,29,,S\\r\\n80,1,3,\"Dowdell, Miss. Elizabeth\",female,30,0,0,364516,12.475,,S\\r\\n81,0,3,\"Waelens, Mr. Achille\",male,22,0,0,345767,9,,S\\r\\n82,1,3,\"Sheerlinck, Mr. Jan Baptist\",male,29,0,0,345779,9.5,,S\\r\\n83,1,3,\"McDermott, Miss. Brigdet Delia\",female,,0,0,330932,7.7875,,Q\\r\\n84,0,1,\"Carrau, Mr. Francisco M\",male,28,0,0,113059,47.1,,S\\r\\n85,1,2,\"Ilett, Miss. Bertha\",female,17,0,0,SO/C 14885,10.5,,S\\r\\n86,1,3,\"Backstrom, Mrs. Karl Alfred (Maria Mathilda Gustafsson)\",female,33,3,0,3101278,15.85,,S\\r\\n87,0,3,\"Ford, Mr. William Neal\",male,16,1,3,W./C. 6608,34.375,,S\\r\\n88,0,3,\"Slocovski, Mr. Selman Francis\",male,,0,0,SOTON/OQ 392086,8.05,,S\\r\\n89,1,1,\"Fortune, Miss. Mabel Helen\",female,23,3,2,19950,263,C23 C25 C27,S\\r\\n90,0,3,\"Celotti, Mr. Francesco\",male,24,0,0,343275,8.05,,S\\r\\n91,0,3,\"Christmann, Mr. Emil\",male,29,0,0,343276,8.05,,S\\r\\n92,0,3,\"Andreasson, Mr. Paul Edvin\",male,20,0,0,347466,7.8542,,S\\r\\n93,0,1,\"Chaffee, Mr. Herbert Fuller\",male,46,1,0,W.E.P. 5734,61.175,E31,S\\r\\n94,0,3,\"Dean, Mr. Bertram Frank\",male,26,1,2,C.A. 2315,20.575,,S\\r\\n95,0,3,\"Coxon, Mr. Daniel\",male,59,0,0,364500,7.25,,S\\r\\n96,0,3,\"Shorney, Mr. Charles Joseph\",male,,0,0,374910,8.05,,S\\r\\n97,0,1,\"Goldschmidt, Mr. George B\",male,71,0,0,PC 17754,34.6542,A5,C\\r\\n98,1,1,\"Greenfield, Mr. William Bertram\",male,23,0,1,PC 17759,63.3583,D10 D12,C\\r\\n99,1,2,\"Doling, Mrs. John T (Ada Julia Bone)\",female,34,0,1,231919,23,,S\\r\\n100,0,2,\"Kantor, Mr. Sinai\",male,34,1,0,244367,26,,S\\r\\n101,0,3,\"Petranec, Miss. Matilda\",female,28,0,0,349245,7.8958,,S\\r\\n102,0,3,\"Petroff, Mr. Pastcho (\"\"Pentcho\"\")\",male,,0,0,349215,7.8958,,S\\r\\n103,0,1,\"White, Mr. Richard Frasar\",male,21,0,1,35281,77.2875,D26,S\\r\\n104,0,3,\"Johansson, Mr. Gustaf Joel\",male,33,0,0,7540,8.6542,,S\\r\\n105,0,3,\"Gustafsson, Mr. Anders Vilhelm\",male,37,2,0,3101276,7.925,,S\\r\\n106,0,3,\"Mionoff, Mr. Stoytcho\",male,28,0,0,349207,7.8958,,S\\r\\n107,1,3,\"Salkjelsvik, Miss. Anna Kristine\",female,21,0,0,343120,7.65,,S\\r\\n108,1,3,\"Moss, Mr. Albert Johan\",male,,0,0,312991,7.775,,S\\r\\n109,0,3,\"Rekic, Mr. Tido\",male,38,0,0,349249,7.8958,,S\\r\\n110,1,3,\"Moran, Miss. Bertha\",female,,1,0,371110,24.15,,Q\\r\\n111,0,1,\"Porter, Mr. Walter Chamberlain\",male,47,0,0,110465,52,C110,S\\r\\n112,0,3,\"Zabour, Miss. Hileni\",female,14.5,1,0,2665,14.4542,,C\\r\\n113,0,3,\"Barton, Mr. David John\",male,22,0,0,324669,8.05,,S\\r\\n114,0,3,\"Jussila, Miss. Katriina\",female,20,1,0,4136,9.825,,S\\r\\n115,0,3,\"Attalah, Miss. Malake\",female,17,0,0,2627,14.4583,,C\\r\\n116,0,3,\"Pekoniemi, Mr. Edvard\",male,21,0,0,STON/O 2. 3101294,7.925,,S\\r\\n117,0,3,\"Connors, Mr. Patrick\",male,70.5,0,0,370369,7.75,,Q\\r\\n118,0,2,\"Turpin, Mr. William John Robert\",male,29,1,0,11668,21,,S\\r\\n119,0,1,\"Baxter, Mr. Quigg Edmond\",male,24,0,1,PC 17558,247.5208,B58 B60,C\\r\\n120,0,3,\"Andersson, Miss. Ellis Anna Maria\",female,2,4,2,347082,31.275,,S\\r\\n121,0,2,\"Hickman, Mr. Stanley George\",male,21,2,0,S.O.C. 14879,73.5,,S\\r\\n122,0,3,\"Moore, Mr. Leonard Charles\",male,,0,0,A4. 54510,8.05,,S\\r\\n123,0,2,\"Nasser, Mr. Nicholas\",male,32.5,1,0,237736,30.0708,,C\\r\\n124,1,2,\"Webber, Miss. Susan\",female,32.5,0,0,27267,13,E101,S\\r\\n125,0,1,\"White, Mr. Percival Wayland\",male,54,0,1,35281,77.2875,D26,S\\r\\n126,1,3,\"Nicola-Yarred, Master. Elias\",male,12,1,0,2651,11.2417,,C\\r\\n127,0,3,\"McMahon, Mr. Martin\",male,,0,0,370372,7.75,,Q\\r\\n128,1,3,\"Madsen, Mr. Fridtjof Arne\",male,24,0,0,C 17369,7.1417,,S\\r\\n129,1,3,\"Peter, Miss. Anna\",female,,1,1,2668,22.3583,F E69,C\\r\\n130,0,3,\"Ekstrom, Mr. Johan\",male,45,0,0,347061,6.975,,S\\r\\n131,0,3,\"Drazenoic, Mr. Jozef\",male,33,0,0,349241,7.8958,,C\\r\\n132,0,3,\"Coelho, Mr. Domingos Fernandeo\",male,20,0,0,SOTON/O.Q. 3101307,7.05,,S\\r\\n133,0,3,\"Robins, Mrs. Alexander A (Grace Charity Laury)\",female,47,1,0,A/5. 3337,14.5,,S\\r\\n134,1,2,\"Weisz, Mrs. Leopold (Mathilde Francoise Pede)\",female,29,1,0,228414,26,,S\\r\\n135,0,2,\"Sobey, Mr. Samuel James Hayden\",male,25,0,0,C.A. 29178,13,,S\\r\\n136,0,2,\"Richard, Mr. Emile\",male,23,0,0,SC/PARIS 2133,15.0458,,C\\r\\n137,1,1,\"Newsom, Miss. Helen Monypeny\",female,19,0,2,11752,26.2833,D47,S\\r\\n138,0,1,\"Futrelle, Mr. Jacques Heath\",male,37,1,0,113803,53.1,C123,S\\r\\n139,0,3,\"Osen, Mr. Olaf Elon\",male,16,0,0,7534,9.2167,,S\\r\\n140,0,1,\"Giglio, Mr. Victor\",male,24,0,0,PC 17593,79.2,B86,C\\r\\n141,0,3,\"Boulos, Mrs. Joseph (Sultana)\",female,,0,2,2678,15.2458,,C\\r\\n142,1,3,\"Nysten, Miss. Anna Sofia\",female,22,0,0,347081,7.75,,S\\r\\n143,1,3,\"Hakkarainen, Mrs. Pekka Pietari (Elin Matilda Dolck)\",female,24,1,0,STON/O2. 3101279,15.85,,S\\r\\n144,0,3,\"Burke, Mr. Jeremiah\",male,19,0,0,365222,6.75,,Q\\r\\n145,0,2,\"Andrew, Mr. Edgardo Samuel\",male,18,0,0,231945,11.5,,S\\r\\n146,0,2,\"Nicholls, Mr. Joseph Charles\",male,19,1,1,C.A. 33112,36.75,,S\\r\\n147,1,3,\"Andersson, Mr. August Edvard (\"\"Wennerstrom\"\")\",male,27,0,0,350043,7.7958,,S\\r\\n148,0,3,\"Ford, Miss. Robina Maggie \"\"Ruby\"\"\",female,9,2,2,W./C. 6608,34.375,,S\\r\\n149,0,2,\"Navratil, Mr. Michel (\"\"Louis M Hoffman\"\")\",male,36.5,0,2,230080,26,F2,S\\r\\n150,0,2,\"Byles, Rev. Thomas Roussel Davids\",male,42,0,0,244310,13,,S\\r\\n151,0,2,\"Bateman, Rev. Robert James\",male,51,0,0,S.O.P. 1166,12.525,,S\\r\\n152,1,1,\"Pears, Mrs. Thomas (Edith Wearne)\",female,22,1,0,113776,66.6,C2,S\\r\\n153,0,3,\"Meo, Mr. Alfonzo\",male,55.5,0,0,A.5. 11206,8.05,,S\\r\\n154,0,3,\"van Billiard, Mr. Austin Blyler\",male,40.5,0,2,A/5. 851,14.5,,S\\r\\n155,0,3,\"Olsen, Mr. Ole Martin\",male,,0,0,Fa 265302,7.3125,,S\\r\\n156,0,1,\"Williams, Mr. Charles Duane\",male,51,0,1,PC 17597,61.3792,,C\\r\\n157,1,3,\"Gilnagh, Miss. Katherine \"\"Katie\"\"\",female,16,0,0,35851,7.7333,,Q\\r\\n158,0,3,\"Corn, Mr. Harry\",male,30,0,0,SOTON/OQ 392090,8.05,,S\\r\\n159,0,3,\"Smiljanic, Mr. Mile\",male,,0,0,315037,8.6625,,S\\r\\n160,0,3,\"Sage, Master. Thomas Henry\",male,,8,2,CA. 2343,69.55,,S\\r\\n161,0,3,\"Cribb, Mr. John Hatfield\",male,44,0,1,371362,16.1,,S\\r\\n162,1,2,\"Watt, Mrs. James (Elizabeth \"\"Bessie\"\" Inglis Milne)\",female,40,0,0,C.A. 33595,15.75,,S\\r\\n163,0,3,\"Bengtsson, Mr. John Viktor\",male,26,0,0,347068,7.775,,S\\r\\n164,0,3,\"Calic, Mr. Jovo\",male,17,0,0,315093,8.6625,,S\\r\\n165,0,3,\"Panula, Master. Eino Viljami\",male,1,4,1,3101295,39.6875,,S\\r\\n166,1,3,\"Goldsmith, Master. Frank John William \"\"Frankie\"\"\",male,9,0,2,363291,20.525,,S\\r\\n167,1,1,\"Chibnall, Mrs. (Edith Martha Bowerman)\",female,,0,1,113505,55,E33,S\\r\\n168,0,3,\"Skoog, Mrs. William (Anna Bernhardina Karlsson)\",female,45,1,4,347088,27.9,,S\\r\\n169,0,1,\"Baumann, Mr. John D\",male,,0,0,PC 17318,25.925,,S\\r\\n170,0,3,\"Ling, Mr. Lee\",male,28,0,0,1601,56.4958,,S\\r\\n171,0,1,\"Van der hoef, Mr. Wyckoff\",male,61,0,0,111240,33.5,B19,S\\r\\n172,0,3,\"Rice, Master. Arthur\",male,4,4,1,382652,29.125,,Q\\r\\n173,1,3,\"Johnson, Miss. Eleanor Ileen\",female,1,1,1,347742,11.1333,,S\\r\\n174,0,3,\"Sivola, Mr. Antti Wilhelm\",male,21,0,0,STON/O 2. 3101280,7.925,,S\\r\\n175,0,1,\"Smith, Mr. James Clinch\",male,56,0,0,17764,30.6958,A7,C\\r\\n176,0,3,\"Klasen, Mr. Klas Albin\",male,18,1,1,350404,7.8542,,S\\r\\n177,0,3,\"Lefebre, Master. Henry Forbes\",male,,3,1,4133,25.4667,,S\\r\\n178,0,1,\"Isham, Miss. Ann Elizabeth\",female,50,0,0,PC 17595,28.7125,C49,C\\r\\n179,0,2,\"Hale, Mr. Reginald\",male,30,0,0,250653,13,,S\\r\\n180,0,3,\"Leonard, Mr. Lionel\",male,36,0,0,LINE,0,,S\\r\\n181,0,3,\"Sage, Miss. Constance Gladys\",female,,8,2,CA. 2343,69.55,,S\\r\\n182,0,2,\"Pernot, Mr. Rene\",male,,0,0,SC/PARIS 2131,15.05,,C\\r\\n183,0,3,\"Asplund, Master. Clarence Gustaf Hugo\",male,9,4,2,347077,31.3875,,S\\r\\n184,1,2,\"Becker, Master. Richard F\",male,1,2,1,230136,39,F4,S\\r\\n185,1,3,\"Kink-Heilmann, Miss. Luise Gretchen\",female,4,0,2,315153,22.025,,S\\r\\n186,0,1,\"Rood, Mr. Hugh Roscoe\",male,,0,0,113767,50,A32,S\\r\\n187,1,3,\"O\\'Brien, Mrs. Thomas (Johanna \"\"Hannah\"\" Godfrey)\",female,,1,0,370365,15.5,,Q\\r\\n188,1,1,\"Romaine, Mr. Charles Hallace (\"\"Mr C Rolmane\"\")\",male,45,0,0,111428,26.55,,S\\r\\n189,0,3,\"Bourke, Mr. John\",male,40,1,1,364849,15.5,,Q\\r\\n190,0,3,\"Turcin, Mr. Stjepan\",male,36,0,0,349247,7.8958,,S\\r\\n191,1,2,\"Pinsky, Mrs. (Rosa)\",female,32,0,0,234604,13,,S\\r\\n192,0,2,\"Carbines, Mr. William\",male,19,0,0,28424,13,,S\\r\\n193,1,3,\"Andersen-Jensen, Miss. Carla Christine Nielsine\",female,19,1,0,350046,7.8542,,S\\r\\n194,1,2,\"Navratil, Master. Michel M\",male,3,1,1,230080,26,F2,S\\r\\n195,1,1,\"Brown, Mrs. James Joseph (Margaret Tobin)\",female,44,0,0,PC 17610,27.7208,B4,C\\r\\n196,1,1,\"Lurette, Miss. Elise\",female,58,0,0,PC 17569,146.5208,B80,C\\r\\n197,0,3,\"Mernagh, Mr. Robert\",male,,0,0,368703,7.75,,Q\\r\\n198,0,3,\"Olsen, Mr. Karl Siegwart Andreas\",male,42,0,1,4579,8.4042,,S\\r\\n199,1,3,\"Madigan, Miss. Margaret \"\"Maggie\"\"\",female,,0,0,370370,7.75,,Q\\r\\n200,0,2,\"Yrois, Miss. Henriette (\"\"Mrs Harbeck\"\")\",female,24,0,0,248747,13,,S\\r\\n201,0,3,\"Vande Walle, Mr. Nestor Cyriel\",male,28,0,0,345770,9.5,,S\\r\\n202,0,3,\"Sage, Mr. Frederick\",male,,8,2,CA. 2343,69.55,,S\\r\\n203,0,3,\"Johanson, Mr. Jakob Alfred\",male,34,0,0,3101264,6.4958,,S\\r\\n204,0,3,\"Youseff, Mr. Gerious\",male,45.5,0,0,2628,7.225,,C\\r\\n205,1,3,\"Cohen, Mr. Gurshon \"\"Gus\"\"\",male,18,0,0,A/5 3540,8.05,,S\\r\\n206,0,3,\"Strom, Miss. Telma Matilda\",female,2,0,1,347054,10.4625,G6,S\\r\\n207,0,3,\"Backstrom, Mr. Karl Alfred\",male,32,1,0,3101278,15.85,,S\\r\\n208,1,3,\"Albimona, Mr. Nassef Cassem\",male,26,0,0,2699,18.7875,,C\\r\\n209,1,3,\"Carr, Miss. Helen \"\"Ellen\"\"\",female,16,0,0,367231,7.75,,Q\\r\\n210,1,1,\"Blank, Mr. Henry\",male,40,0,0,112277,31,A31,C\\r\\n211,0,3,\"Ali, Mr. Ahmed\",male,24,0,0,SOTON/O.Q. 3101311,7.05,,S\\r\\n212,1,2,\"Cameron, Miss. Clear Annie\",female,35,0,0,F.C.C. 13528,21,,S\\r\\n213,0,3,\"Perkin, Mr. John Henry\",male,22,0,0,A/5 21174,7.25,,S\\r\\n214,0,2,\"Givard, Mr. Hans Kristensen\",male,30,0,0,250646,13,,S\\r\\n215,0,3,\"Kiernan, Mr. Philip\",male,,1,0,367229,7.75,,Q\\r\\n216,1,1,\"Newell, Miss. Madeleine\",female,31,1,0,35273,113.275,D36,C\\r\\n217,1,3,\"Honkanen, Miss. Eliina\",female,27,0,0,STON/O2. 3101283,7.925,,S\\r\\n218,0,2,\"Jacobsohn, Mr. Sidney Samuel\",male,42,1,0,243847,27,,S\\r\\n219,1,1,\"Bazzani, Miss. Albina\",female,32,0,0,11813,76.2917,D15,C\\r\\n220,0,2,\"Harris, Mr. Walter\",male,30,0,0,W/C 14208,10.5,,S\\r\\n221,1,3,\"Sunderland, Mr. Victor Francis\",male,16,0,0,SOTON/OQ 392089,8.05,,S\\r\\n222,0,2,\"Bracken, Mr. James H\",male,27,0,0,220367,13,,S\\r\\n223,0,3,\"Green, Mr. George Henry\",male,51,0,0,21440,8.05,,S\\r\\n224,0,3,\"Nenkoff, Mr. Christo\",male,,0,0,349234,7.8958,,S\\r\\n225,1,1,\"Hoyt, Mr. Frederick Maxfield\",male,38,1,0,19943,90,C93,S\\r\\n226,0,3,\"Berglund, Mr. Karl Ivar Sven\",male,22,0,0,PP 4348,9.35,,S\\r\\n227,1,2,\"Mellors, Mr. William John\",male,19,0,0,SW/PP 751,10.5,,S\\r\\n228,0,3,\"Lovell, Mr. John Hall (\"\"Henry\"\")\",male,20.5,0,0,A/5 21173,7.25,,S\\r\\n229,0,2,\"Fahlstrom, Mr. Arne Jonas\",male,18,0,0,236171,13,,S\\r\\n230,0,3,\"Lefebre, Miss. Mathilde\",female,,3,1,4133,25.4667,,S\\r\\n231,1,1,\"Harris, Mrs. Henry Birkhardt (Irene Wallach)\",female,35,1,0,36973,83.475,C83,S\\r\\n232,0,3,\"Larsson, Mr. Bengt Edvin\",male,29,0,0,347067,7.775,,S\\r\\n233,0,2,\"Sjostedt, Mr. Ernst Adolf\",male,59,0,0,237442,13.5,,S\\r\\n234,1,3,\"Asplund, Miss. Lillian Gertrud\",female,5,4,2,347077,31.3875,,S\\r\\n235,0,2,\"Leyson, Mr. Robert William Norman\",male,24,0,0,C.A. 29566,10.5,,S\\r\\n236,0,3,\"Harknett, Miss. Alice Phoebe\",female,,0,0,W./C. 6609,7.55,,S\\r\\n237,0,2,\"Hold, Mr. Stephen\",male,44,1,0,26707,26,,S\\r\\n238,1,2,\"Collyer, Miss. Marjorie \"\"Lottie\"\"\",female,8,0,2,C.A. 31921,26.25,,S\\r\\n239,0,2,\"Pengelly, Mr. Frederick William\",male,19,0,0,28665,10.5,,S\\r\\n240,0,2,\"Hunt, Mr. George Henry\",male,33,0,0,SCO/W 1585,12.275,,S\\r\\n241,0,3,\"Zabour, Miss. Thamine\",female,,1,0,2665,14.4542,,C\\r\\n242,1,3,\"Murphy, Miss. Katherine \"\"Kate\"\"\",female,,1,0,367230,15.5,,Q\\r\\n243,0,2,\"Coleridge, Mr. Reginald Charles\",male,29,0,0,W./C. 14263,10.5,,S\\r\\n244,0,3,\"Maenpaa, Mr. Matti Alexanteri\",male,22,0,0,STON/O 2. 3101275,7.125,,S\\r\\n245,0,3,\"Attalah, Mr. Sleiman\",male,30,0,0,2694,7.225,,C\\r\\n246,0,1,\"Minahan, Dr. William Edward\",male,44,2,0,19928,90,C78,Q\\r\\n247,0,3,\"Lindahl, Miss. Agda Thorilda Viktoria\",female,25,0,0,347071,7.775,,S\\r\\n248,1,2,\"Hamalainen, Mrs. William (Anna)\",female,24,0,2,250649,14.5,,S\\r\\n249,1,1,\"Beckwith, Mr. Richard Leonard\",male,37,1,1,11751,52.5542,D35,S\\r\\n250,0,2,\"Carter, Rev. Ernest Courtenay\",male,54,1,0,244252,26,,S\\r\\n251,0,3,\"Reed, Mr. James George\",male,,0,0,362316,7.25,,S\\r\\n252,0,3,\"Strom, Mrs. Wilhelm (Elna Matilda Persson)\",female,29,1,1,347054,10.4625,G6,S\\r\\n253,0,1,\"Stead, Mr. William Thomas\",male,62,0,0,113514,26.55,C87,S\\r\\n254,0,3,\"Lobb, Mr. William Arthur\",male,30,1,0,A/5. 3336,16.1,,S\\r\\n255,0,3,\"Rosblom, Mrs. Viktor (Helena Wilhelmina)\",female,41,0,2,370129,20.2125,,S\\r\\n256,1,3,\"Touma, Mrs. Darwis (Hanne Youssef Razi)\",female,29,0,2,2650,15.2458,,C\\r\\n257,1,1,\"Thorne, Mrs. Gertrude Maybelle\",female,,0,0,PC 17585,79.2,,C\\r\\n258,1,1,\"Cherry, Miss. Gladys\",female,30,0,0,110152,86.5,B77,S\\r\\n259,1,1,\"Ward, Miss. Anna\",female,35,0,0,PC 17755,512.3292,,C\\r\\n260,1,2,\"Parrish, Mrs. (Lutie Davis)\",female,50,0,1,230433,26,,S\\r\\n261,0,3,\"Smith, Mr. Thomas\",male,,0,0,384461,7.75,,Q\\r\\n262,1,3,\"Asplund, Master. Edvin Rojj Felix\",male,3,4,2,347077,31.3875,,S\\r\\n263,0,1,\"Taussig, Mr. Emil\",male,52,1,1,110413,79.65,E67,S\\r\\n264,0,1,\"Harrison, Mr. William\",male,40,0,0,112059,0,B94,S\\r\\n265,0,3,\"Henry, Miss. Delia\",female,,0,0,382649,7.75,,Q\\r\\n266,0,2,\"Reeves, Mr. David\",male,36,0,0,C.A. 17248,10.5,,S\\r\\n267,0,3,\"Panula, Mr. Ernesti Arvid\",male,16,4,1,3101295,39.6875,,S\\r\\n268,1,3,\"Persson, Mr. Ernst Ulrik\",male,25,1,0,347083,7.775,,S\\r\\n269,1,1,\"Graham, Mrs. William Thompson (Edith Junkins)\",female,58,0,1,PC 17582,153.4625,C125,S\\r\\n270,1,1,\"Bissette, Miss. Amelia\",female,35,0,0,PC 17760,135.6333,C99,S\\r\\n271,0,1,\"Cairns, Mr. Alexander\",male,,0,0,113798,31,,S\\r\\n272,1,3,\"Tornquist, Mr. William Henry\",male,25,0,0,LINE,0,,S\\r\\n273,1,2,\"Mellinger, Mrs. (Elizabeth Anne Maidment)\",female,41,0,1,250644,19.5,,S\\r\\n274,0,1,\"Natsch, Mr. Charles H\",male,37,0,1,PC 17596,29.7,C118,C\\r\\n275,1,3,\"Healy, Miss. Hanora \"\"Nora\"\"\",female,,0,0,370375,7.75,,Q\\r\\n276,1,1,\"Andrews, Miss. Kornelia Theodosia\",female,63,1,0,13502,77.9583,D7,S\\r\\n277,0,3,\"Lindblom, Miss. Augusta Charlotta\",female,45,0,0,347073,7.75,,S\\r\\n278,0,2,\"Parkes, Mr. Francis \"\"Frank\"\"\",male,,0,0,239853,0,,S\\r\\n279,0,3,\"Rice, Master. Eric\",male,7,4,1,382652,29.125,,Q\\r\\n280,1,3,\"Abbott, Mrs. Stanton (Rosa Hunt)\",female,35,1,1,C.A. 2673,20.25,,S\\r\\n281,0,3,\"Duane, Mr. Frank\",male,65,0,0,336439,7.75,,Q\\r\\n282,0,3,\"Olsson, Mr. Nils Johan Goransson\",male,28,0,0,347464,7.8542,,S\\r\\n283,0,3,\"de Pelsmaeker, Mr. Alfons\",male,16,0,0,345778,9.5,,S\\r\\n284,1,3,\"Dorking, Mr. Edward Arthur\",male,19,0,0,A/5. 10482,8.05,,S\\r\\n285,0,1,\"Smith, Mr. Richard William\",male,,0,0,113056,26,A19,S\\r\\n286,0,3,\"Stankovic, Mr. Ivan\",male,33,0,0,349239,8.6625,,C\\r\\n287,1,3,\"de Mulder, Mr. Theodore\",male,30,0,0,345774,9.5,,S\\r\\n288,0,3,\"Naidenoff, Mr. Penko\",male,22,0,0,349206,7.8958,,S\\r\\n289,1,2,\"Hosono, Mr. Masabumi\",male,42,0,0,237798,13,,S\\r\\n290,1,3,\"Connolly, Miss. Kate\",female,22,0,0,370373,7.75,,Q\\r\\n291,1,1,\"Barber, Miss. Ellen \"\"Nellie\"\"\",female,26,0,0,19877,78.85,,S\\r\\n292,1,1,\"Bishop, Mrs. Dickinson H (Helen Walton)\",female,19,1,0,11967,91.0792,B49,C\\r\\n293,0,2,\"Levy, Mr. Rene Jacques\",male,36,0,0,SC/Paris 2163,12.875,D,C\\r\\n294,0,3,\"Haas, Miss. Aloisia\",female,24,0,0,349236,8.85,,S\\r\\n295,0,3,\"Mineff, Mr. Ivan\",male,24,0,0,349233,7.8958,,S\\r\\n296,0,1,\"Lewy, Mr. Ervin G\",male,,0,0,PC 17612,27.7208,,C\\r\\n297,0,3,\"Hanna, Mr. Mansour\",male,23.5,0,0,2693,7.2292,,C\\r\\n298,0,1,\"Allison, Miss. Helen Loraine\",female,2,1,2,113781,151.55,C22 C26,S\\r\\n299,1,1,\"Saalfeld, Mr. Adolphe\",male,,0,0,19988,30.5,C106,S\\r\\n300,1,1,\"Baxter, Mrs. James (Helene DeLaudeniere Chaput)\",female,50,0,1,PC 17558,247.5208,B58 B60,C\\r\\n301,1,3,\"Kelly, Miss. Anna Katherine \"\"Annie Kate\"\"\",female,,0,0,9234,7.75,,Q\\r\\n302,1,3,\"McCoy, Mr. Bernard\",male,,2,0,367226,23.25,,Q\\r\\n303,0,3,\"Johnson, Mr. William Cahoone Jr\",male,19,0,0,LINE,0,,S\\r\\n304,1,2,\"Keane, Miss. Nora A\",female,,0,0,226593,12.35,E101,Q\\r\\n305,0,3,\"Williams, Mr. Howard Hugh \"\"Harry\"\"\",male,,0,0,A/5 2466,8.05,,S\\r\\n306,1,1,\"Allison, Master. Hudson Trevor\",male,0.92,1,2,113781,151.55,C22 C26,S\\r\\n307,1,1,\"Fleming, Miss. Margaret\",female,,0,0,17421,110.8833,,C\\r\\n308,1,1,\"Penasco y Castellana, Mrs. Victor de Satode (Maria Josefa Perez de Soto y Vallejo)\",female,17,1,0,PC 17758,108.9,C65,C\\r\\n309,0,2,\"Abelson, Mr. Samuel\",male,30,1,0,P/PP 3381,24,,C\\r\\n310,1,1,\"Francatelli, Miss. Laura Mabel\",female,30,0,0,PC 17485,56.9292,E36,C\\r\\n311,1,1,\"Hays, Miss. Margaret Bechstein\",female,24,0,0,11767,83.1583,C54,C\\r\\n312,1,1,\"Ryerson, Miss. Emily Borie\",female,18,2,2,PC 17608,262.375,B57 B59 B63 B66,C\\r\\n313,0,2,\"Lahtinen, Mrs. William (Anna Sylfven)\",female,26,1,1,250651,26,,S\\r\\n314,0,3,\"Hendekovic, Mr. Ignjac\",male,28,0,0,349243,7.8958,,S\\r\\n315,0,2,\"Hart, Mr. Benjamin\",male,43,1,1,F.C.C. 13529,26.25,,S\\r\\n316,1,3,\"Nilsson, Miss. Helmina Josefina\",female,26,0,0,347470,7.8542,,S\\r\\n317,1,2,\"Kantor, Mrs. Sinai (Miriam Sternin)\",female,24,1,0,244367,26,,S\\r\\n318,0,2,\"Moraweck, Dr. Ernest\",male,54,0,0,29011,14,,S\\r\\n319,1,1,\"Wick, Miss. Mary Natalie\",female,31,0,2,36928,164.8667,C7,S\\r\\n320,1,1,\"Spedden, Mrs. Frederic Oakley (Margaretta Corning Stone)\",female,40,1,1,16966,134.5,E34,C\\r\\n321,0,3,\"Dennis, Mr. Samuel\",male,22,0,0,A/5 21172,7.25,,S\\r\\n322,0,3,\"Danoff, Mr. Yoto\",male,27,0,0,349219,7.8958,,S\\r\\n323,1,2,\"Slayter, Miss. Hilda Mary\",female,30,0,0,234818,12.35,,Q\\r\\n324,1,2,\"Caldwell, Mrs. Albert Francis (Sylvia Mae Harbaugh)\",female,22,1,1,248738,29,,S\\r\\n325,0,3,\"Sage, Mr. George John Jr\",male,,8,2,CA. 2343,69.55,,S\\r\\n326,1,1,\"Young, Miss. Marie Grice\",female,36,0,0,PC 17760,135.6333,C32,C\\r\\n327,0,3,\"Nysveen, Mr. Johan Hansen\",male,61,0,0,345364,6.2375,,S\\r\\n328,1,2,\"Ball, Mrs. (Ada E Hall)\",female,36,0,0,28551,13,D,S\\r\\n329,1,3,\"Goldsmith, Mrs. Frank John (Emily Alice Brown)\",female,31,1,1,363291,20.525,,S\\r\\n330,1,1,\"Hippach, Miss. Jean Gertrude\",female,16,0,1,111361,57.9792,B18,C\\r\\n331,1,3,\"McCoy, Miss. Agnes\",female,,2,0,367226,23.25,,Q\\r\\n332,0,1,\"Partner, Mr. Austen\",male,45.5,0,0,113043,28.5,C124,S\\r\\n333,0,1,\"Graham, Mr. George Edward\",male,38,0,1,PC 17582,153.4625,C91,S\\r\\n334,0,3,\"Vander Planke, Mr. Leo Edmondus\",male,16,2,0,345764,18,,S\\r\\n335,1,1,\"Frauenthal, Mrs. Henry William (Clara Heinsheimer)\",female,,1,0,PC 17611,133.65,,S\\r\\n336,0,3,\"Denkoff, Mr. Mitto\",male,,0,0,349225,7.8958,,S\\r\\n337,0,1,\"Pears, Mr. Thomas Clinton\",male,29,1,0,113776,66.6,C2,S\\r\\n338,1,1,\"Burns, Miss. Elizabeth Margaret\",female,41,0,0,16966,134.5,E40,C\\r\\n339,1,3,\"Dahl, Mr. Karl Edwart\",male,45,0,0,7598,8.05,,S\\r\\n340,0,1,\"Blackwell, Mr. Stephen Weart\",male,45,0,0,113784,35.5,T,S\\r\\n341,1,2,\"Navratil, Master. Edmond Roger\",male,2,1,1,230080,26,F2,S\\r\\n342,1,1,\"Fortune, Miss. Alice Elizabeth\",female,24,3,2,19950,263,C23 C25 C27,S\\r\\n343,0,2,\"Collander, Mr. Erik Gustaf\",male,28,0,0,248740,13,,S\\r\\n344,0,2,\"Sedgwick, Mr. Charles Frederick Waddington\",male,25,0,0,244361,13,,S\\r\\n345,0,2,\"Fox, Mr. Stanley Hubert\",male,36,0,0,229236,13,,S\\r\\n346,1,2,\"Brown, Miss. Amelia \"\"Mildred\"\"\",female,24,0,0,248733,13,F33,S\\r\\n347,1,2,\"Smith, Miss. Marion Elsie\",female,40,0,0,31418,13,,S\\r\\n348,1,3,\"Davison, Mrs. Thomas Henry (Mary E Finck)\",female,,1,0,386525,16.1,,S\\r\\n349,1,3,\"Coutts, Master. William Loch \"\"William\"\"\",male,3,1,1,C.A. 37671,15.9,,S\\r\\n350,0,3,\"Dimic, Mr. Jovan\",male,42,0,0,315088,8.6625,,S\\r\\n351,0,3,\"Odahl, Mr. Nils Martin\",male,23,0,0,7267,9.225,,S\\r\\n352,0,1,\"Williams-Lambert, Mr. Fletcher Fellows\",male,,0,0,113510,35,C128,S\\r\\n353,0,3,\"Elias, Mr. Tannous\",male,15,1,1,2695,7.2292,,C\\r\\n354,0,3,\"Arnold-Franchi, Mr. Josef\",male,25,1,0,349237,17.8,,S\\r\\n355,0,3,\"Yousif, Mr. Wazli\",male,,0,0,2647,7.225,,C\\r\\n356,0,3,\"Vanden Steen, Mr. Leo Peter\",male,28,0,0,345783,9.5,,S\\r\\n357,1,1,\"Bowerman, Miss. Elsie Edith\",female,22,0,1,113505,55,E33,S\\r\\n358,0,2,\"Funk, Miss. Annie Clemmer\",female,38,0,0,237671,13,,S\\r\\n359,1,3,\"McGovern, Miss. Mary\",female,,0,0,330931,7.8792,,Q\\r\\n360,1,3,\"Mockler, Miss. Helen Mary \"\"Ellie\"\"\",female,,0,0,330980,7.8792,,Q\\r\\n361,0,3,\"Skoog, Mr. Wilhelm\",male,40,1,4,347088,27.9,,S\\r\\n362,0,2,\"del Carlo, Mr. Sebastiano\",male,29,1,0,SC/PARIS 2167,27.7208,,C\\r\\n363,0,3,\"Barbara, Mrs. (Catherine David)\",female,45,0,1,2691,14.4542,,C\\r\\n364,0,3,\"Asim, Mr. Adola\",male,35,0,0,SOTON/O.Q. 3101310,7.05,,S\\r\\n365,0,3,\"O\\'Brien, Mr. Thomas\",male,,1,0,370365,15.5,,Q\\r\\n366,0,3,\"Adahl, Mr. Mauritz Nils Martin\",male,30,0,0,C 7076,7.25,,S\\r\\n367,1,1,\"Warren, Mrs. Frank Manley (Anna Sophia Atkinson)\",female,60,1,0,110813,75.25,D37,C\\r\\n368,1,3,\"Moussa, Mrs. (Mantoura Boulos)\",female,,0,0,2626,7.2292,,C\\r\\n369,1,3,\"Jermyn, Miss. Annie\",female,,0,0,14313,7.75,,Q\\r\\n370,1,1,\"Aubart, Mme. Leontine Pauline\",female,24,0,0,PC 17477,69.3,B35,C\\r\\n371,1,1,\"Harder, Mr. George Achilles\",male,25,1,0,11765,55.4417,E50,C\\r\\n372,0,3,\"Wiklund, Mr. Jakob Alfred\",male,18,1,0,3101267,6.4958,,S\\r\\n373,0,3,\"Beavan, Mr. William Thomas\",male,19,0,0,323951,8.05,,S\\r\\n374,0,1,\"Ringhini, Mr. Sante\",male,22,0,0,PC 17760,135.6333,,C\\r\\n375,0,3,\"Palsson, Miss. Stina Viola\",female,3,3,1,349909,21.075,,S\\r\\n376,1,1,\"Meyer, Mrs. Edgar Joseph (Leila Saks)\",female,,1,0,PC 17604,82.1708,,C\\r\\n377,1,3,\"Landergren, Miss. Aurora Adelia\",female,22,0,0,C 7077,7.25,,S\\r\\n378,0,1,\"Widener, Mr. Harry Elkins\",male,27,0,2,113503,211.5,C82,C\\r\\n379,0,3,\"Betros, Mr. Tannous\",male,20,0,0,2648,4.0125,,C\\r\\n380,0,3,\"Gustafsson, Mr. Karl Gideon\",male,19,0,0,347069,7.775,,S\\r\\n381,1,1,\"Bidois, Miss. Rosalie\",female,42,0,0,PC 17757,227.525,,C\\r\\n382,1,3,\"Nakid, Miss. Maria (\"\"Mary\"\")\",female,1,0,2,2653,15.7417,,C\\r\\n383,0,3,\"Tikkanen, Mr. Juho\",male,32,0,0,STON/O 2. 3101293,7.925,,S\\r\\n384,1,1,\"Holverson, Mrs. Alexander Oskar (Mary Aline Towner)\",female,35,1,0,113789,52,,S\\r\\n385,0,3,\"Plotcharsky, Mr. Vasil\",male,,0,0,349227,7.8958,,S\\r\\n386,0,2,\"Davies, Mr. Charles Henry\",male,18,0,0,S.O.C. 14879,73.5,,S\\r\\n387,0,3,\"Goodwin, Master. Sidney Leonard\",male,1,5,2,CA 2144,46.9,,S\\r\\n388,1,2,\"Buss, Miss. Kate\",female,36,0,0,27849,13,,S\\r\\n389,0,3,\"Sadlier, Mr. Matthew\",male,,0,0,367655,7.7292,,Q\\r\\n390,1,2,\"Lehmann, Miss. Bertha\",female,17,0,0,SC 1748,12,,C\\r\\n391,1,1,\"Carter, Mr. William Ernest\",male,36,1,2,113760,120,B96 B98,S\\r\\n392,1,3,\"Jansson, Mr. Carl Olof\",male,21,0,0,350034,7.7958,,S\\r\\n393,0,3,\"Gustafsson, Mr. Johan Birger\",male,28,2,0,3101277,7.925,,S\\r\\n394,1,1,\"Newell, Miss. Marjorie\",female,23,1,0,35273,113.275,D36,C\\r\\n395,1,3,\"Sandstrom, Mrs. Hjalmar (Agnes Charlotta Bengtsson)\",female,24,0,2,PP 9549,16.7,G6,S\\r\\n396,0,3,\"Johansson, Mr. Erik\",male,22,0,0,350052,7.7958,,S\\r\\n397,0,3,\"Olsson, Miss. Elina\",female,31,0,0,350407,7.8542,,S\\r\\n398,0,2,\"McKane, Mr. Peter David\",male,46,0,0,28403,26,,S\\r\\n399,0,2,\"Pain, Dr. Alfred\",male,23,0,0,244278,10.5,,S\\r\\n400,1,2,\"Trout, Mrs. William H (Jessie L)\",female,28,0,0,240929,12.65,,S\\r\\n401,1,3,\"Niskanen, Mr. Juha\",male,39,0,0,STON/O 2. 3101289,7.925,,S\\r\\n402,0,3,\"Adams, Mr. John\",male,26,0,0,341826,8.05,,S\\r\\n403,0,3,\"Jussila, Miss. Mari Aina\",female,21,1,0,4137,9.825,,S\\r\\n404,0,3,\"Hakkarainen, Mr. Pekka Pietari\",male,28,1,0,STON/O2. 3101279,15.85,,S\\r\\n405,0,3,\"Oreskovic, Miss. Marija\",female,20,0,0,315096,8.6625,,S\\r\\n406,0,2,\"Gale, Mr. Shadrach\",male,34,1,0,28664,21,,S\\r\\n407,0,3,\"Widegren, Mr. Carl/Charles Peter\",male,51,0,0,347064,7.75,,S\\r\\n408,1,2,\"Richards, Master. William Rowe\",male,3,1,1,29106,18.75,,S\\r\\n409,0,3,\"Birkeland, Mr. Hans Martin Monsen\",male,21,0,0,312992,7.775,,S\\r\\n410,0,3,\"Lefebre, Miss. Ida\",female,,3,1,4133,25.4667,,S\\r\\n411,0,3,\"Sdycoff, Mr. Todor\",male,,0,0,349222,7.8958,,S\\r\\n412,0,3,\"Hart, Mr. Henry\",male,,0,0,394140,6.8583,,Q\\r\\n413,1,1,\"Minahan, Miss. Daisy E\",female,33,1,0,19928,90,C78,Q\\r\\n414,0,2,\"Cunningham, Mr. Alfred Fleming\",male,,0,0,239853,0,,S\\r\\n415,1,3,\"Sundman, Mr. Johan Julian\",male,44,0,0,STON/O 2. 3101269,7.925,,S\\r\\n416,0,3,\"Meek, Mrs. Thomas (Annie Louise Rowley)\",female,,0,0,343095,8.05,,S\\r\\n417,1,2,\"Drew, Mrs. James Vivian (Lulu Thorne Christian)\",female,34,1,1,28220,32.5,,S\\r\\n418,1,2,\"Silven, Miss. Lyyli Karoliina\",female,18,0,2,250652,13,,S\\r\\n419,0,2,\"Matthews, Mr. William John\",male,30,0,0,28228,13,,S\\r\\n420,0,3,\"Van Impe, Miss. Catharina\",female,10,0,2,345773,24.15,,S\\r\\n421,0,3,\"Gheorgheff, Mr. Stanio\",male,,0,0,349254,7.8958,,C\\r\\n422,0,3,\"Charters, Mr. David\",male,21,0,0,A/5. 13032,7.7333,,Q\\r\\n423,0,3,\"Zimmerman, Mr. Leo\",male,29,0,0,315082,7.875,,S\\r\\n424,0,3,\"Danbom, Mrs. Ernst Gilbert (Anna Sigrid Maria Brogren)\",female,28,1,1,347080,14.4,,S\\r\\n425,0,3,\"Rosblom, Mr. Viktor Richard\",male,18,1,1,370129,20.2125,,S\\r\\n426,0,3,\"Wiseman, Mr. Phillippe\",male,,0,0,A/4. 34244,7.25,,S\\r\\n427,1,2,\"Clarke, Mrs. Charles V (Ada Maria Winfield)\",female,28,1,0,2003,26,,S\\r\\n428,1,2,\"Phillips, Miss. Kate Florence (\"\"Mrs Kate Louise Phillips Marshall\"\")\",female,19,0,0,250655,26,,S\\r\\n429,0,3,\"Flynn, Mr. James\",male,,0,0,364851,7.75,,Q\\r\\n430,1,3,\"Pickard, Mr. Berk (Berk Trembisky)\",male,32,0,0,SOTON/O.Q. 392078,8.05,E10,S\\r\\n431,1,1,\"Bjornstrom-Steffansson, Mr. Mauritz Hakan\",male,28,0,0,110564,26.55,C52,S\\r\\n432,1,3,\"Thorneycroft, Mrs. Percival (Florence Kate White)\",female,,1,0,376564,16.1,,S\\r\\n433,1,2,\"Louch, Mrs. Charles Alexander (Alice Adelaide Slow)\",female,42,1,0,SC/AH 3085,26,,S\\r\\n434,0,3,\"Kallio, Mr. Nikolai Erland\",male,17,0,0,STON/O 2. 3101274,7.125,,S\\r\\n435,0,1,\"Silvey, Mr. William Baird\",male,50,1,0,13507,55.9,E44,S\\r\\n436,1,1,\"Carter, Miss. Lucile Polk\",female,14,1,2,113760,120,B96 B98,S\\r\\n437,0,3,\"Ford, Miss. Doolina Margaret \"\"Daisy\"\"\",female,21,2,2,W./C. 6608,34.375,,S\\r\\n438,1,2,\"Richards, Mrs. Sidney (Emily Hocking)\",female,24,2,3,29106,18.75,,S\\r\\n439,0,1,\"Fortune, Mr. Mark\",male,64,1,4,19950,263,C23 C25 C27,S\\r\\n440,0,2,\"Kvillner, Mr. Johan Henrik Johannesson\",male,31,0,0,C.A. 18723,10.5,,S\\r\\n441,1,2,\"Hart, Mrs. Benjamin (Esther Ada Bloomfield)\",female,45,1,1,F.C.C. 13529,26.25,,S\\r\\n442,0,3,\"Hampe, Mr. Leon\",male,20,0,0,345769,9.5,,S\\r\\n443,0,3,\"Petterson, Mr. Johan Emil\",male,25,1,0,347076,7.775,,S\\r\\n444,1,2,\"Reynaldo, Ms. Encarnacion\",female,28,0,0,230434,13,,S\\r\\n445,1,3,\"Johannesen-Bratthammer, Mr. Bernt\",male,,0,0,65306,8.1125,,S\\r\\n446,1,1,\"Dodge, Master. Washington\",male,4,0,2,33638,81.8583,A34,S\\r\\n447,1,2,\"Mellinger, Miss. Madeleine Violet\",female,13,0,1,250644,19.5,,S\\r\\n448,1,1,\"Seward, Mr. Frederic Kimber\",male,34,0,0,113794,26.55,,S\\r\\n449,1,3,\"Baclini, Miss. Marie Catherine\",female,5,2,1,2666,19.2583,,C\\r\\n450,1,1,\"Peuchen, Major. Arthur Godfrey\",male,52,0,0,113786,30.5,C104,S\\r\\n451,0,2,\"West, Mr. Edwy Arthur\",male,36,1,2,C.A. 34651,27.75,,S\\r\\n452,0,3,\"Hagland, Mr. Ingvald Olai Olsen\",male,,1,0,65303,19.9667,,S\\r\\n453,0,1,\"Foreman, Mr. Benjamin Laventall\",male,30,0,0,113051,27.75,C111,C\\r\\n454,1,1,\"Goldenberg, Mr. Samuel L\",male,49,1,0,17453,89.1042,C92,C\\r\\n455,0,3,\"Peduzzi, Mr. Joseph\",male,,0,0,A/5 2817,8.05,,S\\r\\n456,1,3,\"Jalsevac, Mr. Ivan\",male,29,0,0,349240,7.8958,,C\\r\\n457,0,1,\"Millet, Mr. Francis Davis\",male,65,0,0,13509,26.55,E38,S\\r\\n458,1,1,\"Kenyon, Mrs. Frederick R (Marion)\",female,,1,0,17464,51.8625,D21,S\\r\\n459,1,2,\"Toomey, Miss. Ellen\",female,50,0,0,F.C.C. 13531,10.5,,S\\r\\n460,0,3,\"O\\'Connor, Mr. Maurice\",male,,0,0,371060,7.75,,Q\\r\\n461,1,1,\"Anderson, Mr. Harry\",male,48,0,0,19952,26.55,E12,S\\r\\n462,0,3,\"Morley, Mr. William\",male,34,0,0,364506,8.05,,S\\r\\n463,0,1,\"Gee, Mr. Arthur H\",male,47,0,0,111320,38.5,E63,S\\r\\n464,0,2,\"Milling, Mr. Jacob Christian\",male,48,0,0,234360,13,,S\\r\\n465,0,3,\"Maisner, Mr. Simon\",male,,0,0,A/S 2816,8.05,,S\\r\\n466,0,3,\"Goncalves, Mr. Manuel Estanslas\",male,38,0,0,SOTON/O.Q. 3101306,7.05,,S\\r\\n467,0,2,\"Campbell, Mr. William\",male,,0,0,239853,0,,S\\r\\n468,0,1,\"Smart, Mr. John Montgomery\",male,56,0,0,113792,26.55,,S\\r\\n469,0,3,\"Scanlan, Mr. James\",male,,0,0,36209,7.725,,Q\\r\\n470,1,3,\"Baclini, Miss. Helene Barbara\",female,0.75,2,1,2666,19.2583,,C\\r\\n471,0,3,\"Keefe, Mr. Arthur\",male,,0,0,323592,7.25,,S\\r\\n472,0,3,\"Cacic, Mr. Luka\",male,38,0,0,315089,8.6625,,S\\r\\n473,1,2,\"West, Mrs. Edwy Arthur (Ada Mary Worth)\",female,33,1,2,C.A. 34651,27.75,,S\\r\\n474,1,2,\"Jerwan, Mrs. Amin S (Marie Marthe Thuillard)\",female,23,0,0,SC/AH Basle 541,13.7917,D,C\\r\\n475,0,3,\"Strandberg, Miss. Ida Sofia\",female,22,0,0,7553,9.8375,,S\\r\\n476,0,1,\"Clifford, Mr. George Quincy\",male,,0,0,110465,52,A14,S\\r\\n477,0,2,\"Renouf, Mr. Peter Henry\",male,34,1,0,31027,21,,S\\r\\n478,0,3,\"Braund, Mr. Lewis Richard\",male,29,1,0,3460,7.0458,,S\\r\\n479,0,3,\"Karlsson, Mr. Nils August\",male,22,0,0,350060,7.5208,,S\\r\\n480,1,3,\"Hirvonen, Miss. Hildur E\",female,2,0,1,3101298,12.2875,,S\\r\\n481,0,3,\"Goodwin, Master. Harold Victor\",male,9,5,2,CA 2144,46.9,,S\\r\\n482,0,2,\"Frost, Mr. Anthony Wood \"\"Archie\"\"\",male,,0,0,239854,0,,S\\r\\n483,0,3,\"Rouse, Mr. Richard Henry\",male,50,0,0,A/5 3594,8.05,,S\\r\\n484,1,3,\"Turkula, Mrs. (Hedwig)\",female,63,0,0,4134,9.5875,,S\\r\\n485,1,1,\"Bishop, Mr. Dickinson H\",male,25,1,0,11967,91.0792,B49,C\\r\\n486,0,3,\"Lefebre, Miss. Jeannie\",female,,3,1,4133,25.4667,,S\\r\\n487,1,1,\"Hoyt, Mrs. Frederick Maxfield (Jane Anne Forby)\",female,35,1,0,19943,90,C93,S\\r\\n488,0,1,\"Kent, Mr. Edward Austin\",male,58,0,0,11771,29.7,B37,C\\r\\n489,0,3,\"Somerton, Mr. Francis William\",male,30,0,0,A.5. 18509,8.05,,S\\r\\n490,1,3,\"Coutts, Master. Eden Leslie \"\"Neville\"\"\",male,9,1,1,C.A. 37671,15.9,,S\\r\\n491,0,3,\"Hagland, Mr. Konrad Mathias Reiersen\",male,,1,0,65304,19.9667,,S\\r\\n492,0,3,\"Windelov, Mr. Einar\",male,21,0,0,SOTON/OQ 3101317,7.25,,S\\r\\n493,0,1,\"Molson, Mr. Harry Markland\",male,55,0,0,113787,30.5,C30,S\\r\\n494,0,1,\"Artagaveytia, Mr. Ramon\",male,71,0,0,PC 17609,49.5042,,C\\r\\n495,0,3,\"Stanley, Mr. Edward Roland\",male,21,0,0,A/4 45380,8.05,,S\\r\\n496,0,3,\"Yousseff, Mr. Gerious\",male,,0,0,2627,14.4583,,C\\r\\n497,1,1,\"Eustis, Miss. Elizabeth Mussey\",female,54,1,0,36947,78.2667,D20,C\\r\\n498,0,3,\"Shellard, Mr. Frederick William\",male,,0,0,C.A. 6212,15.1,,S\\r\\n499,0,1,\"Allison, Mrs. Hudson J C (Bessie Waldo Daniels)\",female,25,1,2,113781,151.55,C22 C26,S\\r\\n500,0,3,\"Svensson, Mr. Olof\",male,24,0,0,350035,7.7958,,S\\r\\n501,0,3,\"Calic, Mr. Petar\",male,17,0,0,315086,8.6625,,S\\r\\n502,0,3,\"Canavan, Miss. Mary\",female,21,0,0,364846,7.75,,Q\\r\\n503,0,3,\"O\\'Sullivan, Miss. Bridget Mary\",female,,0,0,330909,7.6292,,Q\\r\\n504,0,3,\"Laitinen, Miss. Kristina Sofia\",female,37,0,0,4135,9.5875,,S\\r\\n505,1,1,\"Maioni, Miss. Roberta\",female,16,0,0,110152,86.5,B79,S\\r\\n506,0,1,\"Penasco y Castellana, Mr. Victor de Satode\",male,18,1,0,PC 17758,108.9,C65,C\\r\\n507,1,2,\"Quick, Mrs. Frederick Charles (Jane Richards)\",female,33,0,2,26360,26,,S\\r\\n508,1,1,\"Bradley, Mr. George (\"\"George Arthur Brayton\"\")\",male,,0,0,111427,26.55,,S\\r\\n509,0,3,\"Olsen, Mr. Henry Margido\",male,28,0,0,C 4001,22.525,,S\\r\\n510,1,3,\"Lang, Mr. Fang\",male,26,0,0,1601,56.4958,,S\\r\\n511,1,3,\"Daly, Mr. Eugene Patrick\",male,29,0,0,382651,7.75,,Q\\r\\n512,0,3,\"Webber, Mr. James\",male,,0,0,SOTON/OQ 3101316,8.05,,S\\r\\n513,1,1,\"McGough, Mr. James Robert\",male,36,0,0,PC 17473,26.2875,E25,S\\r\\n514,1,1,\"Rothschild, Mrs. Martin (Elizabeth L. Barrett)\",female,54,1,0,PC 17603,59.4,,C\\r\\n515,0,3,\"Coleff, Mr. Satio\",male,24,0,0,349209,7.4958,,S\\r\\n516,0,1,\"Walker, Mr. William Anderson\",male,47,0,0,36967,34.0208,D46,S\\r\\n517,1,2,\"Lemore, Mrs. (Amelia Milley)\",female,34,0,0,C.A. 34260,10.5,F33,S\\r\\n518,0,3,\"Ryan, Mr. Patrick\",male,,0,0,371110,24.15,,Q\\r\\n519,1,2,\"Angle, Mrs. William A (Florence \"\"Mary\"\" Agnes Hughes)\",female,36,1,0,226875,26,,S\\r\\n520,0,3,\"Pavlovic, Mr. Stefo\",male,32,0,0,349242,7.8958,,S\\r\\n521,1,1,\"Perreault, Miss. Anne\",female,30,0,0,12749,93.5,B73,S\\r\\n522,0,3,\"Vovk, Mr. Janko\",male,22,0,0,349252,7.8958,,S\\r\\n523,0,3,\"Lahoud, Mr. Sarkis\",male,,0,0,2624,7.225,,C\\r\\n524,1,1,\"Hippach, Mrs. Louis Albert (Ida Sophia Fischer)\",female,44,0,1,111361,57.9792,B18,C\\r\\n525,0,3,\"Kassem, Mr. Fared\",male,,0,0,2700,7.2292,,C\\r\\n526,0,3,\"Farrell, Mr. James\",male,40.5,0,0,367232,7.75,,Q\\r\\n527,1,2,\"Ridsdale, Miss. Lucy\",female,50,0,0,W./C. 14258,10.5,,S\\r\\n528,0,1,\"Farthing, Mr. John\",male,,0,0,PC 17483,221.7792,C95,S\\r\\n529,0,3,\"Salonen, Mr. Johan Werner\",male,39,0,0,3101296,7.925,,S\\r\\n530,0,2,\"Hocking, Mr. Richard George\",male,23,2,1,29104,11.5,,S\\r\\n531,1,2,\"Quick, Miss. Phyllis May\",female,2,1,1,26360,26,,S\\r\\n532,0,3,\"Toufik, Mr. Nakli\",male,,0,0,2641,7.2292,,C\\r\\n533,0,3,\"Elias, Mr. Joseph Jr\",male,17,1,1,2690,7.2292,,C\\r\\n534,1,3,\"Peter, Mrs. Catherine (Catherine Rizk)\",female,,0,2,2668,22.3583,,C\\r\\n535,0,3,\"Cacic, Miss. Marija\",female,30,0,0,315084,8.6625,,S\\r\\n536,1,2,\"Hart, Miss. Eva Miriam\",female,7,0,2,F.C.C. 13529,26.25,,S\\r\\n537,0,1,\"Butt, Major. Archibald Willingham\",male,45,0,0,113050,26.55,B38,S\\r\\n538,1,1,\"LeRoy, Miss. Bertha\",female,30,0,0,PC 17761,106.425,,C\\r\\n539,0,3,\"Risien, Mr. Samuel Beard\",male,,0,0,364498,14.5,,S\\r\\n540,1,1,\"Frolicher, Miss. Hedwig Margaritha\",female,22,0,2,13568,49.5,B39,C\\r\\n541,1,1,\"Crosby, Miss. Harriet R\",female,36,0,2,WE/P 5735,71,B22,S\\r\\n542,0,3,\"Andersson, Miss. Ingeborg Constanzia\",female,9,4,2,347082,31.275,,S\\r\\n543,0,3,\"Andersson, Miss. Sigrid Elisabeth\",female,11,4,2,347082,31.275,,S\\r\\n544,1,2,\"Beane, Mr. Edward\",male,32,1,0,2908,26,,S\\r\\n545,0,1,\"Douglas, Mr. Walter Donald\",male,50,1,0,PC 17761,106.425,C86,C\\r\\n546,0,1,\"Nicholson, Mr. Arthur Ernest\",male,64,0,0,693,26,,S\\r\\n547,1,2,\"Beane, Mrs. Edward (Ethel Clarke)\",female,19,1,0,2908,26,,S\\r\\n548,1,2,\"Padro y Manent, Mr. Julian\",male,,0,0,SC/PARIS 2146,13.8625,,C\\r\\n549,0,3,\"Goldsmith, Mr. Frank John\",male,33,1,1,363291,20.525,,S\\r\\n550,1,2,\"Davies, Master. John Morgan Jr\",male,8,1,1,C.A. 33112,36.75,,S\\r\\n551,1,1,\"Thayer, Mr. John Borland Jr\",male,17,0,2,17421,110.8833,C70,C\\r\\n552,0,2,\"Sharp, Mr. Percival James R\",male,27,0,0,244358,26,,S\\r\\n553,0,3,\"O\\'Brien, Mr. Timothy\",male,,0,0,330979,7.8292,,Q\\r\\n554,1,3,\"Leeni, Mr. Fahim (\"\"Philip Zenni\"\")\",male,22,0,0,2620,7.225,,C\\r\\n555,1,3,\"Ohman, Miss. Velin\",female,22,0,0,347085,7.775,,S\\r\\n556,0,1,\"Wright, Mr. George\",male,62,0,0,113807,26.55,,S\\r\\n557,1,1,\"Duff Gordon, Lady. (Lucille Christiana Sutherland) (\"\"Mrs Morgan\"\")\",female,48,1,0,11755,39.6,A16,C\\r\\n558,0,1,\"Robbins, Mr. Victor\",male,,0,0,PC 17757,227.525,,C\\r\\n559,1,1,\"Taussig, Mrs. Emil (Tillie Mandelbaum)\",female,39,1,1,110413,79.65,E67,S\\r\\n560,1,3,\"de Messemaeker, Mrs. Guillaume Joseph (Emma)\",female,36,1,0,345572,17.4,,S\\r\\n561,0,3,\"Morrow, Mr. Thomas Rowan\",male,,0,0,372622,7.75,,Q\\r\\n562,0,3,\"Sivic, Mr. Husein\",male,40,0,0,349251,7.8958,,S\\r\\n563,0,2,\"Norman, Mr. Robert Douglas\",male,28,0,0,218629,13.5,,S\\r\\n564,0,3,\"Simmons, Mr. John\",male,,0,0,SOTON/OQ 392082,8.05,,S\\r\\n565,0,3,\"Meanwell, Miss. (Marion Ogden)\",female,,0,0,SOTON/O.Q. 392087,8.05,,S\\r\\n566,0,3,\"Davies, Mr. Alfred J\",male,24,2,0,A/4 48871,24.15,,S\\r\\n567,0,3,\"Stoytcheff, Mr. Ilia\",male,19,0,0,349205,7.8958,,S\\r\\n568,0,3,\"Palsson, Mrs. Nils (Alma Cornelia Berglund)\",female,29,0,4,349909,21.075,,S\\r\\n569,0,3,\"Doharr, Mr. Tannous\",male,,0,0,2686,7.2292,,C\\r\\n570,1,3,\"Jonsson, Mr. Carl\",male,32,0,0,350417,7.8542,,S\\r\\n571,1,2,\"Harris, Mr. George\",male,62,0,0,S.W./PP 752,10.5,,S\\r\\n572,1,1,\"Appleton, Mrs. Edward Dale (Charlotte Lamson)\",female,53,2,0,11769,51.4792,C101,S\\r\\n573,1,1,\"Flynn, Mr. John Irwin (\"\"Irving\"\")\",male,36,0,0,PC 17474,26.3875,E25,S\\r\\n574,1,3,\"Kelly, Miss. Mary\",female,,0,0,14312,7.75,,Q\\r\\n575,0,3,\"Rush, Mr. Alfred George John\",male,16,0,0,A/4. 20589,8.05,,S\\r\\n576,0,3,\"Patchett, Mr. George\",male,19,0,0,358585,14.5,,S\\r\\n577,1,2,\"Garside, Miss. Ethel\",female,34,0,0,243880,13,,S\\r\\n578,1,1,\"Silvey, Mrs. William Baird (Alice Munger)\",female,39,1,0,13507,55.9,E44,S\\r\\n579,0,3,\"Caram, Mrs. Joseph (Maria Elias)\",female,,1,0,2689,14.4583,,C\\r\\n580,1,3,\"Jussila, Mr. Eiriik\",male,32,0,0,STON/O 2. 3101286,7.925,,S\\r\\n581,1,2,\"Christy, Miss. Julie Rachel\",female,25,1,1,237789,30,,S\\r\\n582,1,1,\"Thayer, Mrs. John Borland (Marian Longstreth Morris)\",female,39,1,1,17421,110.8833,C68,C\\r\\n583,0,2,\"Downton, Mr. William James\",male,54,0,0,28403,26,,S\\r\\n584,0,1,\"Ross, Mr. John Hugo\",male,36,0,0,13049,40.125,A10,C\\r\\n585,0,3,\"Paulner, Mr. Uscher\",male,,0,0,3411,8.7125,,C\\r\\n586,1,1,\"Taussig, Miss. Ruth\",female,18,0,2,110413,79.65,E68,S\\r\\n587,0,2,\"Jarvis, Mr. John Denzil\",male,47,0,0,237565,15,,S\\r\\n588,1,1,\"Frolicher-Stehli, Mr. Maxmillian\",male,60,1,1,13567,79.2,B41,C\\r\\n589,0,3,\"Gilinski, Mr. Eliezer\",male,22,0,0,14973,8.05,,S\\r\\n590,0,3,\"Murdlin, Mr. Joseph\",male,,0,0,A./5. 3235,8.05,,S\\r\\n591,0,3,\"Rintamaki, Mr. Matti\",male,35,0,0,STON/O 2. 3101273,7.125,,S\\r\\n592,1,1,\"Stephenson, Mrs. Walter Bertram (Martha Eustis)\",female,52,1,0,36947,78.2667,D20,C\\r\\n593,0,3,\"Elsbury, Mr. William James\",male,47,0,0,A/5 3902,7.25,,S\\r\\n594,0,3,\"Bourke, Miss. Mary\",female,,0,2,364848,7.75,,Q\\r\\n595,0,2,\"Chapman, Mr. John Henry\",male,37,1,0,SC/AH 29037,26,,S\\r\\n596,0,3,\"Van Impe, Mr. Jean Baptiste\",male,36,1,1,345773,24.15,,S\\r\\n597,1,2,\"Leitch, Miss. Jessie Wills\",female,,0,0,248727,33,,S\\r\\n598,0,3,\"Johnson, Mr. Alfred\",male,49,0,0,LINE,0,,S\\r\\n599,0,3,\"Boulos, Mr. Hanna\",male,,0,0,2664,7.225,,C\\r\\n600,1,1,\"Duff Gordon, Sir. Cosmo Edmund (\"\"Mr Morgan\"\")\",male,49,1,0,PC 17485,56.9292,A20,C\\r\\n601,1,2,\"Jacobsohn, Mrs. Sidney Samuel (Amy Frances Christy)\",female,24,2,1,243847,27,,S\\r\\n602,0,3,\"Slabenoff, Mr. Petco\",male,,0,0,349214,7.8958,,S\\r\\n603,0,1,\"Harrington, Mr. Charles H\",male,,0,0,113796,42.4,,S\\r\\n604,0,3,\"Torber, Mr. Ernst William\",male,44,0,0,364511,8.05,,S\\r\\n605,1,1,\"Homer, Mr. Harry (\"\"Mr E Haven\"\")\",male,35,0,0,111426,26.55,,C\\r\\n606,0,3,\"Lindell, Mr. Edvard Bengtsson\",male,36,1,0,349910,15.55,,S\\r\\n607,0,3,\"Karaic, Mr. Milan\",male,30,0,0,349246,7.8958,,S\\r\\n608,1,1,\"Daniel, Mr. Robert Williams\",male,27,0,0,113804,30.5,,S\\r\\n609,1,2,\"Laroche, Mrs. Joseph (Juliette Marie Louise Lafargue)\",female,22,1,2,SC/Paris 2123,41.5792,,C\\r\\n610,1,1,\"Shutes, Miss. Elizabeth W\",female,40,0,0,PC 17582,153.4625,C125,S\\r\\n611,0,3,\"Andersson, Mrs. Anders Johan (Alfrida Konstantia Brogren)\",female,39,1,5,347082,31.275,,S\\r\\n612,0,3,\"Jardin, Mr. Jose Neto\",male,,0,0,SOTON/O.Q. 3101305,7.05,,S\\r\\n613,1,3,\"Murphy, Miss. Margaret Jane\",female,,1,0,367230,15.5,,Q\\r\\n614,0,3,\"Horgan, Mr. John\",male,,0,0,370377,7.75,,Q\\r\\n615,0,3,\"Brocklebank, Mr. William Alfred\",male,35,0,0,364512,8.05,,S\\r\\n616,1,2,\"Herman, Miss. Alice\",female,24,1,2,220845,65,,S\\r\\n617,0,3,\"Danbom, Mr. Ernst Gilbert\",male,34,1,1,347080,14.4,,S\\r\\n618,0,3,\"Lobb, Mrs. William Arthur (Cordelia K Stanlick)\",female,26,1,0,A/5. 3336,16.1,,S\\r\\n619,1,2,\"Becker, Miss. Marion Louise\",female,4,2,1,230136,39,F4,S\\r\\n620,0,2,\"Gavey, Mr. Lawrence\",male,26,0,0,31028,10.5,,S\\r\\n621,0,3,\"Yasbeck, Mr. Antoni\",male,27,1,0,2659,14.4542,,C\\r\\n622,1,1,\"Kimball, Mr. Edwin Nelson Jr\",male,42,1,0,11753,52.5542,D19,S\\r\\n623,1,3,\"Nakid, Mr. Sahid\",male,20,1,1,2653,15.7417,,C\\r\\n624,0,3,\"Hansen, Mr. Henry Damsgaard\",male,21,0,0,350029,7.8542,,S\\r\\n625,0,3,\"Bowen, Mr. David John \"\"Dai\"\"\",male,21,0,0,54636,16.1,,S\\r\\n626,0,1,\"Sutton, Mr. Frederick\",male,61,0,0,36963,32.3208,D50,S\\r\\n627,0,2,\"Kirkland, Rev. Charles Leonard\",male,57,0,0,219533,12.35,,Q\\r\\n628,1,1,\"Longley, Miss. Gretchen Fiske\",female,21,0,0,13502,77.9583,D9,S\\r\\n629,0,3,\"Bostandyeff, Mr. Guentcho\",male,26,0,0,349224,7.8958,,S\\r\\n630,0,3,\"O\\'Connell, Mr. Patrick D\",male,,0,0,334912,7.7333,,Q\\r\\n631,1,1,\"Barkworth, Mr. Algernon Henry Wilson\",male,80,0,0,27042,30,A23,S\\r\\n632,0,3,\"Lundahl, Mr. Johan Svensson\",male,51,0,0,347743,7.0542,,S\\r\\n633,1,1,\"Stahelin-Maeglin, Dr. Max\",male,32,0,0,13214,30.5,B50,C\\r\\n634,0,1,\"Parr, Mr. William Henry Marsh\",male,,0,0,112052,0,,S\\r\\n635,0,3,\"Skoog, Miss. Mabel\",female,9,3,2,347088,27.9,,S\\r\\n636,1,2,\"Davis, Miss. Mary\",female,28,0,0,237668,13,,S\\r\\n637,0,3,\"Leinonen, Mr. Antti Gustaf\",male,32,0,0,STON/O 2. 3101292,7.925,,S\\r\\n638,0,2,\"Collyer, Mr. Harvey\",male,31,1,1,C.A. 31921,26.25,,S\\r\\n639,0,3,\"Panula, Mrs. Juha (Maria Emilia Ojala)\",female,41,0,5,3101295,39.6875,,S\\r\\n640,0,3,\"Thorneycroft, Mr. Percival\",male,,1,0,376564,16.1,,S\\r\\n641,0,3,\"Jensen, Mr. Hans Peder\",male,20,0,0,350050,7.8542,,S\\r\\n642,1,1,\"Sagesser, Mlle. Emma\",female,24,0,0,PC 17477,69.3,B35,C\\r\\n643,0,3,\"Skoog, Miss. Margit Elizabeth\",female,2,3,2,347088,27.9,,S\\r\\n644,1,3,\"Foo, Mr. Choong\",male,,0,0,1601,56.4958,,S\\r\\n645,1,3,\"Baclini, Miss. Eugenie\",female,0.75,2,1,2666,19.2583,,C\\r\\n646,1,1,\"Harper, Mr. Henry Sleeper\",male,48,1,0,PC 17572,76.7292,D33,C\\r\\n647,0,3,\"Cor, Mr. Liudevit\",male,19,0,0,349231,7.8958,,S\\r\\n648,1,1,\"Simonius-Blumer, Col. Oberst Alfons\",male,56,0,0,13213,35.5,A26,C\\r\\n649,0,3,\"Willey, Mr. Edward\",male,,0,0,S.O./P.P. 751,7.55,,S\\r\\n650,1,3,\"Stanley, Miss. Amy Zillah Elsie\",female,23,0,0,CA. 2314,7.55,,S\\r\\n651,0,3,\"Mitkoff, Mr. Mito\",male,,0,0,349221,7.8958,,S\\r\\n652,1,2,\"Doling, Miss. Elsie\",female,18,0,1,231919,23,,S\\r\\n653,0,3,\"Kalvik, Mr. Johannes Halvorsen\",male,21,0,0,8475,8.4333,,S\\r\\n654,1,3,\"O\\'Leary, Miss. Hanora \"\"Norah\"\"\",female,,0,0,330919,7.8292,,Q\\r\\n655,0,3,\"Hegarty, Miss. Hanora \"\"Nora\"\"\",female,18,0,0,365226,6.75,,Q\\r\\n656,0,2,\"Hickman, Mr. Leonard Mark\",male,24,2,0,S.O.C. 14879,73.5,,S\\r\\n657,0,3,\"Radeff, Mr. Alexander\",male,,0,0,349223,7.8958,,S\\r\\n658,0,3,\"Bourke, Mrs. John (Catherine)\",female,32,1,1,364849,15.5,,Q\\r\\n659,0,2,\"Eitemiller, Mr. George Floyd\",male,23,0,0,29751,13,,S\\r\\n660,0,1,\"Newell, Mr. Arthur Webster\",male,58,0,2,35273,113.275,D48,C\\r\\n661,1,1,\"Frauenthal, Dr. Henry William\",male,50,2,0,PC 17611,133.65,,S\\r\\n662,0,3,\"Badt, Mr. Mohamed\",male,40,0,0,2623,7.225,,C\\r\\n663,0,1,\"Colley, Mr. Edward Pomeroy\",male,47,0,0,5727,25.5875,E58,S\\r\\n664,0,3,\"Coleff, Mr. Peju\",male,36,0,0,349210,7.4958,,S\\r\\n665,1,3,\"Lindqvist, Mr. Eino William\",male,20,1,0,STON/O 2. 3101285,7.925,,S\\r\\n666,0,2,\"Hickman, Mr. Lewis\",male,32,2,0,S.O.C. 14879,73.5,,S\\r\\n667,0,2,\"Butler, Mr. Reginald Fenton\",male,25,0,0,234686,13,,S\\r\\n668,0,3,\"Rommetvedt, Mr. Knud Paust\",male,,0,0,312993,7.775,,S\\r\\n669,0,3,\"Cook, Mr. Jacob\",male,43,0,0,A/5 3536,8.05,,S\\r\\n670,1,1,\"Taylor, Mrs. Elmer Zebley (Juliet Cummins Wright)\",female,,1,0,19996,52,C126,S\\r\\n671,1,2,\"Brown, Mrs. Thomas William Solomon (Elizabeth Catherine Ford)\",female,40,1,1,29750,39,,S\\r\\n672,0,1,\"Davidson, Mr. Thornton\",male,31,1,0,F.C. 12750,52,B71,S\\r\\n673,0,2,\"Mitchell, Mr. Henry Michael\",male,70,0,0,C.A. 24580,10.5,,S\\r\\n674,1,2,\"Wilhelms, Mr. Charles\",male,31,0,0,244270,13,,S\\r\\n675,0,2,\"Watson, Mr. Ennis Hastings\",male,,0,0,239856,0,,S\\r\\n676,0,3,\"Edvardsson, Mr. Gustaf Hjalmar\",male,18,0,0,349912,7.775,,S\\r\\n677,0,3,\"Sawyer, Mr. Frederick Charles\",male,24.5,0,0,342826,8.05,,S\\r\\n678,1,3,\"Turja, Miss. Anna Sofia\",female,18,0,0,4138,9.8417,,S\\r\\n679,0,3,\"Goodwin, Mrs. Frederick (Augusta Tyler)\",female,43,1,6,CA 2144,46.9,,S\\r\\n680,1,1,\"Cardeza, Mr. Thomas Drake Martinez\",male,36,0,1,PC 17755,512.3292,B51 B53 B55,C\\r\\n681,0,3,\"Peters, Miss. Katie\",female,,0,0,330935,8.1375,,Q\\r\\n682,1,1,\"Hassab, Mr. Hammad\",male,27,0,0,PC 17572,76.7292,D49,C\\r\\n683,0,3,\"Olsvigen, Mr. Thor Anderson\",male,20,0,0,6563,9.225,,S\\r\\n684,0,3,\"Goodwin, Mr. Charles Edward\",male,14,5,2,CA 2144,46.9,,S\\r\\n685,0,2,\"Brown, Mr. Thomas William Solomon\",male,60,1,1,29750,39,,S\\r\\n686,0,2,\"Laroche, Mr. Joseph Philippe Lemercier\",male,25,1,2,SC/Paris 2123,41.5792,,C\\r\\n687,0,3,\"Panula, Mr. Jaako Arnold\",male,14,4,1,3101295,39.6875,,S\\r\\n688,0,3,\"Dakic, Mr. Branko\",male,19,0,0,349228,10.1708,,S\\r\\n689,0,3,\"Fischer, Mr. Eberhard Thelander\",male,18,0,0,350036,7.7958,,S\\r\\n690,1,1,\"Madill, Miss. Georgette Alexandra\",female,15,0,1,24160,211.3375,B5,S\\r\\n691,1,1,\"Dick, Mr. Albert Adrian\",male,31,1,0,17474,57,B20,S\\r\\n692,1,3,\"Karun, Miss. Manca\",female,4,0,1,349256,13.4167,,C\\r\\n693,1,3,\"Lam, Mr. Ali\",male,,0,0,1601,56.4958,,S\\r\\n694,0,3,\"Saad, Mr. Khalil\",male,25,0,0,2672,7.225,,C\\r\\n695,0,1,\"Weir, Col. John\",male,60,0,0,113800,26.55,,S\\r\\n696,0,2,\"Chapman, Mr. Charles Henry\",male,52,0,0,248731,13.5,,S\\r\\n697,0,3,\"Kelly, Mr. James\",male,44,0,0,363592,8.05,,S\\r\\n698,1,3,\"Mullens, Miss. Katherine \"\"Katie\"\"\",female,,0,0,35852,7.7333,,Q\\r\\n699,0,1,\"Thayer, Mr. John Borland\",male,49,1,1,17421,110.8833,C68,C\\r\\n700,0,3,\"Humblen, Mr. Adolf Mathias Nicolai Olsen\",male,42,0,0,348121,7.65,F G63,S\\r\\n701,1,1,\"Astor, Mrs. John Jacob (Madeleine Talmadge Force)\",female,18,1,0,PC 17757,227.525,C62 C64,C\\r\\n702,1,1,\"Silverthorne, Mr. Spencer Victor\",male,35,0,0,PC 17475,26.2875,E24,S\\r\\n703,0,3,\"Barbara, Miss. Saiide\",female,18,0,1,2691,14.4542,,C\\r\\n704,0,3,\"Gallagher, Mr. Martin\",male,25,0,0,36864,7.7417,,Q\\r\\n705,0,3,\"Hansen, Mr. Henrik Juul\",male,26,1,0,350025,7.8542,,S\\r\\n706,0,2,\"Morley, Mr. Henry Samuel (\"\"Mr Henry Marshall\"\")\",male,39,0,0,250655,26,,S\\r\\n707,1,2,\"Kelly, Mrs. Florence \"\"Fannie\"\"\",female,45,0,0,223596,13.5,,S\\r\\n708,1,1,\"Calderhead, Mr. Edward Pennington\",male,42,0,0,PC 17476,26.2875,E24,S\\r\\n709,1,1,\"Cleaver, Miss. Alice\",female,22,0,0,113781,151.55,,S\\r\\n710,1,3,\"Moubarek, Master. Halim Gonios (\"\"William George\"\")\",male,,1,1,2661,15.2458,,C\\r\\n711,1,1,\"Mayne, Mlle. Berthe Antonine (\"\"Mrs de Villiers\"\")\",female,24,0,0,PC 17482,49.5042,C90,C\\r\\n712,0,1,\"Klaber, Mr. Herman\",male,,0,0,113028,26.55,C124,S\\r\\n713,1,1,\"Taylor, Mr. Elmer Zebley\",male,48,1,0,19996,52,C126,S\\r\\n714,0,3,\"Larsson, Mr. August Viktor\",male,29,0,0,7545,9.4833,,S\\r\\n715,0,2,\"Greenberg, Mr. Samuel\",male,52,0,0,250647,13,,S\\r\\n716,0,3,\"Soholt, Mr. Peter Andreas Lauritz Andersen\",male,19,0,0,348124,7.65,F G73,S\\r\\n717,1,1,\"Endres, Miss. Caroline Louise\",female,38,0,0,PC 17757,227.525,C45,C\\r\\n718,1,2,\"Troutt, Miss. Edwina Celia \"\"Winnie\"\"\",female,27,0,0,34218,10.5,E101,S\\r\\n719,0,3,\"McEvoy, Mr. Michael\",male,,0,0,36568,15.5,,Q\\r\\n720,0,3,\"Johnson, Mr. Malkolm Joackim\",male,33,0,0,347062,7.775,,S\\r\\n721,1,2,\"Harper, Miss. Annie Jessie \"\"Nina\"\"\",female,6,0,1,248727,33,,S\\r\\n722,0,3,\"Jensen, Mr. Svend Lauritz\",male,17,1,0,350048,7.0542,,S\\r\\n723,0,2,\"Gillespie, Mr. William Henry\",male,34,0,0,12233,13,,S\\r\\n724,0,2,\"Hodges, Mr. Henry Price\",male,50,0,0,250643,13,,S\\r\\n725,1,1,\"Chambers, Mr. Norman Campbell\",male,27,1,0,113806,53.1,E8,S\\r\\n726,0,3,\"Oreskovic, Mr. Luka\",male,20,0,0,315094,8.6625,,S\\r\\n727,1,2,\"Renouf, Mrs. Peter Henry (Lillian Jefferys)\",female,30,3,0,31027,21,,S\\r\\n728,1,3,\"Mannion, Miss. Margareth\",female,,0,0,36866,7.7375,,Q\\r\\n729,0,2,\"Bryhl, Mr. Kurt Arnold Gottfrid\",male,25,1,0,236853,26,,S\\r\\n730,0,3,\"Ilmakangas, Miss. Pieta Sofia\",female,25,1,0,STON/O2. 3101271,7.925,,S\\r\\n731,1,1,\"Allen, Miss. Elisabeth Walton\",female,29,0,0,24160,211.3375,B5,S\\r\\n732,0,3,\"Hassan, Mr. Houssein G N\",male,11,0,0,2699,18.7875,,C\\r\\n733,0,2,\"Knight, Mr. Robert J\",male,,0,0,239855,0,,S\\r\\n734,0,2,\"Berriman, Mr. William John\",male,23,0,0,28425,13,,S\\r\\n735,0,2,\"Troupiansky, Mr. Moses Aaron\",male,23,0,0,233639,13,,S\\r\\n736,0,3,\"Williams, Mr. Leslie\",male,28.5,0,0,54636,16.1,,S\\r\\n737,0,3,\"Ford, Mrs. Edward (Margaret Ann Watson)\",female,48,1,3,W./C. 6608,34.375,,S\\r\\n738,1,1,\"Lesurer, Mr. Gustave J\",male,35,0,0,PC 17755,512.3292,B101,C\\r\\n739,0,3,\"Ivanoff, Mr. Kanio\",male,,0,0,349201,7.8958,,S\\r\\n740,0,3,\"Nankoff, Mr. Minko\",male,,0,0,349218,7.8958,,S\\r\\n741,1,1,\"Hawksford, Mr. Walter James\",male,,0,0,16988,30,D45,S\\r\\n742,0,1,\"Cavendish, Mr. Tyrell William\",male,36,1,0,19877,78.85,C46,S\\r\\n743,1,1,\"Ryerson, Miss. Susan Parker \"\"Suzette\"\"\",female,21,2,2,PC 17608,262.375,B57 B59 B63 B66,C\\r\\n744,0,3,\"McNamee, Mr. Neal\",male,24,1,0,376566,16.1,,S\\r\\n745,1,3,\"Stranden, Mr. Juho\",male,31,0,0,STON/O 2. 3101288,7.925,,S\\r\\n746,0,1,\"Crosby, Capt. Edward Gifford\",male,70,1,1,WE/P 5735,71,B22,S\\r\\n747,0,3,\"Abbott, Mr. Rossmore Edward\",male,16,1,1,C.A. 2673,20.25,,S\\r\\n748,1,2,\"Sinkkonen, Miss. Anna\",female,30,0,0,250648,13,,S\\r\\n749,0,1,\"Marvin, Mr. Daniel Warner\",male,19,1,0,113773,53.1,D30,S\\r\\n750,0,3,\"Connaghton, Mr. Michael\",male,31,0,0,335097,7.75,,Q\\r\\n751,1,2,\"Wells, Miss. Joan\",female,4,1,1,29103,23,,S\\r\\n752,1,3,\"Moor, Master. Meier\",male,6,0,1,392096,12.475,E121,S\\r\\n753,0,3,\"Vande Velde, Mr. Johannes Joseph\",male,33,0,0,345780,9.5,,S\\r\\n754,0,3,\"Jonkoff, Mr. Lalio\",male,23,0,0,349204,7.8958,,S\\r\\n755,1,2,\"Herman, Mrs. Samuel (Jane Laver)\",female,48,1,2,220845,65,,S\\r\\n756,1,2,\"Hamalainen, Master. Viljo\",male,0.67,1,1,250649,14.5,,S\\r\\n757,0,3,\"Carlsson, Mr. August Sigfrid\",male,28,0,0,350042,7.7958,,S\\r\\n758,0,2,\"Bailey, Mr. Percy Andrew\",male,18,0,0,29108,11.5,,S\\r\\n759,0,3,\"Theobald, Mr. Thomas Leonard\",male,34,0,0,363294,8.05,,S\\r\\n760,1,1,\"Rothes, the Countess. of (Lucy Noel Martha Dyer-Edwards)\",female,33,0,0,110152,86.5,B77,S\\r\\n761,0,3,\"Garfirth, Mr. John\",male,,0,0,358585,14.5,,S\\r\\n762,0,3,\"Nirva, Mr. Iisakki Antino Aijo\",male,41,0,0,SOTON/O2 3101272,7.125,,S\\r\\n763,1,3,\"Barah, Mr. Hanna Assi\",male,20,0,0,2663,7.2292,,C\\r\\n764,1,1,\"Carter, Mrs. William Ernest (Lucile Polk)\",female,36,1,2,113760,120,B96 B98,S\\r\\n765,0,3,\"Eklund, Mr. Hans Linus\",male,16,0,0,347074,7.775,,S\\r\\n766,1,1,\"Hogeboom, Mrs. John C (Anna Andrews)\",female,51,1,0,13502,77.9583,D11,S\\r\\n767,0,1,\"Brewe, Dr. Arthur Jackson\",male,,0,0,112379,39.6,,C\\r\\n768,0,3,\"Mangan, Miss. Mary\",female,30.5,0,0,364850,7.75,,Q\\r\\n769,0,3,\"Moran, Mr. Daniel J\",male,,1,0,371110,24.15,,Q\\r\\n770,0,3,\"Gronnestad, Mr. Daniel Danielsen\",male,32,0,0,8471,8.3625,,S\\r\\n771,0,3,\"Lievens, Mr. Rene Aime\",male,24,0,0,345781,9.5,,S\\r\\n772,0,3,\"Jensen, Mr. Niels Peder\",male,48,0,0,350047,7.8542,,S\\r\\n773,0,2,\"Mack, Mrs. (Mary)\",female,57,0,0,S.O./P.P. 3,10.5,E77,S\\r\\n774,0,3,\"Elias, Mr. Dibo\",male,,0,0,2674,7.225,,C\\r\\n775,1,2,\"Hocking, Mrs. Elizabeth (Eliza Needs)\",female,54,1,3,29105,23,,S\\r\\n776,0,3,\"Myhrman, Mr. Pehr Fabian Oliver Malkolm\",male,18,0,0,347078,7.75,,S\\r\\n777,0,3,\"Tobin, Mr. Roger\",male,,0,0,383121,7.75,F38,Q\\r\\n778,1,3,\"Emanuel, Miss. Virginia Ethel\",female,5,0,0,364516,12.475,,S\\r\\n779,0,3,\"Kilgannon, Mr. Thomas J\",male,,0,0,36865,7.7375,,Q\\r\\n780,1,1,\"Robert, Mrs. Edward Scott (Elisabeth Walton McMillan)\",female,43,0,1,24160,211.3375,B3,S\\r\\n781,1,3,\"Ayoub, Miss. Banoura\",female,13,0,0,2687,7.2292,,C\\r\\n782,1,1,\"Dick, Mrs. Albert Adrian (Vera Gillespie)\",female,17,1,0,17474,57,B20,S\\r\\n783,0,1,\"Long, Mr. Milton Clyde\",male,29,0,0,113501,30,D6,S\\r\\n784,0,3,\"Johnston, Mr. Andrew G\",male,,1,2,W./C. 6607,23.45,,S\\r\\n785,0,3,\"Ali, Mr. William\",male,25,0,0,SOTON/O.Q. 3101312,7.05,,S\\r\\n786,0,3,\"Harmer, Mr. Abraham (David Lishin)\",male,25,0,0,374887,7.25,,S\\r\\n787,1,3,\"Sjoblom, Miss. Anna Sofia\",female,18,0,0,3101265,7.4958,,S\\r\\n788,0,3,\"Rice, Master. George Hugh\",male,8,4,1,382652,29.125,,Q\\r\\n789,1,3,\"Dean, Master. Bertram Vere\",male,1,1,2,C.A. 2315,20.575,,S\\r\\n790,0,1,\"Guggenheim, Mr. Benjamin\",male,46,0,0,PC 17593,79.2,B82 B84,C\\r\\n791,0,3,\"Keane, Mr. Andrew \"\"Andy\"\"\",male,,0,0,12460,7.75,,Q\\r\\n792,0,2,\"Gaskell, Mr. Alfred\",male,16,0,0,239865,26,,S\\r\\n793,0,3,\"Sage, Miss. Stella Anna\",female,,8,2,CA. 2343,69.55,,S\\r\\n794,0,1,\"Hoyt, Mr. William Fisher\",male,,0,0,PC 17600,30.6958,,C\\r\\n795,0,3,\"Dantcheff, Mr. Ristiu\",male,25,0,0,349203,7.8958,,S\\r\\n796,0,2,\"Otter, Mr. Richard\",male,39,0,0,28213,13,,S\\r\\n797,1,1,\"Leader, Dr. Alice (Farnham)\",female,49,0,0,17465,25.9292,D17,S\\r\\n798,1,3,\"Osman, Mrs. Mara\",female,31,0,0,349244,8.6833,,S\\r\\n799,0,3,\"Ibrahim Shawah, Mr. Yousseff\",male,30,0,0,2685,7.2292,,C\\r\\n800,0,3,\"Van Impe, Mrs. Jean Baptiste (Rosalie Paula Govaert)\",female,30,1,1,345773,24.15,,S\\r\\n801,0,2,\"Ponesell, Mr. Martin\",male,34,0,0,250647,13,,S\\r\\n802,1,2,\"Collyer, Mrs. Harvey (Charlotte Annie Tate)\",female,31,1,1,C.A. 31921,26.25,,S\\r\\n803,1,1,\"Carter, Master. William Thornton II\",male,11,1,2,113760,120,B96 B98,S\\r\\n804,1,3,\"Thomas, Master. Assad Alexander\",male,0.42,0,1,2625,8.5167,,C\\r\\n805,1,3,\"Hedman, Mr. Oskar Arvid\",male,27,0,0,347089,6.975,,S\\r\\n806,0,3,\"Johansson, Mr. Karl Johan\",male,31,0,0,347063,7.775,,S\\r\\n807,0,1,\"Andrews, Mr. Thomas Jr\",male,39,0,0,112050,0,A36,S\\r\\n808,0,3,\"Pettersson, Miss. Ellen Natalia\",female,18,0,0,347087,7.775,,S\\r\\n809,0,2,\"Meyer, Mr. August\",male,39,0,0,248723,13,,S\\r\\n810,1,1,\"Chambers, Mrs. Norman Campbell (Bertha Griggs)\",female,33,1,0,113806,53.1,E8,S\\r\\n811,0,3,\"Alexander, Mr. William\",male,26,0,0,3474,7.8875,,S\\r\\n812,0,3,\"Lester, Mr. James\",male,39,0,0,A/4 48871,24.15,,S\\r\\n813,0,2,\"Slemen, Mr. Richard James\",male,35,0,0,28206,10.5,,S\\r\\n814,0,3,\"Andersson, Miss. Ebba Iris Alfrida\",female,6,4,2,347082,31.275,,S\\r\\n815,0,3,\"Tomlin, Mr. Ernest Portage\",male,30.5,0,0,364499,8.05,,S\\r\\n816,0,1,\"Fry, Mr. Richard\",male,,0,0,112058,0,B102,S\\r\\n817,0,3,\"Heininen, Miss. Wendla Maria\",female,23,0,0,STON/O2. 3101290,7.925,,S\\r\\n818,0,2,\"Mallet, Mr. Albert\",male,31,1,1,S.C./PARIS 2079,37.0042,,C\\r\\n819,0,3,\"Holm, Mr. John Fredrik Alexander\",male,43,0,0,C 7075,6.45,,S\\r\\n820,0,3,\"Skoog, Master. Karl Thorsten\",male,10,3,2,347088,27.9,,S\\r\\n821,1,1,\"Hays, Mrs. Charles Melville (Clara Jennings Gregg)\",female,52,1,1,12749,93.5,B69,S\\r\\n822,1,3,\"Lulic, Mr. Nikola\",male,27,0,0,315098,8.6625,,S\\r\\n823,0,1,\"Reuchlin, Jonkheer. John George\",male,38,0,0,19972,0,,S\\r\\n824,1,3,\"Moor, Mrs. (Beila)\",female,27,0,1,392096,12.475,E121,S\\r\\n825,0,3,\"Panula, Master. Urho Abraham\",male,2,4,1,3101295,39.6875,,S\\r\\n826,0,3,\"Flynn, Mr. John\",male,,0,0,368323,6.95,,Q\\r\\n827,0,3,\"Lam, Mr. Len\",male,,0,0,1601,56.4958,,S\\r\\n828,1,2,\"Mallet, Master. Andre\",male,1,0,2,S.C./PARIS 2079,37.0042,,C\\r\\n829,1,3,\"McCormack, Mr. Thomas Joseph\",male,,0,0,367228,7.75,,Q\\r\\n830,1,1,\"Stone, Mrs. George Nelson (Martha Evelyn)\",female,62,0,0,113572,80,B28,\\r\\n831,1,3,\"Yasbeck, Mrs. Antoni (Selini Alexander)\",female,15,1,0,2659,14.4542,,C\\r\\n832,1,2,\"Richards, Master. George Sibley\",male,0.83,1,1,29106,18.75,,S\\r\\n833,0,3,\"Saad, Mr. Amin\",male,,0,0,2671,7.2292,,C\\r\\n834,0,3,\"Augustsson, Mr. Albert\",male,23,0,0,347468,7.8542,,S\\r\\n835,0,3,\"Allum, Mr. Owen George\",male,18,0,0,2223,8.3,,S\\r\\n836,1,1,\"Compton, Miss. Sara Rebecca\",female,39,1,1,PC 17756,83.1583,E49,C\\r\\n837,0,3,\"Pasic, Mr. Jakob\",male,21,0,0,315097,8.6625,,S\\r\\n838,0,3,\"Sirota, Mr. Maurice\",male,,0,0,392092,8.05,,S\\r\\n839,1,3,\"Chip, Mr. Chang\",male,32,0,0,1601,56.4958,,S\\r\\n840,1,1,\"Marechal, Mr. Pierre\",male,,0,0,11774,29.7,C47,C\\r\\n841,0,3,\"Alhomaki, Mr. Ilmari Rudolf\",male,20,0,0,SOTON/O2 3101287,7.925,,S\\r\\n842,0,2,\"Mudd, Mr. Thomas Charles\",male,16,0,0,S.O./P.P. 3,10.5,,S\\r\\n843,1,1,\"Serepeca, Miss. Augusta\",female,30,0,0,113798,31,,C\\r\\n844,0,3,\"Lemberopolous, Mr. Peter L\",male,34.5,0,0,2683,6.4375,,C\\r\\n845,0,3,\"Culumovic, Mr. Jeso\",male,17,0,0,315090,8.6625,,S\\r\\n846,0,3,\"Abbing, Mr. Anthony\",male,42,0,0,C.A. 5547,7.55,,S\\r\\n847,0,3,\"Sage, Mr. Douglas Bullen\",male,,8,2,CA. 2343,69.55,,S\\r\\n848,0,3,\"Markoff, Mr. Marin\",male,35,0,0,349213,7.8958,,C\\r\\n849,0,2,\"Harper, Rev. John\",male,28,0,1,248727,33,,S\\r\\n850,1,1,\"Goldenberg, Mrs. Samuel L (Edwiga Grabowska)\",female,,1,0,17453,89.1042,C92,C\\r\\n851,0,3,\"Andersson, Master. Sigvard Harald Elias\",male,4,4,2,347082,31.275,,S\\r\\n852,0,3,\"Svensson, Mr. Johan\",male,74,0,0,347060,7.775,,S\\r\\n853,0,3,\"Boulos, Miss. Nourelain\",female,9,1,1,2678,15.2458,,C\\r\\n854,1,1,\"Lines, Miss. Mary Conover\",female,16,0,1,PC 17592,39.4,D28,S\\r\\n855,0,2,\"Carter, Mrs. Ernest Courtenay (Lilian Hughes)\",female,44,1,0,244252,26,,S\\r\\n856,1,3,\"Aks, Mrs. Sam (Leah Rosen)\",female,18,0,1,392091,9.35,,S\\r\\n857,1,1,\"Wick, Mrs. George Dennick (Mary Hitchcock)\",female,45,1,1,36928,164.8667,,S\\r\\n858,1,1,\"Daly, Mr. Peter Denis \",male,51,0,0,113055,26.55,E17,S\\r\\n859,1,3,\"Baclini, Mrs. Solomon (Latifa Qurban)\",female,24,0,3,2666,19.2583,,C\\r\\n860,0,3,\"Razi, Mr. Raihed\",male,,0,0,2629,7.2292,,C\\r\\n861,0,3,\"Hansen, Mr. Claus Peter\",male,41,2,0,350026,14.1083,,S\\r\\n862,0,2,\"Giles, Mr. Frederick Edward\",male,21,1,0,28134,11.5,,S\\r\\n863,1,1,\"Swift, Mrs. Frederick Joel (Margaret Welles Barron)\",female,48,0,0,17466,25.9292,D17,S\\r\\n864,0,3,\"Sage, Miss. Dorothy Edith \"\"Dolly\"\"\",female,,8,2,CA. 2343,69.55,,S\\r\\n865,0,2,\"Gill, Mr. John William\",male,24,0,0,233866,13,,S\\r\\n866,1,2,\"Bystrom, Mrs. (Karolina)\",female,42,0,0,236852,13,,S\\r\\n867,1,2,\"Duran y More, Miss. Asuncion\",female,27,1,0,SC/PARIS 2149,13.8583,,C\\r\\n868,0,1,\"Roebling, Mr. Washington Augustus II\",male,31,0,0,PC 17590,50.4958,A24,S\\r\\n869,0,3,\"van Melkebeke, Mr. Philemon\",male,,0,0,345777,9.5,,S\\r\\n870,1,3,\"Johnson, Master. Harold Theodor\",male,4,1,1,347742,11.1333,,S\\r\\n871,0,3,\"Balkic, Mr. Cerin\",male,26,0,0,349248,7.8958,,S\\r\\n872,1,1,\"Beckwith, Mrs. Richard Leonard (Sallie Monypeny)\",female,47,1,1,11751,52.5542,D35,S\\r\\n873,0,1,\"Carlsson, Mr. Frans Olof\",male,33,0,0,695,5,B51 B53 B55,S\\r\\n874,0,3,\"Vander Cruyssen, Mr. Victor\",male,47,0,0,345765,9,,S\\r\\n875,1,2,\"Abelson, Mrs. Samuel (Hannah Wizosky)\",female,28,1,0,P/PP 3381,24,,C\\r\\n876,1,3,\"Najib, Miss. Adele Kiamie \"\"Jane\"\"\",female,15,0,0,2667,7.225,,C\\r\\n877,0,3,\"Gustafsson, Mr. Alfred Ossian\",male,20,0,0,7534,9.8458,,S\\r\\n878,0,3,\"Petroff, Mr. Nedelio\",male,19,0,0,349212,7.8958,,S\\r\\n879,0,3,\"Laleff, Mr. Kristo\",male,,0,0,349217,7.8958,,S\\r\\n880,1,1,\"Potter, Mrs. Thomas Jr (Lily Alexenia Wilson)\",female,56,0,1,11767,83.1583,C50,C\\r\\n881,1,2,\"Shelley, Mrs. William (Imanita Parrish Hall)\",female,25,0,1,230433,26,,S\\r\\n882,0,3,\"Markun, Mr. Johann\",male,33,0,0,349257,7.8958,,S\\r\\n883,0,3,\"Dahlberg, Miss. Gerda Ulrika\",female,22,0,0,7552,10.5167,,S\\r\\n884,0,2,\"Banfield, Mr. Frederick James\",male,28,0,0,C.A./SOTON 34068,10.5,,S\\r\\n885,0,3,\"Sutehall, Mr. Henry Jr\",male,25,0,0,SOTON/OQ 392076,7.05,,S\\r\\n886,0,3,\"Rice, Mrs. William (Margaret Norton)\",female,39,0,5,382652,29.125,,Q\\r\\n887,0,2,\"Montvila, Rev. Juozas\",male,27,0,0,211536,13,,S\\r\\n888,1,1,\"Graham, Miss. Margaret Edith\",female,19,0,0,112053,30,B42,S\\r\\n889,0,3,\"Johnston, Miss. Catherine Helen \"\"Carrie\"\"\",female,,1,2,W./C. 6607,23.45,,S\\r\\n890,1,1,\"Behr, Mr. Karl Howell\",male,26,0,0,111369,30,C148,C\\r\\n891,0,3,\"Dooley, Mr. Patrick\",male,32,0,0,370376,7.75,,Q\\r\\n'}"
            ]
          },
          "metadata": {
            "tags": []
          },
          "execution_count": 1
        }
      ]
    },
    {
      "cell_type": "code",
      "metadata": {
        "id": "h1pwpfAQgqU7"
      },
      "source": [
        "# import modul yang dibutuhkan\n",
        "import pandas as pd\n",
        "import numpy as np\n",
        "import seaborn as sns\n",
        "import matplotlib.pyplot as plt"
      ],
      "execution_count": 2,
      "outputs": []
    },
    {
      "cell_type": "code",
      "metadata": {
        "id": "UxxyRuHngqXy"
      },
      "source": [
        "# baca data yang telah diupload\n",
        "train = pd.read_csv(\"train.csv\")\n",
        "test = pd.read_csv(\"test.csv\")"
      ],
      "execution_count": 3,
      "outputs": []
    },
    {
      "cell_type": "markdown",
      "metadata": {
        "id": "B79vI201gy_z"
      },
      "source": [
        "# DATA UNDERSTANDING TRAIN"
      ]
    },
    {
      "cell_type": "code",
      "metadata": {
        "colab": {
          "base_uri": "https://localhost:8080/",
          "height": 0
        },
        "id": "DrX6ehc2gqa6",
        "outputId": "dcdb3692-f4fd-4caf-b259-2f2de6f4cb9a"
      },
      "source": [
        "# tampilkan data train \n",
        "train.head()"
      ],
      "execution_count": 4,
      "outputs": [
        {
          "output_type": "execute_result",
          "data": {
            "text/html": [
              "<div>\n",
              "<style scoped>\n",
              "    .dataframe tbody tr th:only-of-type {\n",
              "        vertical-align: middle;\n",
              "    }\n",
              "\n",
              "    .dataframe tbody tr th {\n",
              "        vertical-align: top;\n",
              "    }\n",
              "\n",
              "    .dataframe thead th {\n",
              "        text-align: right;\n",
              "    }\n",
              "</style>\n",
              "<table border=\"1\" class=\"dataframe\">\n",
              "  <thead>\n",
              "    <tr style=\"text-align: right;\">\n",
              "      <th></th>\n",
              "      <th>PassengerId</th>\n",
              "      <th>Survived</th>\n",
              "      <th>Pclass</th>\n",
              "      <th>Name</th>\n",
              "      <th>Sex</th>\n",
              "      <th>Age</th>\n",
              "      <th>SibSp</th>\n",
              "      <th>Parch</th>\n",
              "      <th>Ticket</th>\n",
              "      <th>Fare</th>\n",
              "      <th>Cabin</th>\n",
              "      <th>Embarked</th>\n",
              "    </tr>\n",
              "  </thead>\n",
              "  <tbody>\n",
              "    <tr>\n",
              "      <th>0</th>\n",
              "      <td>1</td>\n",
              "      <td>0</td>\n",
              "      <td>3</td>\n",
              "      <td>Braund, Mr. Owen Harris</td>\n",
              "      <td>male</td>\n",
              "      <td>22.0</td>\n",
              "      <td>1</td>\n",
              "      <td>0</td>\n",
              "      <td>A/5 21171</td>\n",
              "      <td>7.2500</td>\n",
              "      <td>NaN</td>\n",
              "      <td>S</td>\n",
              "    </tr>\n",
              "    <tr>\n",
              "      <th>1</th>\n",
              "      <td>2</td>\n",
              "      <td>1</td>\n",
              "      <td>1</td>\n",
              "      <td>Cumings, Mrs. John Bradley (Florence Briggs Th...</td>\n",
              "      <td>female</td>\n",
              "      <td>38.0</td>\n",
              "      <td>1</td>\n",
              "      <td>0</td>\n",
              "      <td>PC 17599</td>\n",
              "      <td>71.2833</td>\n",
              "      <td>C85</td>\n",
              "      <td>C</td>\n",
              "    </tr>\n",
              "    <tr>\n",
              "      <th>2</th>\n",
              "      <td>3</td>\n",
              "      <td>1</td>\n",
              "      <td>3</td>\n",
              "      <td>Heikkinen, Miss. Laina</td>\n",
              "      <td>female</td>\n",
              "      <td>26.0</td>\n",
              "      <td>0</td>\n",
              "      <td>0</td>\n",
              "      <td>STON/O2. 3101282</td>\n",
              "      <td>7.9250</td>\n",
              "      <td>NaN</td>\n",
              "      <td>S</td>\n",
              "    </tr>\n",
              "    <tr>\n",
              "      <th>3</th>\n",
              "      <td>4</td>\n",
              "      <td>1</td>\n",
              "      <td>1</td>\n",
              "      <td>Futrelle, Mrs. Jacques Heath (Lily May Peel)</td>\n",
              "      <td>female</td>\n",
              "      <td>35.0</td>\n",
              "      <td>1</td>\n",
              "      <td>0</td>\n",
              "      <td>113803</td>\n",
              "      <td>53.1000</td>\n",
              "      <td>C123</td>\n",
              "      <td>S</td>\n",
              "    </tr>\n",
              "    <tr>\n",
              "      <th>4</th>\n",
              "      <td>5</td>\n",
              "      <td>0</td>\n",
              "      <td>3</td>\n",
              "      <td>Allen, Mr. William Henry</td>\n",
              "      <td>male</td>\n",
              "      <td>35.0</td>\n",
              "      <td>0</td>\n",
              "      <td>0</td>\n",
              "      <td>373450</td>\n",
              "      <td>8.0500</td>\n",
              "      <td>NaN</td>\n",
              "      <td>S</td>\n",
              "    </tr>\n",
              "  </tbody>\n",
              "</table>\n",
              "</div>"
            ],
            "text/plain": [
              "   PassengerId  Survived  Pclass  ...     Fare Cabin  Embarked\n",
              "0            1         0       3  ...   7.2500   NaN         S\n",
              "1            2         1       1  ...  71.2833   C85         C\n",
              "2            3         1       3  ...   7.9250   NaN         S\n",
              "3            4         1       1  ...  53.1000  C123         S\n",
              "4            5         0       3  ...   8.0500   NaN         S\n",
              "\n",
              "[5 rows x 12 columns]"
            ]
          },
          "metadata": {
            "tags": []
          },
          "execution_count": 4
        }
      ]
    },
    {
      "cell_type": "code",
      "metadata": {
        "colab": {
          "base_uri": "https://localhost:8080/"
        },
        "id": "lzheVWzUgqdj",
        "outputId": "e7f8bee6-55d1-4386-bd8d-4b1f7744e106"
      },
      "source": [
        "# ukuran train\n",
        "train.shape"
      ],
      "execution_count": 5,
      "outputs": [
        {
          "output_type": "execute_result",
          "data": {
            "text/plain": [
              "(891, 12)"
            ]
          },
          "metadata": {
            "tags": []
          },
          "execution_count": 5
        }
      ]
    },
    {
      "cell_type": "code",
      "metadata": {
        "colab": {
          "base_uri": "https://localhost:8080/"
        },
        "id": "P3xVyjERgqgK",
        "outputId": "e9e757be-d605-4d90-c59a-b9a9cf08a72f"
      },
      "source": [
        "# tampilkan nama seluruh kolom dalam train\n",
        "train.columns"
      ],
      "execution_count": 6,
      "outputs": [
        {
          "output_type": "execute_result",
          "data": {
            "text/plain": [
              "Index(['PassengerId', 'Survived', 'Pclass', 'Name', 'Sex', 'Age', 'SibSp',\n",
              "       'Parch', 'Ticket', 'Fare', 'Cabin', 'Embarked'],\n",
              "      dtype='object')"
            ]
          },
          "metadata": {
            "tags": []
          },
          "execution_count": 6
        }
      ]
    },
    {
      "cell_type": "code",
      "metadata": {
        "colab": {
          "base_uri": "https://localhost:8080/",
          "height": 0
        },
        "id": "Z3ePBNlEgqil",
        "outputId": "19b22841-67ce-422c-aeb1-f7beec5f38c2"
      },
      "source": [
        "# deskripsi tentang train\n",
        "train.describe()"
      ],
      "execution_count": 7,
      "outputs": [
        {
          "output_type": "execute_result",
          "data": {
            "text/html": [
              "<div>\n",
              "<style scoped>\n",
              "    .dataframe tbody tr th:only-of-type {\n",
              "        vertical-align: middle;\n",
              "    }\n",
              "\n",
              "    .dataframe tbody tr th {\n",
              "        vertical-align: top;\n",
              "    }\n",
              "\n",
              "    .dataframe thead th {\n",
              "        text-align: right;\n",
              "    }\n",
              "</style>\n",
              "<table border=\"1\" class=\"dataframe\">\n",
              "  <thead>\n",
              "    <tr style=\"text-align: right;\">\n",
              "      <th></th>\n",
              "      <th>PassengerId</th>\n",
              "      <th>Survived</th>\n",
              "      <th>Pclass</th>\n",
              "      <th>Age</th>\n",
              "      <th>SibSp</th>\n",
              "      <th>Parch</th>\n",
              "      <th>Fare</th>\n",
              "    </tr>\n",
              "  </thead>\n",
              "  <tbody>\n",
              "    <tr>\n",
              "      <th>count</th>\n",
              "      <td>891.000000</td>\n",
              "      <td>891.000000</td>\n",
              "      <td>891.000000</td>\n",
              "      <td>714.000000</td>\n",
              "      <td>891.000000</td>\n",
              "      <td>891.000000</td>\n",
              "      <td>891.000000</td>\n",
              "    </tr>\n",
              "    <tr>\n",
              "      <th>mean</th>\n",
              "      <td>446.000000</td>\n",
              "      <td>0.383838</td>\n",
              "      <td>2.308642</td>\n",
              "      <td>29.699118</td>\n",
              "      <td>0.523008</td>\n",
              "      <td>0.381594</td>\n",
              "      <td>32.204208</td>\n",
              "    </tr>\n",
              "    <tr>\n",
              "      <th>std</th>\n",
              "      <td>257.353842</td>\n",
              "      <td>0.486592</td>\n",
              "      <td>0.836071</td>\n",
              "      <td>14.526497</td>\n",
              "      <td>1.102743</td>\n",
              "      <td>0.806057</td>\n",
              "      <td>49.693429</td>\n",
              "    </tr>\n",
              "    <tr>\n",
              "      <th>min</th>\n",
              "      <td>1.000000</td>\n",
              "      <td>0.000000</td>\n",
              "      <td>1.000000</td>\n",
              "      <td>0.420000</td>\n",
              "      <td>0.000000</td>\n",
              "      <td>0.000000</td>\n",
              "      <td>0.000000</td>\n",
              "    </tr>\n",
              "    <tr>\n",
              "      <th>25%</th>\n",
              "      <td>223.500000</td>\n",
              "      <td>0.000000</td>\n",
              "      <td>2.000000</td>\n",
              "      <td>20.125000</td>\n",
              "      <td>0.000000</td>\n",
              "      <td>0.000000</td>\n",
              "      <td>7.910400</td>\n",
              "    </tr>\n",
              "    <tr>\n",
              "      <th>50%</th>\n",
              "      <td>446.000000</td>\n",
              "      <td>0.000000</td>\n",
              "      <td>3.000000</td>\n",
              "      <td>28.000000</td>\n",
              "      <td>0.000000</td>\n",
              "      <td>0.000000</td>\n",
              "      <td>14.454200</td>\n",
              "    </tr>\n",
              "    <tr>\n",
              "      <th>75%</th>\n",
              "      <td>668.500000</td>\n",
              "      <td>1.000000</td>\n",
              "      <td>3.000000</td>\n",
              "      <td>38.000000</td>\n",
              "      <td>1.000000</td>\n",
              "      <td>0.000000</td>\n",
              "      <td>31.000000</td>\n",
              "    </tr>\n",
              "    <tr>\n",
              "      <th>max</th>\n",
              "      <td>891.000000</td>\n",
              "      <td>1.000000</td>\n",
              "      <td>3.000000</td>\n",
              "      <td>80.000000</td>\n",
              "      <td>8.000000</td>\n",
              "      <td>6.000000</td>\n",
              "      <td>512.329200</td>\n",
              "    </tr>\n",
              "  </tbody>\n",
              "</table>\n",
              "</div>"
            ],
            "text/plain": [
              "       PassengerId    Survived      Pclass  ...       SibSp       Parch        Fare\n",
              "count   891.000000  891.000000  891.000000  ...  891.000000  891.000000  891.000000\n",
              "mean    446.000000    0.383838    2.308642  ...    0.523008    0.381594   32.204208\n",
              "std     257.353842    0.486592    0.836071  ...    1.102743    0.806057   49.693429\n",
              "min       1.000000    0.000000    1.000000  ...    0.000000    0.000000    0.000000\n",
              "25%     223.500000    0.000000    2.000000  ...    0.000000    0.000000    7.910400\n",
              "50%     446.000000    0.000000    3.000000  ...    0.000000    0.000000   14.454200\n",
              "75%     668.500000    1.000000    3.000000  ...    1.000000    0.000000   31.000000\n",
              "max     891.000000    1.000000    3.000000  ...    8.000000    6.000000  512.329200\n",
              "\n",
              "[8 rows x 7 columns]"
            ]
          },
          "metadata": {
            "tags": []
          },
          "execution_count": 7
        }
      ]
    },
    {
      "cell_type": "code",
      "metadata": {
        "colab": {
          "base_uri": "https://localhost:8080/"
        },
        "id": "HjtuxOwMgqkr",
        "outputId": "bb040e75-7760-4c48-9498-334237b69803"
      },
      "source": [
        "# informasi tentang train\n",
        "train.info()"
      ],
      "execution_count": 8,
      "outputs": [
        {
          "output_type": "stream",
          "text": [
            "<class 'pandas.core.frame.DataFrame'>\n",
            "RangeIndex: 891 entries, 0 to 890\n",
            "Data columns (total 12 columns):\n",
            " #   Column       Non-Null Count  Dtype  \n",
            "---  ------       --------------  -----  \n",
            " 0   PassengerId  891 non-null    int64  \n",
            " 1   Survived     891 non-null    int64  \n",
            " 2   Pclass       891 non-null    int64  \n",
            " 3   Name         891 non-null    object \n",
            " 4   Sex          891 non-null    object \n",
            " 5   Age          714 non-null    float64\n",
            " 6   SibSp        891 non-null    int64  \n",
            " 7   Parch        891 non-null    int64  \n",
            " 8   Ticket       891 non-null    object \n",
            " 9   Fare         891 non-null    float64\n",
            " 10  Cabin        204 non-null    object \n",
            " 11  Embarked     889 non-null    object \n",
            "dtypes: float64(2), int64(5), object(5)\n",
            "memory usage: 83.7+ KB\n"
          ],
          "name": "stdout"
        }
      ]
    },
    {
      "cell_type": "markdown",
      "metadata": {
        "id": "mP__O_2ihGLq"
      },
      "source": [
        "### Count Plot dari data numerik"
      ]
    },
    {
      "cell_type": "code",
      "metadata": {
        "colab": {
          "base_uri": "https://localhost:8080/"
        },
        "id": "XwmROYzBhAjg",
        "outputId": "783d1331-15da-4719-e7ba-41487afbd8b6"
      },
      "source": [
        "# kolom yang bertype data numerik\n",
        "train_numeric = train.dtypes[train.dtypes != \"object\"].index\n",
        "train_numeric"
      ],
      "execution_count": 9,
      "outputs": [
        {
          "output_type": "execute_result",
          "data": {
            "text/plain": [
              "Index(['PassengerId', 'Survived', 'Pclass', 'Age', 'SibSp', 'Parch', 'Fare'], dtype='object')"
            ]
          },
          "metadata": {
            "tags": []
          },
          "execution_count": 9
        }
      ]
    },
    {
      "cell_type": "markdown",
      "metadata": {
        "id": "RCxE_87EhOJK"
      },
      "source": [
        "Catatan :\n",
        "1. dalam kolom data train terdapat beberapa data numerik yang sebenarnya merupakan data katagorikal, seperti Pclass dan Survived.\n",
        "2. kolom Survived nantinya akan dijadikan sebagai variabel terikat( target variabel)\n",
        "3. variabel bebas (features variable) yang kasus ini yang bertype data numerik yaitu : Age, SibSp, Parch dan Fare"
      ]
    },
    {
      "cell_type": "code",
      "metadata": {
        "colab": {
          "base_uri": "https://localhost:8080/",
          "height": 0
        },
        "id": "G3JIko7phAmE",
        "outputId": "70cbf6fa-27fd-430a-995b-f0eaff04b71e"
      },
      "source": [
        "# kolom bertype data numerik\n",
        "train_numeric = train[['Age', 'SibSp', 'Parch', 'Fare']]\n",
        "\n",
        "# count plot dari data numerik\n",
        "for i in train_numeric.columns:\n",
        "    plt.hist(train_numeric[i])\n",
        "    plt.title(i)\n",
        "    plt.show()"
      ],
      "execution_count": 10,
      "outputs": [
        {
          "output_type": "display_data",
          "data": {
            "image/png": "[encoded data removed]",
            "text/plain": [
              "<Figure size 432x288 with 1 Axes>"
            ]
          },
          "metadata": {
            "tags": [],
            "needs_background": "light"
          }
        },
        {
          "output_type": "display_data",
          "data": {
            "image/png": "[encoded data removed]",
            "text/plain": [
              "<Figure size 432x288 with 1 Axes>"
            ]
          },
          "metadata": {
            "tags": [],
            "needs_background": "light"
          }
        },
        {
          "output_type": "display_data",
          "data": {
            "image/png": "[encoded data removed]",
            "text/plain": [
              "<Figure size 432x288 with 1 Axes>"
            ]
          },
          "metadata": {
            "tags": [],
            "needs_background": "light"
          }
        },
        {
          "output_type": "display_data",
          "data": {
            "image/png": "[encoded data removed]",
            "text/plain": [
              "<Figure size 432x288 with 1 Axes>"
            ]
          },
          "metadata": {
            "tags": [],
            "needs_background": "light"
          }
        }
      ]
    },
    {
      "cell_type": "markdown",
      "metadata": {
        "id": "o_5is0ZLhX3a"
      },
      "source": [
        "### Count Plot data kategorikal"
      ]
    },
    {
      "cell_type": "code",
      "metadata": {
        "colab": {
          "base_uri": "https://localhost:8080/"
        },
        "id": "26pQA0zrhAo4",
        "outputId": "ba844a7c-2d9b-454b-e809-e547fdd1892f"
      },
      "source": [
        "# train bertype data kategorikal\n",
        "train_categoric = train.dtypes[train.dtypes == \"object\"].index\n",
        "train_categoric"
      ],
      "execution_count": 11,
      "outputs": [
        {
          "output_type": "execute_result",
          "data": {
            "text/plain": [
              "Index(['Name', 'Sex', 'Ticket', 'Cabin', 'Embarked'], dtype='object')"
            ]
          },
          "metadata": {
            "tags": []
          },
          "execution_count": 11
        }
      ]
    },
    {
      "cell_type": "markdown",
      "metadata": {
        "id": "xbFSAb0fhg5R"
      },
      "source": [
        "Catatan :\n",
        "karena terdapat beberapa data numerik yang sebenarnya merupakan data kategorik yang tidak terdapat didalam train_categorik, sehingga data tersebut akan dimasukan kedalam data kategorik"
      ]
    },
    {
      "cell_type": "code",
      "metadata": {
        "colab": {
          "base_uri": "https://localhost:8080/",
          "height": 0
        },
        "id": "zZavtxushArI",
        "outputId": "6def6323-914f-47fe-9e83-69800ca1fb30"
      },
      "source": [
        "# kolom yang bertype data katerorikal\n",
        "train_categoric = train[['Sex', 'Ticket', 'Cabin', 'Embarked', 'Survived', 'Pclass']]\n",
        "\n",
        "# barplot plot dari data kategorik\n",
        "for i in train_categoric.columns:\n",
        "    sns.barplot(train_categoric[i].value_counts().index,train_categoric[i].value_counts()).set_title(i)\n",
        "    plt.show()"
      ],
      "execution_count": 12,
      "outputs": [
        {
          "output_type": "stream",
          "text": [
            "/usr/local/lib/python3.7/dist-packages/seaborn/_decorators.py:43: FutureWarning: Pass the following variables as keyword args: x, y. From version 0.12, the only valid positional argument will be `data`, and passing other arguments without an explicit keyword will result in an error or misinterpretation.\n",
            "  FutureWarning\n"
          ],
          "name": "stderr"
        },
        {
          "output_type": "display_data",
          "data": {
            "image/png": "[encoded data removed]",
            "text/plain": [
              "<Figure size 432x288 with 1 Axes>"
            ]
          },
          "metadata": {
            "tags": [],
            "needs_background": "light"
          }
        },
        {
          "output_type": "stream",
          "text": [
            "/usr/local/lib/python3.7/dist-packages/seaborn/_decorators.py:43: FutureWarning: Pass the following variables as keyword args: x, y. From version 0.12, the only valid positional argument will be `data`, and passing other arguments without an explicit keyword will result in an error or misinterpretation.\n",
            "  FutureWarning\n"
          ],
          "name": "stderr"
        },
        {
          "output_type": "display_data",
          "data": {
            "image/png": "[encoded data removed]",
            "text/plain": [
              "<Figure size 432x288 with 1 Axes>"
            ]
          },
          "metadata": {
            "tags": [],
            "needs_background": "light"
          }
        },
        {
          "output_type": "stream",
          "text": [
            "/usr/local/lib/python3.7/dist-packages/seaborn/_decorators.py:43: FutureWarning: Pass the following variables as keyword args: x, y. From version 0.12, the only valid positional argument will be `data`, and passing other arguments without an explicit keyword will result in an error or misinterpretation.\n",
            "  FutureWarning\n"
          ],
          "name": "stderr"
        },
        {
          "output_type": "display_data",
          "data": {
            "image/png": "[encoded data removed]",
            "text/plain": [
              "<Figure size 432x288 with 1 Axes>"
            ]
          },
          "metadata": {
            "tags": [],
            "needs_background": "light"
          }
        },
        {
          "output_type": "stream",
          "text": [
            "/usr/local/lib/python3.7/dist-packages/seaborn/_decorators.py:43: FutureWarning: Pass the following variables as keyword args: x, y. From version 0.12, the only valid positional argument will be `data`, and passing other arguments without an explicit keyword will result in an error or misinterpretation.\n",
            "  FutureWarning\n"
          ],
          "name": "stderr"
        },
        {
          "output_type": "display_data",
          "data": {
            "image/png": "[encoded data removed]",
            "text/plain": [
              "<Figure size 432x288 with 1 Axes>"
            ]
          },
          "metadata": {
            "tags": [],
            "needs_background": "light"
          }
        },
        {
          "output_type": "stream",
          "text": [
            "/usr/local/lib/python3.7/dist-packages/seaborn/_decorators.py:43: FutureWarning: Pass the following variables as keyword args: x, y. From version 0.12, the only valid positional argument will be `data`, and passing other arguments without an explicit keyword will result in an error or misinterpretation.\n",
            "  FutureWarning\n"
          ],
          "name": "stderr"
        },
        {
          "output_type": "display_data",
          "data": {
            "image/png": "[encoded data removed]",
            "text/plain": [
              "<Figure size 432x288 with 1 Axes>"
            ]
          },
          "metadata": {
            "tags": [],
            "needs_background": "light"
          }
        },
        {
          "output_type": "stream",
          "text": [
            "/usr/local/lib/python3.7/dist-packages/seaborn/_decorators.py:43: FutureWarning: Pass the following variables as keyword args: x, y. From version 0.12, the only valid positional argument will be `data`, and passing other arguments without an explicit keyword will result in an error or misinterpretation.\n",
            "  FutureWarning\n"
          ],
          "name": "stderr"
        },
        {
          "output_type": "display_data",
          "data": {
            "image/png": "[encoded data removed]",
            "text/plain": [
              "<Figure size 432x288 with 1 Axes>"
            ]
          },
          "metadata": {
            "tags": [],
            "needs_background": "light"
          }
        }
      ]
    },
    {
      "cell_type": "markdown",
      "metadata": {
        "id": "fKCetHjrhotV"
      },
      "source": [
        "####Lihat korelasi antar variabel dalam train"
      ]
    },
    {
      "cell_type": "code",
      "metadata": {
        "colab": {
          "base_uri": "https://localhost:8080/"
        },
        "id": "gqITV7nEhAuK",
        "outputId": "240b74a4-5940-4be7-9380-5e1a2b070718"
      },
      "source": [
        "# korelasi antar variabel train numerik\n",
        "print(train_numeric.corr())"
      ],
      "execution_count": 13,
      "outputs": [
        {
          "output_type": "stream",
          "text": [
            "            Age     SibSp     Parch      Fare\n",
            "Age    1.000000 -0.308247 -0.189119  0.096067\n",
            "SibSp -0.308247  1.000000  0.414838  0.159651\n",
            "Parch -0.189119  0.414838  1.000000  0.216225\n",
            "Fare   0.096067  0.159651  0.216225  1.000000\n"
          ],
          "name": "stdout"
        }
      ]
    },
    {
      "cell_type": "code",
      "metadata": {
        "colab": {
          "base_uri": "https://localhost:8080/",
          "height": 0
        },
        "id": "ninSDl4ohAwL",
        "outputId": "31931ced-bddb-4ad3-b229-dcda30bfd1aa"
      },
      "source": [
        "# korelasi antara variabel dependen Survived dengan variabel inependen yang bertype numerik 'Age', 'SibSp', 'Parch', 'Fare'\n",
        "corr = (train[['Survived', 'Age', 'SibSp', 'Parch', 'Fare']]).corr().abs().unstack().sort_values(kind=\"quicksort\", ascending=False).reset_index()\n",
        "corr.rename(columns={\"level_0\": \"Feature 1\", \"level_1\": \"Feature 2\", 0: 'Correlation Coefficient'}, inplace=True)\n",
        "corr[corr['Feature 1'] == 'Survived']"
      ],
      "execution_count": 14,
      "outputs": [
        {
          "output_type": "execute_result",
          "data": {
            "text/html": [
              "<div>\n",
              "<style scoped>\n",
              "    .dataframe tbody tr th:only-of-type {\n",
              "        vertical-align: middle;\n",
              "    }\n",
              "\n",
              "    .dataframe tbody tr th {\n",
              "        vertical-align: top;\n",
              "    }\n",
              "\n",
              "    .dataframe thead th {\n",
              "        text-align: right;\n",
              "    }\n",
              "</style>\n",
              "<table border=\"1\" class=\"dataframe\">\n",
              "  <thead>\n",
              "    <tr style=\"text-align: right;\">\n",
              "      <th></th>\n",
              "      <th>Feature 1</th>\n",
              "      <th>Feature 2</th>\n",
              "      <th>Correlation Coefficient</th>\n",
              "    </tr>\n",
              "  </thead>\n",
              "  <tbody>\n",
              "    <tr>\n",
              "      <th>4</th>\n",
              "      <td>Survived</td>\n",
              "      <td>Survived</td>\n",
              "      <td>1.000000</td>\n",
              "    </tr>\n",
              "    <tr>\n",
              "      <th>9</th>\n",
              "      <td>Survived</td>\n",
              "      <td>Fare</td>\n",
              "      <td>0.257307</td>\n",
              "    </tr>\n",
              "    <tr>\n",
              "      <th>20</th>\n",
              "      <td>Survived</td>\n",
              "      <td>Parch</td>\n",
              "      <td>0.081629</td>\n",
              "    </tr>\n",
              "    <tr>\n",
              "      <th>22</th>\n",
              "      <td>Survived</td>\n",
              "      <td>Age</td>\n",
              "      <td>0.077221</td>\n",
              "    </tr>\n",
              "    <tr>\n",
              "      <th>23</th>\n",
              "      <td>Survived</td>\n",
              "      <td>SibSp</td>\n",
              "      <td>0.035322</td>\n",
              "    </tr>\n",
              "  </tbody>\n",
              "</table>\n",
              "</div>"
            ],
            "text/plain": [
              "   Feature 1 Feature 2  Correlation Coefficient\n",
              "4   Survived  Survived                 1.000000\n",
              "9   Survived      Fare                 0.257307\n",
              "20  Survived     Parch                 0.081629\n",
              "22  Survived       Age                 0.077221\n",
              "23  Survived     SibSp                 0.035322"
            ]
          },
          "metadata": {
            "tags": []
          },
          "execution_count": 14
        }
      ]
    },
    {
      "cell_type": "code",
      "metadata": {
        "colab": {
          "base_uri": "https://localhost:8080/"
        },
        "id": "8CFKjzyphAy5",
        "outputId": "7ce6b366-d73a-4469-f8f4-0d57b880bdc4"
      },
      "source": [
        "# korelasi antar variabel train katagorik\n",
        "print(train_categoric.corr())"
      ],
      "execution_count": 15,
      "outputs": [
        {
          "output_type": "stream",
          "text": [
            "          Survived    Pclass\n",
            "Survived  1.000000 -0.338481\n",
            "Pclass   -0.338481  1.000000\n"
          ],
          "name": "stdout"
        }
      ]
    },
    {
      "cell_type": "code",
      "metadata": {
        "colab": {
          "base_uri": "https://localhost:8080/",
          "height": 0
        },
        "id": "437ZeS-FhA08",
        "outputId": "6aa56234-0271-4b53-b6b0-ee06a5938ade"
      },
      "source": [
        "# korelasi antara variabel dependen Survived dengan variabel inependen yang bertype numerik 'Age', 'SibSp', 'Parch', 'Fare'\n",
        "corr = (train[['Survived', 'Pclass']]).corr().abs().unstack().sort_values(kind=\"quicksort\", ascending=False).reset_index()\n",
        "corr.rename(columns={\"level_0\": \"Feature 1\", \"level_1\": \"Feature 2\", 0: 'Correlation Coefficient'}, inplace=True)\n",
        "corr[corr['Feature 1'] == 'Survived']"
      ],
      "execution_count": 16,
      "outputs": [
        {
          "output_type": "execute_result",
          "data": {
            "text/html": [
              "<div>\n",
              "<style scoped>\n",
              "    .dataframe tbody tr th:only-of-type {\n",
              "        vertical-align: middle;\n",
              "    }\n",
              "\n",
              "    .dataframe tbody tr th {\n",
              "        vertical-align: top;\n",
              "    }\n",
              "\n",
              "    .dataframe thead th {\n",
              "        text-align: right;\n",
              "    }\n",
              "</style>\n",
              "<table border=\"1\" class=\"dataframe\">\n",
              "  <thead>\n",
              "    <tr style=\"text-align: right;\">\n",
              "      <th></th>\n",
              "      <th>Feature 1</th>\n",
              "      <th>Feature 2</th>\n",
              "      <th>Correlation Coefficient</th>\n",
              "    </tr>\n",
              "  </thead>\n",
              "  <tbody>\n",
              "    <tr>\n",
              "      <th>1</th>\n",
              "      <td>Survived</td>\n",
              "      <td>Survived</td>\n",
              "      <td>1.000000</td>\n",
              "    </tr>\n",
              "    <tr>\n",
              "      <th>3</th>\n",
              "      <td>Survived</td>\n",
              "      <td>Pclass</td>\n",
              "      <td>0.338481</td>\n",
              "    </tr>\n",
              "  </tbody>\n",
              "</table>\n",
              "</div>"
            ],
            "text/plain": [
              "  Feature 1 Feature 2  Correlation Coefficient\n",
              "1  Survived  Survived                 1.000000\n",
              "3  Survived    Pclass                 0.338481"
            ]
          },
          "metadata": {
            "tags": []
          },
          "execution_count": 16
        }
      ]
    },
    {
      "cell_type": "markdown",
      "metadata": {
        "id": "tmfH5qjxh_HS"
      },
      "source": [
        "#### Bandingkan nilai variabel dependen Survived dengan variabel independen numerikal dan kategorikal"
      ]
    },
    {
      "cell_type": "code",
      "metadata": {
        "colab": {
          "base_uri": "https://localhost:8080/",
          "height": 0
        },
        "id": "0fJcHRx2hA3J",
        "outputId": "0b7c6805-7301-4466-a0ca-7c0f2bbbfaa0"
      },
      "source": [
        "# pivot tabel Survidev dengan train_numeric\n",
        "pd.pivot_table(train, index = 'Survived', values = ['Age','SibSp','Parch','Fare'])"
      ],
      "execution_count": 17,
      "outputs": [
        {
          "output_type": "execute_result",
          "data": {
            "text/html": [
              "<div>\n",
              "<style scoped>\n",
              "    .dataframe tbody tr th:only-of-type {\n",
              "        vertical-align: middle;\n",
              "    }\n",
              "\n",
              "    .dataframe tbody tr th {\n",
              "        vertical-align: top;\n",
              "    }\n",
              "\n",
              "    .dataframe thead th {\n",
              "        text-align: right;\n",
              "    }\n",
              "</style>\n",
              "<table border=\"1\" class=\"dataframe\">\n",
              "  <thead>\n",
              "    <tr style=\"text-align: right;\">\n",
              "      <th></th>\n",
              "      <th>Age</th>\n",
              "      <th>Fare</th>\n",
              "      <th>Parch</th>\n",
              "      <th>SibSp</th>\n",
              "    </tr>\n",
              "    <tr>\n",
              "      <th>Survived</th>\n",
              "      <th></th>\n",
              "      <th></th>\n",
              "      <th></th>\n",
              "      <th></th>\n",
              "    </tr>\n",
              "  </thead>\n",
              "  <tbody>\n",
              "    <tr>\n",
              "      <th>0</th>\n",
              "      <td>30.626179</td>\n",
              "      <td>22.117887</td>\n",
              "      <td>0.329690</td>\n",
              "      <td>0.553734</td>\n",
              "    </tr>\n",
              "    <tr>\n",
              "      <th>1</th>\n",
              "      <td>28.343690</td>\n",
              "      <td>48.395408</td>\n",
              "      <td>0.464912</td>\n",
              "      <td>0.473684</td>\n",
              "    </tr>\n",
              "  </tbody>\n",
              "</table>\n",
              "</div>"
            ],
            "text/plain": [
              "                Age       Fare     Parch     SibSp\n",
              "Survived                                          \n",
              "0         30.626179  22.117887  0.329690  0.553734\n",
              "1         28.343690  48.395408  0.464912  0.473684"
            ]
          },
          "metadata": {
            "tags": []
          },
          "execution_count": 17
        }
      ]
    },
    {
      "cell_type": "code",
      "metadata": {
        "colab": {
          "base_uri": "https://localhost:8080/",
          "height": 0
        },
        "id": "wIKGS9fzhA5S",
        "outputId": "fdeea349-d321-45c9-9371-7e73f5cbc440"
      },
      "source": [
        "# pivot tabel Survidev dengan train_kategiric\n",
        "pd.pivot_table(train, index = 'Survived', values = ['Pclass'])"
      ],
      "execution_count": 18,
      "outputs": [
        {
          "output_type": "execute_result",
          "data": {
            "text/html": [
              "<div>\n",
              "<style scoped>\n",
              "    .dataframe tbody tr th:only-of-type {\n",
              "        vertical-align: middle;\n",
              "    }\n",
              "\n",
              "    .dataframe tbody tr th {\n",
              "        vertical-align: top;\n",
              "    }\n",
              "\n",
              "    .dataframe thead th {\n",
              "        text-align: right;\n",
              "    }\n",
              "</style>\n",
              "<table border=\"1\" class=\"dataframe\">\n",
              "  <thead>\n",
              "    <tr style=\"text-align: right;\">\n",
              "      <th></th>\n",
              "      <th>Pclass</th>\n",
              "    </tr>\n",
              "    <tr>\n",
              "      <th>Survived</th>\n",
              "      <th></th>\n",
              "    </tr>\n",
              "  </thead>\n",
              "  <tbody>\n",
              "    <tr>\n",
              "      <th>0</th>\n",
              "      <td>2.531876</td>\n",
              "    </tr>\n",
              "    <tr>\n",
              "      <th>1</th>\n",
              "      <td>1.950292</td>\n",
              "    </tr>\n",
              "  </tbody>\n",
              "</table>\n",
              "</div>"
            ],
            "text/plain": [
              "            Pclass\n",
              "Survived          \n",
              "0         2.531876\n",
              "1         1.950292"
            ]
          },
          "metadata": {
            "tags": []
          },
          "execution_count": 18
        }
      ]
    },
    {
      "cell_type": "markdown",
      "metadata": {
        "id": "fXMyexqMiJjK"
      },
      "source": [
        "Catatan :\n",
        "karena 'Sex', 'Ticket', 'Cabin', 'Embarked', 'Survived', bukan merupakan data angka sehingga nilai korelasi dan tabel pivotnya tidak dapat dimuat dengan menggunakan data berikut."
      ]
    },
    {
      "cell_type": "code",
      "metadata": {
        "colab": {
          "base_uri": "https://localhost:8080/"
        },
        "id": "At4By6pwhA7r",
        "outputId": "86fe70c4-0781-4135-d52d-2c4b0665f797"
      },
      "source": [
        "# pivot tabel Survived dengan beberapa variabel kategorik\n",
        "print(pd.pivot_table(train, index = 'Survived', columns = 'Sex', values = 'Ticket' ,aggfunc ='count'))\n",
        "print()\n",
        "print(pd.pivot_table(train, index = 'Survived', columns = 'Embarked', values = 'Ticket' ,aggfunc ='count'))\n",
        "print()\n",
        "print(pd.pivot_table(train, index = 'Survived', columns = 'Pclass', values = 'Ticket' ,aggfunc ='count'))"
      ],
      "execution_count": 19,
      "outputs": [
        {
          "output_type": "stream",
          "text": [
            "Sex       female  male\n",
            "Survived              \n",
            "0             81   468\n",
            "1            233   109\n",
            "\n",
            "Embarked   C   Q    S\n",
            "Survived             \n",
            "0         75  47  427\n",
            "1         93  30  217\n",
            "\n",
            "Pclass      1   2    3\n",
            "Survived              \n",
            "0          80  97  372\n",
            "1         136  87  119\n"
          ],
          "name": "stdout"
        }
      ]
    },
    {
      "cell_type": "markdown",
      "metadata": {
        "id": "XyXH_p1DiUf9"
      },
      "source": [
        "# DATA UNDERSTANDING TEST"
      ]
    },
    {
      "cell_type": "code",
      "metadata": {
        "colab": {
          "base_uri": "https://localhost:8080/",
          "height": 0
        },
        "id": "idT1Xms_hA-G",
        "outputId": "06aa2505-dca7-4984-9de7-c90ba7b0d326"
      },
      "source": [
        "# menampilkan data test\n",
        "test.head()"
      ],
      "execution_count": 20,
      "outputs": [
        {
          "output_type": "execute_result",
          "data": {
            "text/html": [
              "<div>\n",
              "<style scoped>\n",
              "    .dataframe tbody tr th:only-of-type {\n",
              "        vertical-align: middle;\n",
              "    }\n",
              "\n",
              "    .dataframe tbody tr th {\n",
              "        vertical-align: top;\n",
              "    }\n",
              "\n",
              "    .dataframe thead th {\n",
              "        text-align: right;\n",
              "    }\n",
              "</style>\n",
              "<table border=\"1\" class=\"dataframe\">\n",
              "  <thead>\n",
              "    <tr style=\"text-align: right;\">\n",
              "      <th></th>\n",
              "      <th>PassengerId</th>\n",
              "      <th>Pclass</th>\n",
              "      <th>Name</th>\n",
              "      <th>Sex</th>\n",
              "      <th>Age</th>\n",
              "      <th>SibSp</th>\n",
              "      <th>Parch</th>\n",
              "      <th>Ticket</th>\n",
              "      <th>Fare</th>\n",
              "      <th>Cabin</th>\n",
              "      <th>Embarked</th>\n",
              "    </tr>\n",
              "  </thead>\n",
              "  <tbody>\n",
              "    <tr>\n",
              "      <th>0</th>\n",
              "      <td>892</td>\n",
              "      <td>3</td>\n",
              "      <td>Kelly, Mr. James</td>\n",
              "      <td>male</td>\n",
              "      <td>34.5</td>\n",
              "      <td>0</td>\n",
              "      <td>0</td>\n",
              "      <td>330911</td>\n",
              "      <td>7.8292</td>\n",
              "      <td>NaN</td>\n",
              "      <td>Q</td>\n",
              "    </tr>\n",
              "    <tr>\n",
              "      <th>1</th>\n",
              "      <td>893</td>\n",
              "      <td>3</td>\n",
              "      <td>Wilkes, Mrs. James (Ellen Needs)</td>\n",
              "      <td>female</td>\n",
              "      <td>47.0</td>\n",
              "      <td>1</td>\n",
              "      <td>0</td>\n",
              "      <td>363272</td>\n",
              "      <td>7.0000</td>\n",
              "      <td>NaN</td>\n",
              "      <td>S</td>\n",
              "    </tr>\n",
              "    <tr>\n",
              "      <th>2</th>\n",
              "      <td>894</td>\n",
              "      <td>2</td>\n",
              "      <td>Myles, Mr. Thomas Francis</td>\n",
              "      <td>male</td>\n",
              "      <td>62.0</td>\n",
              "      <td>0</td>\n",
              "      <td>0</td>\n",
              "      <td>240276</td>\n",
              "      <td>9.6875</td>\n",
              "      <td>NaN</td>\n",
              "      <td>Q</td>\n",
              "    </tr>\n",
              "    <tr>\n",
              "      <th>3</th>\n",
              "      <td>895</td>\n",
              "      <td>3</td>\n",
              "      <td>Wirz, Mr. Albert</td>\n",
              "      <td>male</td>\n",
              "      <td>27.0</td>\n",
              "      <td>0</td>\n",
              "      <td>0</td>\n",
              "      <td>315154</td>\n",
              "      <td>8.6625</td>\n",
              "      <td>NaN</td>\n",
              "      <td>S</td>\n",
              "    </tr>\n",
              "    <tr>\n",
              "      <th>4</th>\n",
              "      <td>896</td>\n",
              "      <td>3</td>\n",
              "      <td>Hirvonen, Mrs. Alexander (Helga E Lindqvist)</td>\n",
              "      <td>female</td>\n",
              "      <td>22.0</td>\n",
              "      <td>1</td>\n",
              "      <td>1</td>\n",
              "      <td>3101298</td>\n",
              "      <td>12.2875</td>\n",
              "      <td>NaN</td>\n",
              "      <td>S</td>\n",
              "    </tr>\n",
              "  </tbody>\n",
              "</table>\n",
              "</div>"
            ],
            "text/plain": [
              "   PassengerId  Pclass  ... Cabin Embarked\n",
              "0          892       3  ...   NaN        Q\n",
              "1          893       3  ...   NaN        S\n",
              "2          894       2  ...   NaN        Q\n",
              "3          895       3  ...   NaN        S\n",
              "4          896       3  ...   NaN        S\n",
              "\n",
              "[5 rows x 11 columns]"
            ]
          },
          "metadata": {
            "tags": []
          },
          "execution_count": 20
        }
      ]
    },
    {
      "cell_type": "code",
      "metadata": {
        "colab": {
          "base_uri": "https://localhost:8080/"
        },
        "id": "2zAoveVzgqna",
        "outputId": "16139a64-991c-4ae8-a02e-bb303143fd92"
      },
      "source": [
        "# ukuran test\n",
        "test.shape"
      ],
      "execution_count": 21,
      "outputs": [
        {
          "output_type": "execute_result",
          "data": {
            "text/plain": [
              "(418, 11)"
            ]
          },
          "metadata": {
            "tags": []
          },
          "execution_count": 21
        }
      ]
    },
    {
      "cell_type": "code",
      "metadata": {
        "colab": {
          "base_uri": "https://localhost:8080/"
        },
        "id": "7fPB4TPbgqsN",
        "outputId": "b07a08b8-6212-483a-aee4-9c2cb12775f2"
      },
      "source": [
        "# nama kolom yang terdapat dalam test\n",
        "test.columns"
      ],
      "execution_count": 22,
      "outputs": [
        {
          "output_type": "execute_result",
          "data": {
            "text/plain": [
              "Index(['PassengerId', 'Pclass', 'Name', 'Sex', 'Age', 'SibSp', 'Parch',\n",
              "       'Ticket', 'Fare', 'Cabin', 'Embarked'],\n",
              "      dtype='object')"
            ]
          },
          "metadata": {
            "tags": []
          },
          "execution_count": 22
        }
      ]
    },
    {
      "cell_type": "code",
      "metadata": {
        "colab": {
          "base_uri": "https://localhost:8080/",
          "height": 0
        },
        "id": "epvsUvPkid8e",
        "outputId": "bf6712a2-deec-4076-ffab-c1caed688906"
      },
      "source": [
        "# deskripsi tentang test\n",
        "test.describe()"
      ],
      "execution_count": 23,
      "outputs": [
        {
          "output_type": "execute_result",
          "data": {
            "text/html": [
              "<div>\n",
              "<style scoped>\n",
              "    .dataframe tbody tr th:only-of-type {\n",
              "        vertical-align: middle;\n",
              "    }\n",
              "\n",
              "    .dataframe tbody tr th {\n",
              "        vertical-align: top;\n",
              "    }\n",
              "\n",
              "    .dataframe thead th {\n",
              "        text-align: right;\n",
              "    }\n",
              "</style>\n",
              "<table border=\"1\" class=\"dataframe\">\n",
              "  <thead>\n",
              "    <tr style=\"text-align: right;\">\n",
              "      <th></th>\n",
              "      <th>PassengerId</th>\n",
              "      <th>Pclass</th>\n",
              "      <th>Age</th>\n",
              "      <th>SibSp</th>\n",
              "      <th>Parch</th>\n",
              "      <th>Fare</th>\n",
              "    </tr>\n",
              "  </thead>\n",
              "  <tbody>\n",
              "    <tr>\n",
              "      <th>count</th>\n",
              "      <td>418.000000</td>\n",
              "      <td>418.000000</td>\n",
              "      <td>332.000000</td>\n",
              "      <td>418.000000</td>\n",
              "      <td>418.000000</td>\n",
              "      <td>417.000000</td>\n",
              "    </tr>\n",
              "    <tr>\n",
              "      <th>mean</th>\n",
              "      <td>1100.500000</td>\n",
              "      <td>2.265550</td>\n",
              "      <td>30.272590</td>\n",
              "      <td>0.447368</td>\n",
              "      <td>0.392344</td>\n",
              "      <td>35.627188</td>\n",
              "    </tr>\n",
              "    <tr>\n",
              "      <th>std</th>\n",
              "      <td>120.810458</td>\n",
              "      <td>0.841838</td>\n",
              "      <td>14.181209</td>\n",
              "      <td>0.896760</td>\n",
              "      <td>0.981429</td>\n",
              "      <td>55.907576</td>\n",
              "    </tr>\n",
              "    <tr>\n",
              "      <th>min</th>\n",
              "      <td>892.000000</td>\n",
              "      <td>1.000000</td>\n",
              "      <td>0.170000</td>\n",
              "      <td>0.000000</td>\n",
              "      <td>0.000000</td>\n",
              "      <td>0.000000</td>\n",
              "    </tr>\n",
              "    <tr>\n",
              "      <th>25%</th>\n",
              "      <td>996.250000</td>\n",
              "      <td>1.000000</td>\n",
              "      <td>21.000000</td>\n",
              "      <td>0.000000</td>\n",
              "      <td>0.000000</td>\n",
              "      <td>7.895800</td>\n",
              "    </tr>\n",
              "    <tr>\n",
              "      <th>50%</th>\n",
              "      <td>1100.500000</td>\n",
              "      <td>3.000000</td>\n",
              "      <td>27.000000</td>\n",
              "      <td>0.000000</td>\n",
              "      <td>0.000000</td>\n",
              "      <td>14.454200</td>\n",
              "    </tr>\n",
              "    <tr>\n",
              "      <th>75%</th>\n",
              "      <td>1204.750000</td>\n",
              "      <td>3.000000</td>\n",
              "      <td>39.000000</td>\n",
              "      <td>1.000000</td>\n",
              "      <td>0.000000</td>\n",
              "      <td>31.500000</td>\n",
              "    </tr>\n",
              "    <tr>\n",
              "      <th>max</th>\n",
              "      <td>1309.000000</td>\n",
              "      <td>3.000000</td>\n",
              "      <td>76.000000</td>\n",
              "      <td>8.000000</td>\n",
              "      <td>9.000000</td>\n",
              "      <td>512.329200</td>\n",
              "    </tr>\n",
              "  </tbody>\n",
              "</table>\n",
              "</div>"
            ],
            "text/plain": [
              "       PassengerId      Pclass         Age       SibSp       Parch        Fare\n",
              "count   418.000000  418.000000  332.000000  418.000000  418.000000  417.000000\n",
              "mean   1100.500000    2.265550   30.272590    0.447368    0.392344   35.627188\n",
              "std     120.810458    0.841838   14.181209    0.896760    0.981429   55.907576\n",
              "min     892.000000    1.000000    0.170000    0.000000    0.000000    0.000000\n",
              "25%     996.250000    1.000000   21.000000    0.000000    0.000000    7.895800\n",
              "50%    1100.500000    3.000000   27.000000    0.000000    0.000000   14.454200\n",
              "75%    1204.750000    3.000000   39.000000    1.000000    0.000000   31.500000\n",
              "max    1309.000000    3.000000   76.000000    8.000000    9.000000  512.329200"
            ]
          },
          "metadata": {
            "tags": []
          },
          "execution_count": 23
        }
      ]
    },
    {
      "cell_type": "code",
      "metadata": {
        "colab": {
          "base_uri": "https://localhost:8080/"
        },
        "id": "YkFelWsvid_b",
        "outputId": "c81b7907-857e-4516-a7cd-628bad6022ce"
      },
      "source": [
        "# info tentang test\n",
        "test.info()"
      ],
      "execution_count": 24,
      "outputs": [
        {
          "output_type": "stream",
          "text": [
            "<class 'pandas.core.frame.DataFrame'>\n",
            "RangeIndex: 418 entries, 0 to 417\n",
            "Data columns (total 11 columns):\n",
            " #   Column       Non-Null Count  Dtype  \n",
            "---  ------       --------------  -----  \n",
            " 0   PassengerId  418 non-null    int64  \n",
            " 1   Pclass       418 non-null    int64  \n",
            " 2   Name         418 non-null    object \n",
            " 3   Sex          418 non-null    object \n",
            " 4   Age          332 non-null    float64\n",
            " 5   SibSp        418 non-null    int64  \n",
            " 6   Parch        418 non-null    int64  \n",
            " 7   Ticket       418 non-null    object \n",
            " 8   Fare         417 non-null    float64\n",
            " 9   Cabin        91 non-null     object \n",
            " 10  Embarked     418 non-null    object \n",
            "dtypes: float64(2), int64(4), object(5)\n",
            "memory usage: 36.0+ KB\n"
          ],
          "name": "stdout"
        }
      ]
    },
    {
      "cell_type": "code",
      "metadata": {
        "colab": {
          "base_uri": "https://localhost:8080/"
        },
        "id": "vHWYJhgAieCX",
        "outputId": "139dd28a-72bc-4d13-b677-84c4db1d6d52"
      },
      "source": [
        "# kolom yang bertype data numerik\n",
        "test_numeric = test.dtypes[test.dtypes != \"object\"].index\n",
        "test_numeric"
      ],
      "execution_count": 25,
      "outputs": [
        {
          "output_type": "execute_result",
          "data": {
            "text/plain": [
              "Index(['PassengerId', 'Pclass', 'Age', 'SibSp', 'Parch', 'Fare'], dtype='object')"
            ]
          },
          "metadata": {
            "tags": []
          },
          "execution_count": 25
        }
      ]
    },
    {
      "cell_type": "markdown",
      "metadata": {
        "id": "Wl3vcYWwip-A"
      },
      "source": [
        "catatan :\n",
        "di dalam data test terdapat data numerik yang sebenarnya merupakan data bertype katagorikal, sehingga data tersebut harus dimasukan kedalam data bertye katagorik yaitu Pclass"
      ]
    },
    {
      "cell_type": "code",
      "metadata": {
        "colab": {
          "base_uri": "https://localhost:8080/",
          "height": 0
        },
        "id": "-lpP6STcieE7",
        "outputId": "3a9f6ab5-1a74-4a3d-d43e-adf456fca17c"
      },
      "source": [
        "# kolom bertype data numerik\n",
        "test_numeric = test[['Age', 'SibSp', 'Parch', 'Fare']]\n",
        "\n",
        "# count plot dari data numerik\n",
        "for i in test_numeric.columns:\n",
        "    plt.hist(test_numeric[i])\n",
        "    plt.title(i)\n",
        "    plt.show()"
      ],
      "execution_count": 26,
      "outputs": [
        {
          "output_type": "display_data",
          "data": {
            "image/png": "[encoded data removed]",
            "text/plain": [
              "<Figure size 432x288 with 1 Axes>"
            ]
          },
          "metadata": {
            "tags": [],
            "needs_background": "light"
          }
        },
        {
          "output_type": "display_data",
          "data": {
            "image/png": "[encoded data removed]",
            "text/plain": [
              "<Figure size 432x288 with 1 Axes>"
            ]
          },
          "metadata": {
            "tags": [],
            "needs_background": "light"
          }
        },
        {
          "output_type": "display_data",
          "data": {
            "image/png": "[encoded data removed]",
            "text/plain": [
              "<Figure size 432x288 with 1 Axes>"
            ]
          },
          "metadata": {
            "tags": [],
            "needs_background": "light"
          }
        },
        {
          "output_type": "display_data",
          "data": {
            "image/png": "[encoded data removed]",
            "text/plain": [
              "<Figure size 432x288 with 1 Axes>"
            ]
          },
          "metadata": {
            "tags": [],
            "needs_background": "light"
          }
        }
      ]
    },
    {
      "cell_type": "code",
      "metadata": {
        "colab": {
          "base_uri": "https://localhost:8080/"
        },
        "id": "cTd0ee0vieIN",
        "outputId": "f0abad1e-d5c9-4ce6-ef91-f90e28344b49"
      },
      "source": [
        "# test yang bertipe data kategorik\n",
        "test_categoric = test.dtypes[test.dtypes == \"object\"].index\n",
        "test_categoric"
      ],
      "execution_count": 27,
      "outputs": [
        {
          "output_type": "execute_result",
          "data": {
            "text/plain": [
              "Index(['Name', 'Sex', 'Ticket', 'Cabin', 'Embarked'], dtype='object')"
            ]
          },
          "metadata": {
            "tags": []
          },
          "execution_count": 27
        }
      ]
    },
    {
      "cell_type": "code",
      "metadata": {
        "colab": {
          "base_uri": "https://localhost:8080/",
          "height": 0
        },
        "id": "cM09hs6gieKS",
        "outputId": "e4f7e2bb-46ae-4a1a-fa68-8d37722455bd"
      },
      "source": [
        "# kolom yang bertype data katerorikal\n",
        "test_categoric = test[['Sex', 'Ticket', 'Cabin', 'Embarked', 'Pclass']]\n",
        "\n",
        "# barplot plot dari data kategorik\n",
        "for i in test_categoric.columns:\n",
        "    sns.barplot(test_categoric[i].value_counts().index,test_categoric[i].value_counts()).set_title(i)\n",
        "    plt.show()"
      ],
      "execution_count": 28,
      "outputs": [
        {
          "output_type": "stream",
          "text": [
            "/usr/local/lib/python3.7/dist-packages/seaborn/_decorators.py:43: FutureWarning: Pass the following variables as keyword args: x, y. From version 0.12, the only valid positional argument will be `data`, and passing other arguments without an explicit keyword will result in an error or misinterpretation.\n",
            "  FutureWarning\n"
          ],
          "name": "stderr"
        },
        {
          "output_type": "display_data",
          "data": {
            "image/png": "[encoded data removed]",
            "text/plain": [
              "<Figure size 432x288 with 1 Axes>"
            ]
          },
          "metadata": {
            "tags": [],
            "needs_background": "light"
          }
        },
        {
          "output_type": "stream",
          "text": [
            "/usr/local/lib/python3.7/dist-packages/seaborn/_decorators.py:43: FutureWarning: Pass the following variables as keyword args: x, y. From version 0.12, the only valid positional argument will be `data`, and passing other arguments without an explicit keyword will result in an error or misinterpretation.\n",
            "  FutureWarning\n"
          ],
          "name": "stderr"
        },
        {
          "output_type": "display_data",
          "data": {
            "image/png": "[encoded data removed]",
            "text/plain": [
              "<Figure size 432x288 with 1 Axes>"
            ]
          },
          "metadata": {
            "tags": [],
            "needs_background": "light"
          }
        },
        {
          "output_type": "stream",
          "text": [
            "/usr/local/lib/python3.7/dist-packages/seaborn/_decorators.py:43: FutureWarning: Pass the following variables as keyword args: x, y. From version 0.12, the only valid positional argument will be `data`, and passing other arguments without an explicit keyword will result in an error or misinterpretation.\n",
            "  FutureWarning\n"
          ],
          "name": "stderr"
        },
        {
          "output_type": "display_data",
          "data": {
            "image/png": "[encoded data removed]",
            "text/plain": [
              "<Figure size 432x288 with 1 Axes>"
            ]
          },
          "metadata": {
            "tags": [],
            "needs_background": "light"
          }
        },
        {
          "output_type": "stream",
          "text": [
            "/usr/local/lib/python3.7/dist-packages/seaborn/_decorators.py:43: FutureWarning: Pass the following variables as keyword args: x, y. From version 0.12, the only valid positional argument will be `data`, and passing other arguments without an explicit keyword will result in an error or misinterpretation.\n",
            "  FutureWarning\n"
          ],
          "name": "stderr"
        },
        {
          "output_type": "display_data",
          "data": {
            "image/png": "[encoded data removed]",
            "text/plain": [
              "<Figure size 432x288 with 1 Axes>"
            ]
          },
          "metadata": {
            "tags": [],
            "needs_background": "light"
          }
        },
        {
          "output_type": "stream",
          "text": [
            "/usr/local/lib/python3.7/dist-packages/seaborn/_decorators.py:43: FutureWarning: Pass the following variables as keyword args: x, y. From version 0.12, the only valid positional argument will be `data`, and passing other arguments without an explicit keyword will result in an error or misinterpretation.\n",
            "  FutureWarning\n"
          ],
          "name": "stderr"
        },
        {
          "output_type": "display_data",
          "data": {
            "image/png": "[encoded data removed]",
            "text/plain": [
              "<Figure size 432x288 with 1 Axes>"
            ]
          },
          "metadata": {
            "tags": [],
            "needs_background": "light"
          }
        }
      ]
    },
    {
      "cell_type": "code",
      "metadata": {
        "colab": {
          "base_uri": "https://localhost:8080/"
        },
        "id": "28zFn1L1ieMW",
        "outputId": "4649c197-4840-45bc-ff24-b3fecb9ee2b3"
      },
      "source": [
        "# korelasi antar variabel test numerik\n",
        "print(test_numeric.corr())"
      ],
      "execution_count": 29,
      "outputs": [
        {
          "output_type": "stream",
          "text": [
            "            Age     SibSp     Parch      Fare\n",
            "Age    1.000000 -0.091587 -0.061249  0.337932\n",
            "SibSp -0.091587  1.000000  0.306895  0.171539\n",
            "Parch -0.061249  0.306895  1.000000  0.230046\n",
            "Fare   0.337932  0.171539  0.230046  1.000000\n"
          ],
          "name": "stdout"
        }
      ]
    },
    {
      "cell_type": "markdown",
      "metadata": {
        "id": "ygFbMbbQj2Oz"
      },
      "source": [
        "# HANDLING MISSING VALUE"
      ]
    },
    {
      "cell_type": "code",
      "metadata": {
        "colab": {
          "base_uri": "https://localhost:8080/",
          "height": 0
        },
        "id": "yiu68FaqieO_",
        "outputId": "67a8fdde-cbe3-4cf2-991f-a68c333f3a38"
      },
      "source": [
        "# banyak baris train dan test\n",
        "ntrain = train.shape[0]\n",
        "ntest = test.shape[0]\n",
        "\n",
        "# buat data baru\n",
        "train_PassengerId = train[\"PassengerId\"]\n",
        "test_PassengerId = test[\"PassengerId\"]\n",
        "train_survived = train[\"Survived\"]\n",
        "y_train = train.Survived.values\n",
        "\n",
        "# gabungkan train dan test\n",
        "all_data = pd.concat((train, test)).reset_index(drop=True)\n",
        "\n",
        "# hapus kolom Survived \n",
        "all_data.drop(['Survived', 'PassengerId'], axis=1, inplace=True)\n",
        "all_data.head()"
      ],
      "execution_count": 30,
      "outputs": [
        {
          "output_type": "execute_result",
          "data": {
            "text/html": [
              "<div>\n",
              "<style scoped>\n",
              "    .dataframe tbody tr th:only-of-type {\n",
              "        vertical-align: middle;\n",
              "    }\n",
              "\n",
              "    .dataframe tbody tr th {\n",
              "        vertical-align: top;\n",
              "    }\n",
              "\n",
              "    .dataframe thead th {\n",
              "        text-align: right;\n",
              "    }\n",
              "</style>\n",
              "<table border=\"1\" class=\"dataframe\">\n",
              "  <thead>\n",
              "    <tr style=\"text-align: right;\">\n",
              "      <th></th>\n",
              "      <th>Pclass</th>\n",
              "      <th>Name</th>\n",
              "      <th>Sex</th>\n",
              "      <th>Age</th>\n",
              "      <th>SibSp</th>\n",
              "      <th>Parch</th>\n",
              "      <th>Ticket</th>\n",
              "      <th>Fare</th>\n",
              "      <th>Cabin</th>\n",
              "      <th>Embarked</th>\n",
              "    </tr>\n",
              "  </thead>\n",
              "  <tbody>\n",
              "    <tr>\n",
              "      <th>0</th>\n",
              "      <td>3</td>\n",
              "      <td>Braund, Mr. Owen Harris</td>\n",
              "      <td>male</td>\n",
              "      <td>22.0</td>\n",
              "      <td>1</td>\n",
              "      <td>0</td>\n",
              "      <td>A/5 21171</td>\n",
              "      <td>7.2500</td>\n",
              "      <td>NaN</td>\n",
              "      <td>S</td>\n",
              "    </tr>\n",
              "    <tr>\n",
              "      <th>1</th>\n",
              "      <td>1</td>\n",
              "      <td>Cumings, Mrs. John Bradley (Florence Briggs Th...</td>\n",
              "      <td>female</td>\n",
              "      <td>38.0</td>\n",
              "      <td>1</td>\n",
              "      <td>0</td>\n",
              "      <td>PC 17599</td>\n",
              "      <td>71.2833</td>\n",
              "      <td>C85</td>\n",
              "      <td>C</td>\n",
              "    </tr>\n",
              "    <tr>\n",
              "      <th>2</th>\n",
              "      <td>3</td>\n",
              "      <td>Heikkinen, Miss. Laina</td>\n",
              "      <td>female</td>\n",
              "      <td>26.0</td>\n",
              "      <td>0</td>\n",
              "      <td>0</td>\n",
              "      <td>STON/O2. 3101282</td>\n",
              "      <td>7.9250</td>\n",
              "      <td>NaN</td>\n",
              "      <td>S</td>\n",
              "    </tr>\n",
              "    <tr>\n",
              "      <th>3</th>\n",
              "      <td>1</td>\n",
              "      <td>Futrelle, Mrs. Jacques Heath (Lily May Peel)</td>\n",
              "      <td>female</td>\n",
              "      <td>35.0</td>\n",
              "      <td>1</td>\n",
              "      <td>0</td>\n",
              "      <td>113803</td>\n",
              "      <td>53.1000</td>\n",
              "      <td>C123</td>\n",
              "      <td>S</td>\n",
              "    </tr>\n",
              "    <tr>\n",
              "      <th>4</th>\n",
              "      <td>3</td>\n",
              "      <td>Allen, Mr. William Henry</td>\n",
              "      <td>male</td>\n",
              "      <td>35.0</td>\n",
              "      <td>0</td>\n",
              "      <td>0</td>\n",
              "      <td>373450</td>\n",
              "      <td>8.0500</td>\n",
              "      <td>NaN</td>\n",
              "      <td>S</td>\n",
              "    </tr>\n",
              "  </tbody>\n",
              "</table>\n",
              "</div>"
            ],
            "text/plain": [
              "   Pclass                                               Name  ... Cabin  Embarked\n",
              "0       3                            Braund, Mr. Owen Harris  ...   NaN         S\n",
              "1       1  Cumings, Mrs. John Bradley (Florence Briggs Th...  ...   C85         C\n",
              "2       3                             Heikkinen, Miss. Laina  ...   NaN         S\n",
              "3       1       Futrelle, Mrs. Jacques Heath (Lily May Peel)  ...  C123         S\n",
              "4       3                           Allen, Mr. William Henry  ...   NaN         S\n",
              "\n",
              "[5 rows x 10 columns]"
            ]
          },
          "metadata": {
            "tags": []
          },
          "execution_count": 30
        }
      ]
    },
    {
      "cell_type": "code",
      "metadata": {
        "colab": {
          "base_uri": "https://localhost:8080/"
        },
        "id": "jpVLz5iRieRc",
        "outputId": "d70667b1-ff8d-409e-bb18-d58c3a37acec"
      },
      "source": [
        "# cek ukuran data gabungan\n",
        "all_data.shape"
      ],
      "execution_count": 31,
      "outputs": [
        {
          "output_type": "execute_result",
          "data": {
            "text/plain": [
              "(1309, 10)"
            ]
          },
          "metadata": {
            "tags": []
          },
          "execution_count": 31
        }
      ]
    },
    {
      "cell_type": "code",
      "metadata": {
        "colab": {
          "base_uri": "https://localhost:8080/",
          "height": 0
        },
        "id": "5Wsurtu5ieUg",
        "outputId": "01d0addf-78c0-489e-e1f1-330448da40b3"
      },
      "source": [
        "# descripsi tentang data gabungan\n",
        "all_data.describe()"
      ],
      "execution_count": 32,
      "outputs": [
        {
          "output_type": "execute_result",
          "data": {
            "text/html": [
              "<div>\n",
              "<style scoped>\n",
              "    .dataframe tbody tr th:only-of-type {\n",
              "        vertical-align: middle;\n",
              "    }\n",
              "\n",
              "    .dataframe tbody tr th {\n",
              "        vertical-align: top;\n",
              "    }\n",
              "\n",
              "    .dataframe thead th {\n",
              "        text-align: right;\n",
              "    }\n",
              "</style>\n",
              "<table border=\"1\" class=\"dataframe\">\n",
              "  <thead>\n",
              "    <tr style=\"text-align: right;\">\n",
              "      <th></th>\n",
              "      <th>Pclass</th>\n",
              "      <th>Age</th>\n",
              "      <th>SibSp</th>\n",
              "      <th>Parch</th>\n",
              "      <th>Fare</th>\n",
              "    </tr>\n",
              "  </thead>\n",
              "  <tbody>\n",
              "    <tr>\n",
              "      <th>count</th>\n",
              "      <td>1309.000000</td>\n",
              "      <td>1046.000000</td>\n",
              "      <td>1309.000000</td>\n",
              "      <td>1309.000000</td>\n",
              "      <td>1308.000000</td>\n",
              "    </tr>\n",
              "    <tr>\n",
              "      <th>mean</th>\n",
              "      <td>2.294882</td>\n",
              "      <td>29.881138</td>\n",
              "      <td>0.498854</td>\n",
              "      <td>0.385027</td>\n",
              "      <td>33.295479</td>\n",
              "    </tr>\n",
              "    <tr>\n",
              "      <th>std</th>\n",
              "      <td>0.837836</td>\n",
              "      <td>14.413493</td>\n",
              "      <td>1.041658</td>\n",
              "      <td>0.865560</td>\n",
              "      <td>51.758668</td>\n",
              "    </tr>\n",
              "    <tr>\n",
              "      <th>min</th>\n",
              "      <td>1.000000</td>\n",
              "      <td>0.170000</td>\n",
              "      <td>0.000000</td>\n",
              "      <td>0.000000</td>\n",
              "      <td>0.000000</td>\n",
              "    </tr>\n",
              "    <tr>\n",
              "      <th>25%</th>\n",
              "      <td>2.000000</td>\n",
              "      <td>21.000000</td>\n",
              "      <td>0.000000</td>\n",
              "      <td>0.000000</td>\n",
              "      <td>7.895800</td>\n",
              "    </tr>\n",
              "    <tr>\n",
              "      <th>50%</th>\n",
              "      <td>3.000000</td>\n",
              "      <td>28.000000</td>\n",
              "      <td>0.000000</td>\n",
              "      <td>0.000000</td>\n",
              "      <td>14.454200</td>\n",
              "    </tr>\n",
              "    <tr>\n",
              "      <th>75%</th>\n",
              "      <td>3.000000</td>\n",
              "      <td>39.000000</td>\n",
              "      <td>1.000000</td>\n",
              "      <td>0.000000</td>\n",
              "      <td>31.275000</td>\n",
              "    </tr>\n",
              "    <tr>\n",
              "      <th>max</th>\n",
              "      <td>3.000000</td>\n",
              "      <td>80.000000</td>\n",
              "      <td>8.000000</td>\n",
              "      <td>9.000000</td>\n",
              "      <td>512.329200</td>\n",
              "    </tr>\n",
              "  </tbody>\n",
              "</table>\n",
              "</div>"
            ],
            "text/plain": [
              "            Pclass          Age        SibSp        Parch         Fare\n",
              "count  1309.000000  1046.000000  1309.000000  1309.000000  1308.000000\n",
              "mean      2.294882    29.881138     0.498854     0.385027    33.295479\n",
              "std       0.837836    14.413493     1.041658     0.865560    51.758668\n",
              "min       1.000000     0.170000     0.000000     0.000000     0.000000\n",
              "25%       2.000000    21.000000     0.000000     0.000000     7.895800\n",
              "50%       3.000000    28.000000     0.000000     0.000000    14.454200\n",
              "75%       3.000000    39.000000     1.000000     0.000000    31.275000\n",
              "max       3.000000    80.000000     8.000000     9.000000   512.329200"
            ]
          },
          "metadata": {
            "tags": []
          },
          "execution_count": 32
        }
      ]
    },
    {
      "cell_type": "code",
      "metadata": {
        "colab": {
          "base_uri": "https://localhost:8080/"
        },
        "id": "hHgSTDyEieWF",
        "outputId": "fe9bdf4b-7f91-47e6-c9cf-6c426952fa3c"
      },
      "source": [
        "# info tentang data gabungan\n",
        "all_data.info()"
      ],
      "execution_count": 33,
      "outputs": [
        {
          "output_type": "stream",
          "text": [
            "<class 'pandas.core.frame.DataFrame'>\n",
            "RangeIndex: 1309 entries, 0 to 1308\n",
            "Data columns (total 10 columns):\n",
            " #   Column    Non-Null Count  Dtype  \n",
            "---  ------    --------------  -----  \n",
            " 0   Pclass    1309 non-null   int64  \n",
            " 1   Name      1309 non-null   object \n",
            " 2   Sex       1309 non-null   object \n",
            " 3   Age       1046 non-null   float64\n",
            " 4   SibSp     1309 non-null   int64  \n",
            " 5   Parch     1309 non-null   int64  \n",
            " 6   Ticket    1309 non-null   object \n",
            " 7   Fare      1308 non-null   float64\n",
            " 8   Cabin     295 non-null    object \n",
            " 9   Embarked  1307 non-null   object \n",
            "dtypes: float64(2), int64(3), object(5)\n",
            "memory usage: 102.4+ KB\n"
          ],
          "name": "stdout"
        }
      ]
    },
    {
      "cell_type": "code",
      "metadata": {
        "colab": {
          "base_uri": "https://localhost:8080/"
        },
        "id": "Nel7z4bVieYd",
        "outputId": "557474ca-ab0b-4420-e51d-c33ec8575054"
      },
      "source": [
        "# feature numerik\n",
        "data_categoric = all_data.dtypes[all_data.dtypes == \"object\"].index\n",
        "data_categoric"
      ],
      "execution_count": 34,
      "outputs": [
        {
          "output_type": "execute_result",
          "data": {
            "text/plain": [
              "Index(['Name', 'Sex', 'Ticket', 'Cabin', 'Embarked'], dtype='object')"
            ]
          },
          "metadata": {
            "tags": []
          },
          "execution_count": 34
        }
      ]
    },
    {
      "cell_type": "code",
      "metadata": {
        "colab": {
          "base_uri": "https://localhost:8080/"
        },
        "id": "SXZlrGm7iebC",
        "outputId": "d0bbfa63-342b-445b-d87c-c596e1b8d4e6"
      },
      "source": [
        "# feature yang memiliki missing value\n",
        "all_data.isnull().sum()[all_data.isnull().sum()>0]"
      ],
      "execution_count": 35,
      "outputs": [
        {
          "output_type": "execute_result",
          "data": {
            "text/plain": [
              "Age          263\n",
              "Fare           1\n",
              "Cabin       1014\n",
              "Embarked       2\n",
              "dtype: int64"
            ]
          },
          "metadata": {
            "tags": []
          },
          "execution_count": 35
        }
      ]
    },
    {
      "cell_type": "code",
      "metadata": {
        "colab": {
          "base_uri": "https://localhost:8080/",
          "height": 0
        },
        "id": "uBSRi0hdiegb",
        "outputId": "332af2cb-000d-4fac-a713-f5c8abaa1680"
      },
      "source": [
        "# plot Age\n",
        "sns.displot(all_data[\"Age\"])"
      ],
      "execution_count": 36,
      "outputs": [
        {
          "output_type": "execute_result",
          "data": {
            "text/plain": [
              "<seaborn.axisgrid.FacetGrid at 0x7f47c81daa90>"
            ]
          },
          "metadata": {
            "tags": []
          },
          "execution_count": 36
        },
        {
          "output_type": "display_data",
          "data": {
            "image/png": "[encoded data removed]",
            "text/plain": [
              "<Figure size 360x360 with 1 Axes>"
            ]
          },
          "metadata": {
            "tags": [],
            "needs_background": "light"
          }
        }
      ]
    },
    {
      "cell_type": "code",
      "metadata": {
        "id": "6ma_m8-Xieix"
      },
      "source": [
        "# isi missing value Age\n",
        "all_data[\"Age\"] = all_data[\"Age\"].fillna(all_data[\"Age\"].median())"
      ],
      "execution_count": 37,
      "outputs": []
    },
    {
      "cell_type": "code",
      "metadata": {
        "colab": {
          "base_uri": "https://localhost:8080/",
          "height": 0
        },
        "id": "eLzMtZTYielb",
        "outputId": "2e2c95b3-cc6d-4a3b-fc64-e9d7e5552321"
      },
      "source": [
        "# plot Fare\n",
        "sns.displot(all_data['Fare'])"
      ],
      "execution_count": 38,
      "outputs": [
        {
          "output_type": "execute_result",
          "data": {
            "text/plain": [
              "<seaborn.axisgrid.FacetGrid at 0x7f47c68bd710>"
            ]
          },
          "metadata": {
            "tags": []
          },
          "execution_count": 38
        },
        {
          "output_type": "display_data",
          "data": {
            "image/png": "[encoded data removed]",
            "text/plain": [
              "<Figure size 360x360 with 1 Axes>"
            ]
          },
          "metadata": {
            "tags": [],
            "needs_background": "light"
          }
        }
      ]
    },
    {
      "cell_type": "code",
      "metadata": {
        "id": "J0LgsFAFien0"
      },
      "source": [
        "# isi missing value Fare\n",
        "all_data[\"Fare\"] = all_data[\"Fare\"].fillna(all_data[\"Fare\"].median())"
      ],
      "execution_count": 39,
      "outputs": []
    },
    {
      "cell_type": "code",
      "metadata": {
        "colab": {
          "base_uri": "https://localhost:8080/",
          "height": 0
        },
        "id": "7-Z86nF8iep2",
        "outputId": "c5510952-06c5-4fbb-e7eb-392b842b8687"
      },
      "source": [
        "# plot Embarked\n",
        "sns.countplot(all_data['Embarked'])"
      ],
      "execution_count": 40,
      "outputs": [
        {
          "output_type": "stream",
          "text": [
            "/usr/local/lib/python3.7/dist-packages/seaborn/_decorators.py:43: FutureWarning: Pass the following variable as a keyword arg: x. From version 0.12, the only valid positional argument will be `data`, and passing other arguments without an explicit keyword will result in an error or misinterpretation.\n",
            "  FutureWarning\n"
          ],
          "name": "stderr"
        },
        {
          "output_type": "execute_result",
          "data": {
            "text/plain": [
              "<matplotlib.axes._subplots.AxesSubplot at 0x7f47c6433490>"
            ]
          },
          "metadata": {
            "tags": []
          },
          "execution_count": 40
        },
        {
          "output_type": "display_data",
          "data": {
            "image/png": "[encoded data removed]",
            "text/plain": [
              "<Figure size 432x288 with 1 Axes>"
            ]
          },
          "metadata": {
            "tags": [],
            "needs_background": "light"
          }
        }
      ]
    },
    {
      "cell_type": "code",
      "metadata": {
        "id": "oIPJ7Ptoks_1"
      },
      "source": [
        "# isi missing value Embarked\n",
        "all_data['Embarked'] = all_data['Embarked'].fillna(all_data['Embarked'].mode()[0])"
      ],
      "execution_count": 41,
      "outputs": []
    },
    {
      "cell_type": "code",
      "metadata": {
        "colab": {
          "base_uri": "https://localhost:8080/",
          "height": 0
        },
        "id": "A-Ca8Oiuk4bv",
        "outputId": "a943b4bc-e16a-4d90-fb75-40662dd4b0f2"
      },
      "source": [
        "# plot Cabin\n",
        "sns.countplot(all_data['Cabin'])"
      ],
      "execution_count": 42,
      "outputs": [
        {
          "output_type": "stream",
          "text": [
            "/usr/local/lib/python3.7/dist-packages/seaborn/_decorators.py:43: FutureWarning: Pass the following variable as a keyword arg: x. From version 0.12, the only valid positional argument will be `data`, and passing other arguments without an explicit keyword will result in an error or misinterpretation.\n",
            "  FutureWarning\n"
          ],
          "name": "stderr"
        },
        {
          "output_type": "execute_result",
          "data": {
            "text/plain": [
              "<matplotlib.axes._subplots.AxesSubplot at 0x7f47c741a390>"
            ]
          },
          "metadata": {
            "tags": []
          },
          "execution_count": 42
        },
        {
          "output_type": "display_data",
          "data": {
            "image/png": "[encoded data removed]",
            "text/plain": [
              "<Figure size 432x288 with 1 Axes>"
            ]
          },
          "metadata": {
            "tags": [],
            "needs_background": "light"
          }
        }
      ]
    },
    {
      "cell_type": "code",
      "metadata": {
        "id": "ZUo9nzW_k4nk"
      },
      "source": [
        "# isi missing value Cabin\n",
        "all_data['Cabin'] = all_data['Cabin'].fillna(all_data['Cabin'].mode()[0])"
      ],
      "execution_count": 43,
      "outputs": []
    },
    {
      "cell_type": "code",
      "metadata": {
        "colab": {
          "base_uri": "https://localhost:8080/"
        },
        "id": "sb53ROPaktDC",
        "outputId": "621c1bf2-06fa-4ecb-d840-4c30d5a4446a"
      },
      "source": [
        "# Recek missing value\n",
        "all_data.isnull().sum()[all_data.isnull().sum()>0]"
      ],
      "execution_count": 44,
      "outputs": [
        {
          "output_type": "execute_result",
          "data": {
            "text/plain": [
              "Series([], dtype: int64)"
            ]
          },
          "metadata": {
            "tags": []
          },
          "execution_count": 44
        }
      ]
    },
    {
      "cell_type": "markdown",
      "metadata": {
        "id": "q7yHzdgjlUzs"
      },
      "source": [
        "#### Feature angineering data gabungan"
      ]
    },
    {
      "cell_type": "code",
      "metadata": {
        "colab": {
          "base_uri": "https://localhost:8080/"
        },
        "id": "KHgSAhgklSRu",
        "outputId": "ffb53dd0-5a0e-485d-be8c-22791a69e5ad"
      },
      "source": [
        "# buat feature baru cabin_aphabet\n",
        "all_data['cabin_alphabet'] = all_data.Cabin.apply(lambda x: str(x)[0])\n",
        "print(all_data.cabin_alphabet.value_counts())"
      ],
      "execution_count": 45,
      "outputs": [
        {
          "output_type": "stream",
          "text": [
            "C    1108\n",
            "B      65\n",
            "D      46\n",
            "E      41\n",
            "A      22\n",
            "F      21\n",
            "G       5\n",
            "T       1\n",
            "Name: cabin_alphabet, dtype: int64\n"
          ],
          "name": "stdout"
        }
      ]
    },
    {
      "cell_type": "code",
      "metadata": {
        "colab": {
          "base_uri": "https://localhost:8080/"
        },
        "id": "g0K1FNlkktGd",
        "outputId": "72d6a87c-68f8-4064-e8fd-c904c513dcd1"
      },
      "source": [
        "# buat feature baru cabin_multiple \n",
        "all_data['cabin_multiple'] = all_data.Cabin.apply(lambda x: 0 if pd.isna(x) else len(x.split(' ')))\n",
        "all_data['cabin_multiple'].value_counts()"
      ],
      "execution_count": 46,
      "outputs": [
        {
          "output_type": "execute_result",
          "data": {
            "text/plain": [
              "3    1024\n",
              "1     254\n",
              "2      26\n",
              "4       5\n",
              "Name: cabin_multiple, dtype: int64"
            ]
          },
          "metadata": {
            "tags": []
          },
          "execution_count": 46
        }
      ]
    },
    {
      "cell_type": "code",
      "metadata": {
        "colab": {
          "base_uri": "https://localhost:8080/"
        },
        "id": "gB36T7IHktIq",
        "outputId": "b0bdb247-5fa6-459b-f2ba-ae95706473a1"
      },
      "source": [
        "# buat featur baru tiket ticket_numerik\n",
        "all_data['ticket_numeric'] = all_data.Ticket.apply(lambda x: 1 if x.isnumeric() else 0)\n",
        "all_data['ticket_numeric'].value_counts()"
      ],
      "execution_count": 47,
      "outputs": [
        {
          "output_type": "execute_result",
          "data": {
            "text/plain": [
              "1    957\n",
              "0    352\n",
              "Name: ticket_numeric, dtype: int64"
            ]
          },
          "metadata": {
            "tags": []
          },
          "execution_count": 47
        }
      ]
    },
    {
      "cell_type": "markdown",
      "metadata": {
        "id": "rzXYIfeylmOk"
      },
      "source": [
        "### Convert Kategorikal feature"
      ]
    },
    {
      "cell_type": "code",
      "metadata": {
        "id": "Wo20R6OwktK5"
      },
      "source": [
        "# convert Sex\n",
        "all_data['Sex'] = all_data['Sex'].map( {'female': 1, 'male': 0} ).astype(int)"
      ],
      "execution_count": 48,
      "outputs": []
    },
    {
      "cell_type": "code",
      "metadata": {
        "id": "qqr1SZe9ktNb"
      },
      "source": [
        "# conver Embarked\n",
        "all_data['Embarked'] = all_data['Embarked'].map( {'S': 0, 'C': 1, 'Q': 2} ).astype(int)"
      ],
      "execution_count": 49,
      "outputs": []
    },
    {
      "cell_type": "code",
      "metadata": {
        "id": "Lgn2bk-6ktP1"
      },
      "source": [
        "# convert cabin_aplphabet\n",
        "all_data['cabin_alphabet'] = all_data['cabin_alphabet'].map( {'A':1, 'B': 2, 'C':3, 'D':4, 'E': 5, 'F':6, 'G':7, 'T':8 } ).astype(int)"
      ],
      "execution_count": 50,
      "outputs": []
    },
    {
      "cell_type": "code",
      "metadata": {
        "colab": {
          "base_uri": "https://localhost:8080/",
          "height": 0
        },
        "id": "AJUdnzc6ktSr",
        "outputId": "bfbb2240-38d0-43da-c27d-198004011594"
      },
      "source": [
        "# recek \n",
        "all_data.head(5)"
      ],
      "execution_count": 51,
      "outputs": [
        {
          "output_type": "execute_result",
          "data": {
            "text/html": [
              "<div>\n",
              "<style scoped>\n",
              "    .dataframe tbody tr th:only-of-type {\n",
              "        vertical-align: middle;\n",
              "    }\n",
              "\n",
              "    .dataframe tbody tr th {\n",
              "        vertical-align: top;\n",
              "    }\n",
              "\n",
              "    .dataframe thead th {\n",
              "        text-align: right;\n",
              "    }\n",
              "</style>\n",
              "<table border=\"1\" class=\"dataframe\">\n",
              "  <thead>\n",
              "    <tr style=\"text-align: right;\">\n",
              "      <th></th>\n",
              "      <th>Pclass</th>\n",
              "      <th>Name</th>\n",
              "      <th>Sex</th>\n",
              "      <th>Age</th>\n",
              "      <th>SibSp</th>\n",
              "      <th>Parch</th>\n",
              "      <th>Ticket</th>\n",
              "      <th>Fare</th>\n",
              "      <th>Cabin</th>\n",
              "      <th>Embarked</th>\n",
              "      <th>cabin_alphabet</th>\n",
              "      <th>cabin_multiple</th>\n",
              "      <th>ticket_numeric</th>\n",
              "    </tr>\n",
              "  </thead>\n",
              "  <tbody>\n",
              "    <tr>\n",
              "      <th>0</th>\n",
              "      <td>3</td>\n",
              "      <td>Braund, Mr. Owen Harris</td>\n",
              "      <td>0</td>\n",
              "      <td>22.0</td>\n",
              "      <td>1</td>\n",
              "      <td>0</td>\n",
              "      <td>A/5 21171</td>\n",
              "      <td>7.2500</td>\n",
              "      <td>C23 C25 C27</td>\n",
              "      <td>0</td>\n",
              "      <td>3</td>\n",
              "      <td>3</td>\n",
              "      <td>0</td>\n",
              "    </tr>\n",
              "    <tr>\n",
              "      <th>1</th>\n",
              "      <td>1</td>\n",
              "      <td>Cumings, Mrs. John Bradley (Florence Briggs Th...</td>\n",
              "      <td>1</td>\n",
              "      <td>38.0</td>\n",
              "      <td>1</td>\n",
              "      <td>0</td>\n",
              "      <td>PC 17599</td>\n",
              "      <td>71.2833</td>\n",
              "      <td>C85</td>\n",
              "      <td>1</td>\n",
              "      <td>3</td>\n",
              "      <td>1</td>\n",
              "      <td>0</td>\n",
              "    </tr>\n",
              "    <tr>\n",
              "      <th>2</th>\n",
              "      <td>3</td>\n",
              "      <td>Heikkinen, Miss. Laina</td>\n",
              "      <td>1</td>\n",
              "      <td>26.0</td>\n",
              "      <td>0</td>\n",
              "      <td>0</td>\n",
              "      <td>STON/O2. 3101282</td>\n",
              "      <td>7.9250</td>\n",
              "      <td>C23 C25 C27</td>\n",
              "      <td>0</td>\n",
              "      <td>3</td>\n",
              "      <td>3</td>\n",
              "      <td>0</td>\n",
              "    </tr>\n",
              "    <tr>\n",
              "      <th>3</th>\n",
              "      <td>1</td>\n",
              "      <td>Futrelle, Mrs. Jacques Heath (Lily May Peel)</td>\n",
              "      <td>1</td>\n",
              "      <td>35.0</td>\n",
              "      <td>1</td>\n",
              "      <td>0</td>\n",
              "      <td>113803</td>\n",
              "      <td>53.1000</td>\n",
              "      <td>C123</td>\n",
              "      <td>0</td>\n",
              "      <td>3</td>\n",
              "      <td>1</td>\n",
              "      <td>1</td>\n",
              "    </tr>\n",
              "    <tr>\n",
              "      <th>4</th>\n",
              "      <td>3</td>\n",
              "      <td>Allen, Mr. William Henry</td>\n",
              "      <td>0</td>\n",
              "      <td>35.0</td>\n",
              "      <td>0</td>\n",
              "      <td>0</td>\n",
              "      <td>373450</td>\n",
              "      <td>8.0500</td>\n",
              "      <td>C23 C25 C27</td>\n",
              "      <td>0</td>\n",
              "      <td>3</td>\n",
              "      <td>3</td>\n",
              "      <td>1</td>\n",
              "    </tr>\n",
              "  </tbody>\n",
              "</table>\n",
              "</div>"
            ],
            "text/plain": [
              "   Pclass  ... ticket_numeric\n",
              "0       3  ...              0\n",
              "1       1  ...              0\n",
              "2       3  ...              0\n",
              "3       1  ...              1\n",
              "4       3  ...              1\n",
              "\n",
              "[5 rows x 13 columns]"
            ]
          },
          "metadata": {
            "tags": []
          },
          "execution_count": 51
        }
      ]
    },
    {
      "cell_type": "code",
      "metadata": {
        "id": "2BqbEiNDmESU"
      },
      "source": [
        "# hapus feature 'Name', 'Ticket', 'Cabin', 'family'\n",
        "all_data = all_data.drop(['Name', 'Ticket', 'Cabin'], axis=1)"
      ],
      "execution_count": 52,
      "outputs": []
    },
    {
      "cell_type": "code",
      "metadata": {
        "colab": {
          "base_uri": "https://localhost:8080/",
          "height": 0
        },
        "id": "CyM4UkUBmEVL",
        "outputId": "2d603632-28c0-4344-ea9b-6fcabc7392bb"
      },
      "source": [
        "# recek feature yang telah dihapus\n",
        "all_data.head(3)"
      ],
      "execution_count": 53,
      "outputs": [
        {
          "output_type": "execute_result",
          "data": {
            "text/html": [
              "<div>\n",
              "<style scoped>\n",
              "    .dataframe tbody tr th:only-of-type {\n",
              "        vertical-align: middle;\n",
              "    }\n",
              "\n",
              "    .dataframe tbody tr th {\n",
              "        vertical-align: top;\n",
              "    }\n",
              "\n",
              "    .dataframe thead th {\n",
              "        text-align: right;\n",
              "    }\n",
              "</style>\n",
              "<table border=\"1\" class=\"dataframe\">\n",
              "  <thead>\n",
              "    <tr style=\"text-align: right;\">\n",
              "      <th></th>\n",
              "      <th>Pclass</th>\n",
              "      <th>Sex</th>\n",
              "      <th>Age</th>\n",
              "      <th>SibSp</th>\n",
              "      <th>Parch</th>\n",
              "      <th>Fare</th>\n",
              "      <th>Embarked</th>\n",
              "      <th>cabin_alphabet</th>\n",
              "      <th>cabin_multiple</th>\n",
              "      <th>ticket_numeric</th>\n",
              "    </tr>\n",
              "  </thead>\n",
              "  <tbody>\n",
              "    <tr>\n",
              "      <th>0</th>\n",
              "      <td>3</td>\n",
              "      <td>0</td>\n",
              "      <td>22.0</td>\n",
              "      <td>1</td>\n",
              "      <td>0</td>\n",
              "      <td>7.2500</td>\n",
              "      <td>0</td>\n",
              "      <td>3</td>\n",
              "      <td>3</td>\n",
              "      <td>0</td>\n",
              "    </tr>\n",
              "    <tr>\n",
              "      <th>1</th>\n",
              "      <td>1</td>\n",
              "      <td>1</td>\n",
              "      <td>38.0</td>\n",
              "      <td>1</td>\n",
              "      <td>0</td>\n",
              "      <td>71.2833</td>\n",
              "      <td>1</td>\n",
              "      <td>3</td>\n",
              "      <td>1</td>\n",
              "      <td>0</td>\n",
              "    </tr>\n",
              "    <tr>\n",
              "      <th>2</th>\n",
              "      <td>3</td>\n",
              "      <td>1</td>\n",
              "      <td>26.0</td>\n",
              "      <td>0</td>\n",
              "      <td>0</td>\n",
              "      <td>7.9250</td>\n",
              "      <td>0</td>\n",
              "      <td>3</td>\n",
              "      <td>3</td>\n",
              "      <td>0</td>\n",
              "    </tr>\n",
              "  </tbody>\n",
              "</table>\n",
              "</div>"
            ],
            "text/plain": [
              "   Pclass  Sex   Age  ...  cabin_alphabet  cabin_multiple  ticket_numeric\n",
              "0       3    0  22.0  ...               3               3               0\n",
              "1       1    1  38.0  ...               3               1               0\n",
              "2       3    1  26.0  ...               3               3               0\n",
              "\n",
              "[3 rows x 10 columns]"
            ]
          },
          "metadata": {
            "tags": []
          },
          "execution_count": 53
        }
      ]
    },
    {
      "cell_type": "markdown",
      "metadata": {
        "id": "nMI1AG0BmYSs"
      },
      "source": [
        "### Split Data"
      ]
    },
    {
      "cell_type": "code",
      "metadata": {
        "colab": {
          "base_uri": "https://localhost:8080/"
        },
        "id": "7onO8LV0mEZH",
        "outputId": "4147ed52-6645-4d49-ae34-ec04574bd2e7"
      },
      "source": [
        "# membagi all_data menjadi data train dan test\n",
        "x_train = all_data[:ntrain]\n",
        "x_test = all_data[ntrain:]\n",
        "print(len(train))\n",
        "print(len(test))"
      ],
      "execution_count": 54,
      "outputs": [
        {
          "output_type": "stream",
          "text": [
            "891\n",
            "418\n"
          ],
          "name": "stdout"
        }
      ]
    },
    {
      "cell_type": "code",
      "metadata": {
        "colab": {
          "base_uri": "https://localhost:8080/"
        },
        "id": "ROdrcl0MmEa6",
        "outputId": "dfc5ed20-0170-4f02-fbf2-ac6cb0fe99df"
      },
      "source": [
        "# cek ukuran x train\n",
        "x_train.shape"
      ],
      "execution_count": 55,
      "outputs": [
        {
          "output_type": "execute_result",
          "data": {
            "text/plain": [
              "(891, 10)"
            ]
          },
          "metadata": {
            "tags": []
          },
          "execution_count": 55
        }
      ]
    },
    {
      "cell_type": "code",
      "metadata": {
        "colab": {
          "base_uri": "https://localhost:8080/"
        },
        "id": "Ca90FZIomEdT",
        "outputId": "e42c4cde-f894-4307-8cd6-714d8f6e8a71"
      },
      "source": [
        "# cek ukuran x test\n",
        "x_test.shape"
      ],
      "execution_count": 56,
      "outputs": [
        {
          "output_type": "execute_result",
          "data": {
            "text/plain": [
              "(418, 10)"
            ]
          },
          "metadata": {
            "tags": []
          },
          "execution_count": 56
        }
      ]
    },
    {
      "cell_type": "markdown",
      "metadata": {
        "id": "g5Auk9xPm74A"
      },
      "source": [
        "#MODELING"
      ]
    },
    {
      "cell_type": "code",
      "metadata": {
        "id": "sdJeSeFSmEgV"
      },
      "source": [
        "# import modul yang dibutuhkan  \n",
        "from sklearn.model_selection import cross_val_score\n",
        "from sklearn.naive_bayes import GaussianNB\n",
        "from sklearn.linear_model import LogisticRegression\n",
        "from sklearn import tree\n",
        "from sklearn.tree import DecisionTreeClassifier\n",
        "from sklearn.neighbors import KNeighborsClassifier\n",
        "from sklearn.ensemble import RandomForestClassifier\n",
        "from sklearn.svm import SVC\n",
        "from xgboost import XGBClassifier\n",
        "from sklearn.ensemble import VotingClassifier"
      ],
      "execution_count": 65,
      "outputs": []
    },
    {
      "cell_type": "markdown",
      "metadata": {
        "id": "7y8sgzV7nTs2"
      },
      "source": [
        "Terlebihdahulu lihat kinerja beberapa model berdasarkan parameter default. lihat kinerja model tersebut dengan menggunakan 5 cross validation (cv=5) untuk memperoleh baselinenya."
      ]
    },
    {
      "cell_type": "markdown",
      "metadata": {
        "id": "exfLemNznZTu"
      },
      "source": [
        "#### CROSS VALIDATION"
      ]
    },
    {
      "cell_type": "code",
      "metadata": {
        "colab": {
          "base_uri": "https://localhost:8080/"
        },
        "id": "3nDmDMiCnRA8",
        "outputId": "19a3939f-11bc-4314-965f-efe907cad009"
      },
      "source": [
        "# metode Neive bayes (GaussNB)\n",
        "gauss = GaussianNB()\n",
        "cv = cross_val_score(gauss, x_train, y_train, cv=5)\n",
        "print(cv)\n",
        "print('rata-rata nilai cross validation metode Neive Bayyes : ',cv.mean())\n"
      ],
      "execution_count": 61,
      "outputs": [
        {
          "output_type": "stream",
          "text": [
            "[0.72625698 0.74719101 0.79775281 0.7752809  0.82022472]\n",
            "rata-rata nilai cross validation metode Neive Bayyes :  0.7733412842884941\n"
          ],
          "name": "stdout"
        }
      ]
    },
    {
      "cell_type": "code",
      "metadata": {
        "colab": {
          "base_uri": "https://localhost:8080/"
        },
        "id": "O5FtDFs3nRD7",
        "outputId": "8c2d7965-d1ba-4e9f-bf00-30d269aebb4b"
      },
      "source": [
        "# metode Regresi Logistik\n",
        "logistic_reg =  LogisticRegression(max_iter = 2000)\n",
        "cv = cross_val_score(logistic_reg, x_train, y_train, cv=5)\n",
        "print(cv)\n",
        "print('rata-rata nilai cross validation metode Regresi Logistik : ',cv.mean())"
      ],
      "execution_count": 63,
      "outputs": [
        {
          "output_type": "stream",
          "text": [
            "[0.81564246 0.78651685 0.78651685 0.7752809  0.82022472]\n",
            "rata-rata nilai cross validation metode Regresi Logistik :  0.7968363567886511\n"
          ],
          "name": "stdout"
        }
      ]
    },
    {
      "cell_type": "code",
      "metadata": {
        "colab": {
          "base_uri": "https://localhost:8080/"
        },
        "id": "lHswGu_snRH0",
        "outputId": "7cb10cdf-de41-4cf0-e231-b68ceb25f8ff"
      },
      "source": [
        "# metode Decision Tree\n",
        "tree = tree.DecisionTreeClassifier(random_state = 1)\n",
        "cv = cross_val_score(tree, x_train, y_train, cv=5)\n",
        "print(cv)\n",
        "print('rata-rata nilai cross validation metode Decision Tree : ',cv.mean())"
      ],
      "execution_count": 66,
      "outputs": [
        {
          "output_type": "stream",
          "text": [
            "[0.73743017 0.78651685 0.83146067 0.75842697 0.81460674]\n",
            "rata-rata nilai cross validation metode Decision Tree :  0.7856882807105643\n"
          ],
          "name": "stdout"
        }
      ]
    },
    {
      "cell_type": "code",
      "metadata": {
        "colab": {
          "base_uri": "https://localhost:8080/"
        },
        "id": "VNAngFeFnRLW",
        "outputId": "3a42740f-9532-49fe-9e81-fa408088e661"
      },
      "source": [
        "# metode KNeigbors\n",
        "knn =  KNeighborsClassifier()\n",
        "cv = cross_val_score(knn, x_train, y_train, cv=5)\n",
        "print(cv)\n",
        "print('rata-rata nilai cross validation metode Kneigbors : ',cv.mean())"
      ],
      "execution_count": 67,
      "outputs": [
        {
          "output_type": "stream",
          "text": [
            "[0.63687151 0.63483146 0.71348315 0.70786517 0.74157303]\n",
            "rata-rata nilai cross validation metode Kneigbors :  0.6869248634737304\n"
          ],
          "name": "stdout"
        }
      ]
    },
    {
      "cell_type": "code",
      "metadata": {
        "colab": {
          "base_uri": "https://localhost:8080/"
        },
        "id": "7I_b3-QTnROR",
        "outputId": "b15d6440-19a8-494f-a043-7b7d62ae7c13"
      },
      "source": [
        "# metode Random Forest\n",
        "forest =  RandomForestClassifier(random_state = 1)\n",
        "cv = cross_val_score(forest, x_train, y_train, cv=5)\n",
        "print(cv)\n",
        "print('rata-rata nilai cross validation metode Random Forest : ',cv.mean())"
      ],
      "execution_count": 68,
      "outputs": [
        {
          "output_type": "stream",
          "text": [
            "[0.77653631 0.78651685 0.85955056 0.75280899 0.83707865]\n",
            "rata-rata nilai cross validation metode Random Forest :  0.8024982738057874\n"
          ],
          "name": "stdout"
        }
      ]
    },
    {
      "cell_type": "code",
      "metadata": {
        "colab": {
          "base_uri": "https://localhost:8080/"
        },
        "id": "3uWAvVPxnRQL",
        "outputId": "4d0ca906-7d2a-4f7c-ee48-8432b448b443"
      },
      "source": [
        "# metode SVC\n",
        "scv =  SVC(probability = True)\n",
        "cv = cross_val_score(scv, x_train, y_train, cv=5)\n",
        "print(cv)\n",
        "print('rata-rata nilai cross validation metode SCV : ',cv.mean())"
      ],
      "execution_count": 69,
      "outputs": [
        {
          "output_type": "stream",
          "text": [
            "[0.59217877 0.71348315 0.69101124 0.68539326 0.69101124]\n",
            "rata-rata nilai cross validation metode SCV :  0.674615529470843\n"
          ],
          "name": "stdout"
        }
      ]
    },
    {
      "cell_type": "code",
      "metadata": {
        "colab": {
          "base_uri": "https://localhost:8080/"
        },
        "id": "pFulmH63nRSS",
        "outputId": "27b03166-0b9b-4e3d-aeb9-9cca7ffd6da6"
      },
      "source": [
        "# metode XGBoost\n",
        "xgb =  XGBClassifier(random_state =1)\n",
        "cv = cross_val_score(xgb, x_train, y_train, cv=5)\n",
        "print(cv)\n",
        "print('rata-rata nilai cross validation metode XGBoost : ',cv.mean())"
      ],
      "execution_count": 70,
      "outputs": [
        {
          "output_type": "stream",
          "text": [
            "[0.80446927 0.82022472 0.84831461 0.78651685 0.86516854]\n",
            "rata-rata nilai cross validation metode XGBoost :  0.8249387985688281\n"
          ],
          "name": "stdout"
        }
      ]
    },
    {
      "cell_type": "code",
      "metadata": {
        "colab": {
          "base_uri": "https://localhost:8080/"
        },
        "id": "jaitTIcen6-Z",
        "outputId": "17854220-0752-45e2-9395-22a21ec913d1"
      },
      "source": [
        "from sklearn.ensemble import VotingClassifier\n",
        "# melakukan voting untuk mendapatkan vote populet dari berbagai metode\n",
        "avg_voting = VotingClassifier(estimators = [('gauss', gauss),('logistic_reg', logistic_reg),\n",
        "                                            ('knn', knn),('forest', forest),\n",
        "                                            ('scv', scv), ('xgb', xgb)], voting = 'soft')\n",
        "\n",
        "# Rata-rata score cross validation tiap metode\n",
        "cv = cross_val_score(avg_voting, x_train, y_train, cv=5)\n",
        "print(cv)\n",
        "print('rata-rata nilai cross validation menggunakan voting : ',cv.mean())"
      ],
      "execution_count": 71,
      "outputs": [
        {
          "output_type": "stream",
          "text": [
            "[0.75977654 0.7752809  0.83707865 0.78651685 0.83707865]\n",
            "rata-rata nilai cross validation menggunakan voting :  0.7991463184985249\n"
          ],
          "name": "stdout"
        }
      ]
    },
    {
      "cell_type": "code",
      "metadata": {
        "id": "lhUMZKjSn7Cx"
      },
      "source": [
        "# import modul yang diperlukan\n",
        "from sklearn.model_selection import GridSearchCV \n",
        "from sklearn.model_selection import RandomizedSearchCV "
      ],
      "execution_count": 72,
      "outputs": []
    },
    {
      "cell_type": "markdown",
      "metadata": {
        "id": "ESFX3BotoYOn"
      },
      "source": [
        "### Tone model untuk meningkatkan perfoma model "
      ]
    },
    {
      "cell_type": "code",
      "metadata": {
        "id": "NF7YAD4Un7EH"
      },
      "source": [
        "# fungsi peningkatan model\n",
        "def clf_performance(classifier, model_name):\n",
        "    print(model_name)\n",
        "    print(\"__________________________________________________________________________________\")\n",
        "    print('Best Score: ' + str(classifier.best_score_))\n",
        "    print('Best Parameters: ' + str(classifier.best_params_))\n",
        "    print(\"__________________________________________________________________________________\")"
      ],
      "execution_count": 73,
      "outputs": []
    },
    {
      "cell_type": "code",
      "metadata": {
        "colab": {
          "base_uri": "https://localhost:8080/"
        },
        "id": "lGrloL84n7GQ",
        "outputId": "d5a8d3bb-36da-468c-ad38-e58440562df5"
      },
      "source": [
        "# Tone model Regresi Logistic\n",
        "lr = LogisticRegression()\n",
        "param_grid = {'max_iter' : [2000],\n",
        "              'penalty' : ['l1', 'l2'],\n",
        "              'C' : np.logspace(-4, 4, 20),\n",
        "              'solver' : ['liblinear']}\n",
        "\n",
        "clf_lr = GridSearchCV(lr, param_grid = param_grid, cv = 5, verbose = True, n_jobs = -1)\n",
        "best_clf_lr = clf_lr.fit(x_train,y_train)\n",
        "clf_performance(best_clf_lr,'Logistic Regression')"
      ],
      "execution_count": 74,
      "outputs": [
        {
          "output_type": "stream",
          "text": [
            "Fitting 5 folds for each of 40 candidates, totalling 200 fits\n"
          ],
          "name": "stdout"
        },
        {
          "output_type": "stream",
          "text": [
            "[Parallel(n_jobs=-1)]: Using backend LokyBackend with 2 concurrent workers.\n"
          ],
          "name": "stderr"
        },
        {
          "output_type": "stream",
          "text": [
            "Logistic Regression\n",
            "__________________________________________________________________________________\n",
            "Best Score: 0.8024606113866047\n",
            "Best Parameters: {'C': 0.615848211066026, 'max_iter': 2000, 'penalty': 'l2', 'solver': 'liblinear'}\n",
            "__________________________________________________________________________________\n"
          ],
          "name": "stdout"
        },
        {
          "output_type": "stream",
          "text": [
            "[Parallel(n_jobs=-1)]: Done 200 out of 200 | elapsed:    2.5s finished\n"
          ],
          "name": "stderr"
        }
      ]
    },
    {
      "cell_type": "code",
      "metadata": {
        "colab": {
          "base_uri": "https://localhost:8080/"
        },
        "id": "htzddUQVn7JI",
        "outputId": "9e925a9e-7938-4c3a-cc8b-1e45d6ed807f"
      },
      "source": [
        "# Tone model Kneihbors\n",
        "knn = KNeighborsClassifier()\n",
        "param_grid = {'n_neighbors' : [3,5,7,9],\n",
        "              'weights' : ['uniform', 'distance'],\n",
        "              'algorithm' : ['auto', 'ball_tree','kd_tree'],\n",
        "              'p' : [1,2]}\n",
        "clf_knn = GridSearchCV(knn, param_grid = param_grid, cv = 5, verbose = True, n_jobs = -1)\n",
        "best_clf_knn = clf_knn.fit(x_train,y_train)\n",
        "clf_performance(best_clf_knn,'KNN')"
      ],
      "execution_count": 75,
      "outputs": [
        {
          "output_type": "stream",
          "text": [
            "Fitting 5 folds for each of 48 candidates, totalling 240 fits\n"
          ],
          "name": "stdout"
        },
        {
          "output_type": "stream",
          "text": [
            "[Parallel(n_jobs=-1)]: Using backend LokyBackend with 2 concurrent workers.\n"
          ],
          "name": "stderr"
        },
        {
          "output_type": "stream",
          "text": [
            "KNN\n",
            "__________________________________________________________________________________\n",
            "Best Score: 0.7441529094218818\n",
            "Best Parameters: {'algorithm': 'auto', 'n_neighbors': 3, 'p': 1, 'weights': 'uniform'}\n",
            "__________________________________________________________________________________\n"
          ],
          "name": "stdout"
        },
        {
          "output_type": "stream",
          "text": [
            "[Parallel(n_jobs=-1)]: Done 240 out of 240 | elapsed:    1.8s finished\n"
          ],
          "name": "stderr"
        }
      ]
    },
    {
      "cell_type": "markdown",
      "metadata": {
        "id": "WVrVDuQwq1WS"
      },
      "source": [
        "### Model fix"
      ]
    },
    {
      "cell_type": "code",
      "metadata": {
        "colab": {
          "base_uri": "https://localhost:8080/"
        },
        "id": "RHzE4kpEq3os",
        "outputId": "8eb1d331-5b01-4172-f0f9-6117c93ea775"
      },
      "source": [
        "# pilih model regresi logistik\n",
        "best_clf_lr.fit(x_train, y_train)\n",
        "y_hat_lr = best_clf_lr.predict(x_test).astype(int)\n",
        "\n",
        "# buat dataframe baru submission\n",
        "final_data = {'PassengerId': test.PassengerId, 'Survived': y_hat_lr}\n",
        "submission = pd.DataFrame(data=final_data)"
      ],
      "execution_count": 78,
      "outputs": [
        {
          "output_type": "stream",
          "text": [
            "Fitting 5 folds for each of 40 candidates, totalling 200 fits\n"
          ],
          "name": "stdout"
        },
        {
          "output_type": "stream",
          "text": [
            "[Parallel(n_jobs=-1)]: Using backend LokyBackend with 2 concurrent workers.\n",
            "[Parallel(n_jobs=-1)]: Done 200 out of 200 | elapsed:    2.3s finished\n"
          ],
          "name": "stderr"
        }
      ]
    },
    {
      "cell_type": "code",
      "metadata": {
        "colab": {
          "base_uri": "https://localhost:8080/",
          "height": 419
        },
        "id": "r6qXOCG1q3rW",
        "outputId": "e4c2d008-0c27-4fe6-9dc4-6ff9d282bc8d"
      },
      "source": [
        "# simpan submission\n",
        "submission.to_csv('submission_lr.csv', index =False)\n",
        "submission\n",
        "\n",
        "\n"
      ],
      "execution_count": 79,
      "outputs": [
        {
          "output_type": "execute_result",
          "data": {
            "text/html": [
              "<div>\n",
              "<style scoped>\n",
              "    .dataframe tbody tr th:only-of-type {\n",
              "        vertical-align: middle;\n",
              "    }\n",
              "\n",
              "    .dataframe tbody tr th {\n",
              "        vertical-align: top;\n",
              "    }\n",
              "\n",
              "    .dataframe thead th {\n",
              "        text-align: right;\n",
              "    }\n",
              "</style>\n",
              "<table border=\"1\" class=\"dataframe\">\n",
              "  <thead>\n",
              "    <tr style=\"text-align: right;\">\n",
              "      <th></th>\n",
              "      <th>PassengerId</th>\n",
              "      <th>Survived</th>\n",
              "    </tr>\n",
              "  </thead>\n",
              "  <tbody>\n",
              "    <tr>\n",
              "      <th>0</th>\n",
              "      <td>892</td>\n",
              "      <td>0</td>\n",
              "    </tr>\n",
              "    <tr>\n",
              "      <th>1</th>\n",
              "      <td>893</td>\n",
              "      <td>0</td>\n",
              "    </tr>\n",
              "    <tr>\n",
              "      <th>2</th>\n",
              "      <td>894</td>\n",
              "      <td>0</td>\n",
              "    </tr>\n",
              "    <tr>\n",
              "      <th>3</th>\n",
              "      <td>895</td>\n",
              "      <td>0</td>\n",
              "    </tr>\n",
              "    <tr>\n",
              "      <th>4</th>\n",
              "      <td>896</td>\n",
              "      <td>1</td>\n",
              "    </tr>\n",
              "    <tr>\n",
              "      <th>...</th>\n",
              "      <td>...</td>\n",
              "      <td>...</td>\n",
              "    </tr>\n",
              "    <tr>\n",
              "      <th>413</th>\n",
              "      <td>1305</td>\n",
              "      <td>0</td>\n",
              "    </tr>\n",
              "    <tr>\n",
              "      <th>414</th>\n",
              "      <td>1306</td>\n",
              "      <td>1</td>\n",
              "    </tr>\n",
              "    <tr>\n",
              "      <th>415</th>\n",
              "      <td>1307</td>\n",
              "      <td>0</td>\n",
              "    </tr>\n",
              "    <tr>\n",
              "      <th>416</th>\n",
              "      <td>1308</td>\n",
              "      <td>0</td>\n",
              "    </tr>\n",
              "    <tr>\n",
              "      <th>417</th>\n",
              "      <td>1309</td>\n",
              "      <td>0</td>\n",
              "    </tr>\n",
              "  </tbody>\n",
              "</table>\n",
              "<p>418 rows × 2 columns</p>\n",
              "</div>"
            ],
            "text/plain": [
              "     PassengerId  Survived\n",
              "0            892         0\n",
              "1            893         0\n",
              "2            894         0\n",
              "3            895         0\n",
              "4            896         1\n",
              "..           ...       ...\n",
              "413         1305         0\n",
              "414         1306         1\n",
              "415         1307         0\n",
              "416         1308         0\n",
              "417         1309         0\n",
              "\n",
              "[418 rows x 2 columns]"
            ]
          },
          "metadata": {
            "tags": []
          },
          "execution_count": 79
        }
      ]
    },
    {
      "cell_type": "code",
      "metadata": {
        "id": "8IVSfU8Iq3uR"
      },
      "source": [
        ""
      ],
      "execution_count": null,
      "outputs": []
    },
    {
      "cell_type": "code",
      "metadata": {
        "id": "uHIo_vJ2q3w1"
      },
      "source": [
        ""
      ],
      "execution_count": null,
      "outputs": []
    },
    {
      "cell_type": "code",
      "metadata": {
        "id": "Q_8CSCuVq3z8"
      },
      "source": [
        ""
      ],
      "execution_count": null,
      "outputs": []
    },
    {
      "cell_type": "code",
      "metadata": {
        "id": "XebyUbBBq32F"
      },
      "source": [
        ""
      ],
      "execution_count": null,
      "outputs": []
    },
    {
      "cell_type": "code",
      "metadata": {
        "id": "6RnUZeU6q34W"
      },
      "source": [
        ""
      ],
      "execution_count": null,
      "outputs": []
    },
    {
      "cell_type": "code",
      "metadata": {
        "id": "PHE_zzbnq37Q"
      },
      "source": [
        ""
      ],
      "execution_count": null,
      "outputs": []
    }
  ]
}